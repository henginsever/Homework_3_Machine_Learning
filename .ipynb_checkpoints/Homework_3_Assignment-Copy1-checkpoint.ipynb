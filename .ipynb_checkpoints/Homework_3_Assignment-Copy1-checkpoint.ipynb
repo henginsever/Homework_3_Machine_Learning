{
 "cells": [
  {
   "cell_type": "markdown",
   "metadata": {
    "tags": [],
    "toc-hr-collapsed": true
   },
   "source": [
    "# Homework 3: Machine Learning Tasks (XX/125 points)\n",
    "## Due Monday 12/7/2022 11:59 pm\n",
    "## About Dataset\n",
    "### Data from a semi-conductor manufacturing process\n",
    "\n",
    "Number of Instances: 1567 <br>\n",
    "Area: Computer<br>\n",
    "Attribute Characteristics: Real<br>\n",
    "Number of Attributes: 591<br>\n",
    "Date Donated: 2008-11-19<br>\n",
    "Associated Tasks: Classification, Causal-Discovery<br>\n",
    "Missing Values? Yes<br>\n",
    "\n",
    "A complex modern semi-conductor manufacturing process is normally under consistent\n",
    "surveillance via the monitoring of signals/variables collected from sensors and or\n",
    "process measurement points. However, not all of these signals are equally valuable\n",
    "in a specific monitoring system. The measured signals contain a combination of\n",
    "useful information, irrelevant information as well as noise. It is often the case\n",
    "that useful information is buried in the latter two. Engineers typically have a\n",
    "much larger number of signals than are actually required. If we consider each type\n",
    "of signal as a feature, then feature selection may be applied to identify the most\n",
    "relevant signals. The Process Engineers may then use these signals to determine key\n",
    "factors contributing to yield excursions downstream in the process. This will\n",
    "enable an increase in process throughput, decreased time to learning and reduce the per unit production costs.\n",
    "\n",
    "To enhance current business improvement techniques the application of feature\n",
    "selection as an intelligent systems technique is being investigated.\n",
    "\n",
    "The dataset presented in this case represents a selection of such features where\n",
    "each example represents a single production entity with associated measured\n",
    "features and the labels represent a simple pass/fail yield for in-house line testing, figure 2, and associated date time stamp. Where -1 corresponds to a pass\n",
    "and 1 corresponds to a fail and the data time stamp is for that specific test\n",
    "point.\n",
    "\n",
    "This homework assignment will walk you through how to tackle this real problem. \n",
    "\n",
    "It is worth noting that this is an actual dataset and thus the problem is not fully tractable. Like many real problems, sometimes you do not have the necessary information to make a perfect solution. We want a useful and informative solution. "
   ]
  },
  {
   "cell_type": "code",
   "execution_count": 1,
   "metadata": {},
   "outputs": [],
   "source": [
    "## Here are some packages and modules that you will use. Make sure they are installed.\n",
    "\n",
    "# for basic operations\n",
    "import numpy as np \n",
    "import pandas as pd \n",
    "\n",
    "# for visualizations\n",
    "import matplotlib.pyplot as plt\n",
    "import seaborn as sns\n",
    "\n",
    "# for modeling \n",
    "from sklearn.metrics import confusion_matrix\n",
    "from sklearn.model_selection import GridSearchCV\n",
    "from sklearn.model_selection import train_test_split\n",
    "from sklearn.preprocessing import StandardScaler\n",
    "from sklearn.ensemble import RandomForestClassifier\n",
    "from sklearn.linear_model import LogisticRegression\n",
    "from sklearn.metrics import classification_report, confusion_matrix\n",
    "from sklearn.pipeline import Pipeline\n",
    "from sklearn.decomposition import PCA\n",
    "\n",
    "import plotly_express as px\n",
    "\n",
    "from imblearn.over_sampling import SMOTE\n",
    "\n",
    "# to avoid warnings\n",
    "import warnings\n",
    "warnings.filterwarnings(\"ignore\", category=DeprecationWarning)\n"
   ]
  },
  {
   "cell_type": "markdown",
   "metadata": {
    "tags": []
   },
   "source": [
    "## Loading the data (5 points)\n",
    "\n",
    "1. The data file is in a file called `uci-secom.csv` scikit-learn works well with pandas. It is recommended that you read the csv into a pandas array.\n",
    "2. It is useful to print the shape of the output array to know what the data is that you are working with\n"
   ]
  },
  {
   "cell_type": "code",
   "execution_count": 2,
   "metadata": {},
   "outputs": [],
   "source": [
    "df = pd.read_csv(\"uci-secom.csv\")"
   ]
  },
  {
   "cell_type": "markdown",
   "metadata": {
    "tags": []
   },
   "source": [
    "3. Pandas has a built-in method called head that shows the first few rows, this is useful to see what the data looks like "
   ]
  },
  {
   "cell_type": "code",
   "execution_count": 3,
   "metadata": {},
   "outputs": [
    {
     "data": {
      "text/html": [
       "<div>\n",
       "<style scoped>\n",
       "    .dataframe tbody tr th:only-of-type {\n",
       "        vertical-align: middle;\n",
       "    }\n",
       "\n",
       "    .dataframe tbody tr th {\n",
       "        vertical-align: top;\n",
       "    }\n",
       "\n",
       "    .dataframe thead th {\n",
       "        text-align: right;\n",
       "    }\n",
       "</style>\n",
       "<table border=\"1\" class=\"dataframe\">\n",
       "  <thead>\n",
       "    <tr style=\"text-align: right;\">\n",
       "      <th></th>\n",
       "      <th>Time</th>\n",
       "      <th>0</th>\n",
       "      <th>1</th>\n",
       "      <th>2</th>\n",
       "      <th>3</th>\n",
       "      <th>4</th>\n",
       "      <th>5</th>\n",
       "      <th>6</th>\n",
       "      <th>7</th>\n",
       "      <th>8</th>\n",
       "      <th>...</th>\n",
       "      <th>581</th>\n",
       "      <th>582</th>\n",
       "      <th>583</th>\n",
       "      <th>584</th>\n",
       "      <th>585</th>\n",
       "      <th>586</th>\n",
       "      <th>587</th>\n",
       "      <th>588</th>\n",
       "      <th>589</th>\n",
       "      <th>Pass/Fail</th>\n",
       "    </tr>\n",
       "  </thead>\n",
       "  <tbody>\n",
       "    <tr>\n",
       "      <th>0</th>\n",
       "      <td>2008-07-19 11:55:00</td>\n",
       "      <td>3030.93</td>\n",
       "      <td>2564.00</td>\n",
       "      <td>2187.7333</td>\n",
       "      <td>1411.1265</td>\n",
       "      <td>1.3602</td>\n",
       "      <td>100.0</td>\n",
       "      <td>97.6133</td>\n",
       "      <td>0.1242</td>\n",
       "      <td>1.5005</td>\n",
       "      <td>...</td>\n",
       "      <td>NaN</td>\n",
       "      <td>0.5005</td>\n",
       "      <td>0.0118</td>\n",
       "      <td>0.0035</td>\n",
       "      <td>2.3630</td>\n",
       "      <td>NaN</td>\n",
       "      <td>NaN</td>\n",
       "      <td>NaN</td>\n",
       "      <td>NaN</td>\n",
       "      <td>-1</td>\n",
       "    </tr>\n",
       "    <tr>\n",
       "      <th>1</th>\n",
       "      <td>2008-07-19 12:32:00</td>\n",
       "      <td>3095.78</td>\n",
       "      <td>2465.14</td>\n",
       "      <td>2230.4222</td>\n",
       "      <td>1463.6606</td>\n",
       "      <td>0.8294</td>\n",
       "      <td>100.0</td>\n",
       "      <td>102.3433</td>\n",
       "      <td>0.1247</td>\n",
       "      <td>1.4966</td>\n",
       "      <td>...</td>\n",
       "      <td>208.2045</td>\n",
       "      <td>0.5019</td>\n",
       "      <td>0.0223</td>\n",
       "      <td>0.0055</td>\n",
       "      <td>4.4447</td>\n",
       "      <td>0.0096</td>\n",
       "      <td>0.0201</td>\n",
       "      <td>0.0060</td>\n",
       "      <td>208.2045</td>\n",
       "      <td>-1</td>\n",
       "    </tr>\n",
       "    <tr>\n",
       "      <th>2</th>\n",
       "      <td>2008-07-19 13:17:00</td>\n",
       "      <td>2932.61</td>\n",
       "      <td>2559.94</td>\n",
       "      <td>2186.4111</td>\n",
       "      <td>1698.0172</td>\n",
       "      <td>1.5102</td>\n",
       "      <td>100.0</td>\n",
       "      <td>95.4878</td>\n",
       "      <td>0.1241</td>\n",
       "      <td>1.4436</td>\n",
       "      <td>...</td>\n",
       "      <td>82.8602</td>\n",
       "      <td>0.4958</td>\n",
       "      <td>0.0157</td>\n",
       "      <td>0.0039</td>\n",
       "      <td>3.1745</td>\n",
       "      <td>0.0584</td>\n",
       "      <td>0.0484</td>\n",
       "      <td>0.0148</td>\n",
       "      <td>82.8602</td>\n",
       "      <td>1</td>\n",
       "    </tr>\n",
       "    <tr>\n",
       "      <th>3</th>\n",
       "      <td>2008-07-19 14:43:00</td>\n",
       "      <td>2988.72</td>\n",
       "      <td>2479.90</td>\n",
       "      <td>2199.0333</td>\n",
       "      <td>909.7926</td>\n",
       "      <td>1.3204</td>\n",
       "      <td>100.0</td>\n",
       "      <td>104.2367</td>\n",
       "      <td>0.1217</td>\n",
       "      <td>1.4882</td>\n",
       "      <td>...</td>\n",
       "      <td>73.8432</td>\n",
       "      <td>0.4990</td>\n",
       "      <td>0.0103</td>\n",
       "      <td>0.0025</td>\n",
       "      <td>2.0544</td>\n",
       "      <td>0.0202</td>\n",
       "      <td>0.0149</td>\n",
       "      <td>0.0044</td>\n",
       "      <td>73.8432</td>\n",
       "      <td>-1</td>\n",
       "    </tr>\n",
       "    <tr>\n",
       "      <th>4</th>\n",
       "      <td>2008-07-19 15:22:00</td>\n",
       "      <td>3032.24</td>\n",
       "      <td>2502.87</td>\n",
       "      <td>2233.3667</td>\n",
       "      <td>1326.5200</td>\n",
       "      <td>1.5334</td>\n",
       "      <td>100.0</td>\n",
       "      <td>100.3967</td>\n",
       "      <td>0.1235</td>\n",
       "      <td>1.5031</td>\n",
       "      <td>...</td>\n",
       "      <td>NaN</td>\n",
       "      <td>0.4800</td>\n",
       "      <td>0.4766</td>\n",
       "      <td>0.1045</td>\n",
       "      <td>99.3032</td>\n",
       "      <td>0.0202</td>\n",
       "      <td>0.0149</td>\n",
       "      <td>0.0044</td>\n",
       "      <td>73.8432</td>\n",
       "      <td>-1</td>\n",
       "    </tr>\n",
       "  </tbody>\n",
       "</table>\n",
       "<p>5 rows × 592 columns</p>\n",
       "</div>"
      ],
      "text/plain": [
       "                  Time        0        1          2          3       4      5  \\\n",
       "0  2008-07-19 11:55:00  3030.93  2564.00  2187.7333  1411.1265  1.3602  100.0   \n",
       "1  2008-07-19 12:32:00  3095.78  2465.14  2230.4222  1463.6606  0.8294  100.0   \n",
       "2  2008-07-19 13:17:00  2932.61  2559.94  2186.4111  1698.0172  1.5102  100.0   \n",
       "3  2008-07-19 14:43:00  2988.72  2479.90  2199.0333   909.7926  1.3204  100.0   \n",
       "4  2008-07-19 15:22:00  3032.24  2502.87  2233.3667  1326.5200  1.5334  100.0   \n",
       "\n",
       "          6       7       8  ...       581     582     583     584      585  \\\n",
       "0   97.6133  0.1242  1.5005  ...       NaN  0.5005  0.0118  0.0035   2.3630   \n",
       "1  102.3433  0.1247  1.4966  ...  208.2045  0.5019  0.0223  0.0055   4.4447   \n",
       "2   95.4878  0.1241  1.4436  ...   82.8602  0.4958  0.0157  0.0039   3.1745   \n",
       "3  104.2367  0.1217  1.4882  ...   73.8432  0.4990  0.0103  0.0025   2.0544   \n",
       "4  100.3967  0.1235  1.5031  ...       NaN  0.4800  0.4766  0.1045  99.3032   \n",
       "\n",
       "      586     587     588       589  Pass/Fail  \n",
       "0     NaN     NaN     NaN       NaN         -1  \n",
       "1  0.0096  0.0201  0.0060  208.2045         -1  \n",
       "2  0.0584  0.0484  0.0148   82.8602          1  \n",
       "3  0.0202  0.0149  0.0044   73.8432         -1  \n",
       "4  0.0202  0.0149  0.0044   73.8432         -1  \n",
       "\n",
       "[5 rows x 592 columns]"
      ]
     },
     "execution_count": 3,
     "metadata": {},
     "output_type": "execute_result"
    }
   ],
   "source": [
    "df.head()"
   ]
  },
  {
   "cell_type": "markdown",
   "metadata": {
    "tags": []
   },
   "source": [
    "## Filtering Data (5 points)\n",
    "\n",
    "Real data is usually a mess. There could be missing points, outliers, and features that could have vastly different values and ranges. \n",
    "* Machine learning models are influenced heavily by these problems \n"
   ]
  },
  {
   "cell_type": "markdown",
   "metadata": {
    "tags": []
   },
   "source": [
    "### Fixing Missing Values (5 Points)\n",
    "\n",
    "1. It is not uncommon that some of the features have only a few entries. These are not helpful for machine learning. We should just remove these features from the data\n",
    "\n",
    "It is good to visualize how many missing values each feature has."
   ]
  },
  {
   "cell_type": "markdown",
   "metadata": {
    "tags": []
   },
   "source": [
    "### Plotting the Missing Data Entries (5 points)\n",
    "\n",
    "Hint: you can find the nan values with the `.isna()` method, and the sum using `.sum()`\n",
    "\n",
    "You can plot the data using `px.histogram`"
   ]
  },
  {
   "cell_type": "code",
   "execution_count": 4,
   "metadata": {},
   "outputs": [
    {
     "data": {
      "text/html": [
       "<div>\n",
       "<style scoped>\n",
       "    .dataframe tbody tr th:only-of-type {\n",
       "        vertical-align: middle;\n",
       "    }\n",
       "\n",
       "    .dataframe tbody tr th {\n",
       "        vertical-align: top;\n",
       "    }\n",
       "\n",
       "    .dataframe thead th {\n",
       "        text-align: right;\n",
       "    }\n",
       "</style>\n",
       "<table border=\"1\" class=\"dataframe\">\n",
       "  <thead>\n",
       "    <tr style=\"text-align: right;\">\n",
       "      <th></th>\n",
       "      <th>Time</th>\n",
       "      <th>0</th>\n",
       "      <th>1</th>\n",
       "      <th>2</th>\n",
       "      <th>3</th>\n",
       "      <th>4</th>\n",
       "      <th>5</th>\n",
       "      <th>6</th>\n",
       "      <th>7</th>\n",
       "      <th>8</th>\n",
       "      <th>...</th>\n",
       "      <th>581</th>\n",
       "      <th>582</th>\n",
       "      <th>583</th>\n",
       "      <th>584</th>\n",
       "      <th>585</th>\n",
       "      <th>586</th>\n",
       "      <th>587</th>\n",
       "      <th>588</th>\n",
       "      <th>589</th>\n",
       "      <th>Pass/Fail</th>\n",
       "    </tr>\n",
       "  </thead>\n",
       "  <tbody>\n",
       "    <tr>\n",
       "      <th>0</th>\n",
       "      <td>False</td>\n",
       "      <td>False</td>\n",
       "      <td>False</td>\n",
       "      <td>False</td>\n",
       "      <td>False</td>\n",
       "      <td>False</td>\n",
       "      <td>False</td>\n",
       "      <td>False</td>\n",
       "      <td>False</td>\n",
       "      <td>False</td>\n",
       "      <td>...</td>\n",
       "      <td>True</td>\n",
       "      <td>False</td>\n",
       "      <td>False</td>\n",
       "      <td>False</td>\n",
       "      <td>False</td>\n",
       "      <td>True</td>\n",
       "      <td>True</td>\n",
       "      <td>True</td>\n",
       "      <td>True</td>\n",
       "      <td>False</td>\n",
       "    </tr>\n",
       "    <tr>\n",
       "      <th>1</th>\n",
       "      <td>False</td>\n",
       "      <td>False</td>\n",
       "      <td>False</td>\n",
       "      <td>False</td>\n",
       "      <td>False</td>\n",
       "      <td>False</td>\n",
       "      <td>False</td>\n",
       "      <td>False</td>\n",
       "      <td>False</td>\n",
       "      <td>False</td>\n",
       "      <td>...</td>\n",
       "      <td>False</td>\n",
       "      <td>False</td>\n",
       "      <td>False</td>\n",
       "      <td>False</td>\n",
       "      <td>False</td>\n",
       "      <td>False</td>\n",
       "      <td>False</td>\n",
       "      <td>False</td>\n",
       "      <td>False</td>\n",
       "      <td>False</td>\n",
       "    </tr>\n",
       "    <tr>\n",
       "      <th>2</th>\n",
       "      <td>False</td>\n",
       "      <td>False</td>\n",
       "      <td>False</td>\n",
       "      <td>False</td>\n",
       "      <td>False</td>\n",
       "      <td>False</td>\n",
       "      <td>False</td>\n",
       "      <td>False</td>\n",
       "      <td>False</td>\n",
       "      <td>False</td>\n",
       "      <td>...</td>\n",
       "      <td>False</td>\n",
       "      <td>False</td>\n",
       "      <td>False</td>\n",
       "      <td>False</td>\n",
       "      <td>False</td>\n",
       "      <td>False</td>\n",
       "      <td>False</td>\n",
       "      <td>False</td>\n",
       "      <td>False</td>\n",
       "      <td>False</td>\n",
       "    </tr>\n",
       "    <tr>\n",
       "      <th>3</th>\n",
       "      <td>False</td>\n",
       "      <td>False</td>\n",
       "      <td>False</td>\n",
       "      <td>False</td>\n",
       "      <td>False</td>\n",
       "      <td>False</td>\n",
       "      <td>False</td>\n",
       "      <td>False</td>\n",
       "      <td>False</td>\n",
       "      <td>False</td>\n",
       "      <td>...</td>\n",
       "      <td>False</td>\n",
       "      <td>False</td>\n",
       "      <td>False</td>\n",
       "      <td>False</td>\n",
       "      <td>False</td>\n",
       "      <td>False</td>\n",
       "      <td>False</td>\n",
       "      <td>False</td>\n",
       "      <td>False</td>\n",
       "      <td>False</td>\n",
       "    </tr>\n",
       "    <tr>\n",
       "      <th>4</th>\n",
       "      <td>False</td>\n",
       "      <td>False</td>\n",
       "      <td>False</td>\n",
       "      <td>False</td>\n",
       "      <td>False</td>\n",
       "      <td>False</td>\n",
       "      <td>False</td>\n",
       "      <td>False</td>\n",
       "      <td>False</td>\n",
       "      <td>False</td>\n",
       "      <td>...</td>\n",
       "      <td>True</td>\n",
       "      <td>False</td>\n",
       "      <td>False</td>\n",
       "      <td>False</td>\n",
       "      <td>False</td>\n",
       "      <td>False</td>\n",
       "      <td>False</td>\n",
       "      <td>False</td>\n",
       "      <td>False</td>\n",
       "      <td>False</td>\n",
       "    </tr>\n",
       "    <tr>\n",
       "      <th>...</th>\n",
       "      <td>...</td>\n",
       "      <td>...</td>\n",
       "      <td>...</td>\n",
       "      <td>...</td>\n",
       "      <td>...</td>\n",
       "      <td>...</td>\n",
       "      <td>...</td>\n",
       "      <td>...</td>\n",
       "      <td>...</td>\n",
       "      <td>...</td>\n",
       "      <td>...</td>\n",
       "      <td>...</td>\n",
       "      <td>...</td>\n",
       "      <td>...</td>\n",
       "      <td>...</td>\n",
       "      <td>...</td>\n",
       "      <td>...</td>\n",
       "      <td>...</td>\n",
       "      <td>...</td>\n",
       "      <td>...</td>\n",
       "      <td>...</td>\n",
       "    </tr>\n",
       "    <tr>\n",
       "      <th>1562</th>\n",
       "      <td>False</td>\n",
       "      <td>False</td>\n",
       "      <td>False</td>\n",
       "      <td>False</td>\n",
       "      <td>False</td>\n",
       "      <td>False</td>\n",
       "      <td>False</td>\n",
       "      <td>False</td>\n",
       "      <td>False</td>\n",
       "      <td>False</td>\n",
       "      <td>...</td>\n",
       "      <td>False</td>\n",
       "      <td>False</td>\n",
       "      <td>False</td>\n",
       "      <td>False</td>\n",
       "      <td>False</td>\n",
       "      <td>False</td>\n",
       "      <td>False</td>\n",
       "      <td>False</td>\n",
       "      <td>False</td>\n",
       "      <td>False</td>\n",
       "    </tr>\n",
       "    <tr>\n",
       "      <th>1563</th>\n",
       "      <td>False</td>\n",
       "      <td>False</td>\n",
       "      <td>False</td>\n",
       "      <td>False</td>\n",
       "      <td>False</td>\n",
       "      <td>False</td>\n",
       "      <td>False</td>\n",
       "      <td>False</td>\n",
       "      <td>False</td>\n",
       "      <td>False</td>\n",
       "      <td>...</td>\n",
       "      <td>True</td>\n",
       "      <td>False</td>\n",
       "      <td>False</td>\n",
       "      <td>False</td>\n",
       "      <td>False</td>\n",
       "      <td>False</td>\n",
       "      <td>False</td>\n",
       "      <td>False</td>\n",
       "      <td>False</td>\n",
       "      <td>False</td>\n",
       "    </tr>\n",
       "    <tr>\n",
       "      <th>1564</th>\n",
       "      <td>False</td>\n",
       "      <td>False</td>\n",
       "      <td>False</td>\n",
       "      <td>False</td>\n",
       "      <td>False</td>\n",
       "      <td>False</td>\n",
       "      <td>False</td>\n",
       "      <td>False</td>\n",
       "      <td>False</td>\n",
       "      <td>True</td>\n",
       "      <td>...</td>\n",
       "      <td>False</td>\n",
       "      <td>False</td>\n",
       "      <td>False</td>\n",
       "      <td>False</td>\n",
       "      <td>False</td>\n",
       "      <td>False</td>\n",
       "      <td>False</td>\n",
       "      <td>False</td>\n",
       "      <td>False</td>\n",
       "      <td>False</td>\n",
       "    </tr>\n",
       "    <tr>\n",
       "      <th>1565</th>\n",
       "      <td>False</td>\n",
       "      <td>False</td>\n",
       "      <td>False</td>\n",
       "      <td>False</td>\n",
       "      <td>False</td>\n",
       "      <td>False</td>\n",
       "      <td>False</td>\n",
       "      <td>False</td>\n",
       "      <td>False</td>\n",
       "      <td>False</td>\n",
       "      <td>...</td>\n",
       "      <td>False</td>\n",
       "      <td>False</td>\n",
       "      <td>False</td>\n",
       "      <td>False</td>\n",
       "      <td>False</td>\n",
       "      <td>False</td>\n",
       "      <td>False</td>\n",
       "      <td>False</td>\n",
       "      <td>False</td>\n",
       "      <td>False</td>\n",
       "    </tr>\n",
       "    <tr>\n",
       "      <th>1566</th>\n",
       "      <td>False</td>\n",
       "      <td>False</td>\n",
       "      <td>False</td>\n",
       "      <td>False</td>\n",
       "      <td>False</td>\n",
       "      <td>False</td>\n",
       "      <td>False</td>\n",
       "      <td>False</td>\n",
       "      <td>False</td>\n",
       "      <td>True</td>\n",
       "      <td>...</td>\n",
       "      <td>False</td>\n",
       "      <td>False</td>\n",
       "      <td>False</td>\n",
       "      <td>False</td>\n",
       "      <td>False</td>\n",
       "      <td>False</td>\n",
       "      <td>False</td>\n",
       "      <td>False</td>\n",
       "      <td>False</td>\n",
       "      <td>False</td>\n",
       "    </tr>\n",
       "  </tbody>\n",
       "</table>\n",
       "<p>1567 rows × 592 columns</p>\n",
       "</div>"
      ],
      "text/plain": [
       "       Time      0      1      2      3      4      5      6      7      8  \\\n",
       "0     False  False  False  False  False  False  False  False  False  False   \n",
       "1     False  False  False  False  False  False  False  False  False  False   \n",
       "2     False  False  False  False  False  False  False  False  False  False   \n",
       "3     False  False  False  False  False  False  False  False  False  False   \n",
       "4     False  False  False  False  False  False  False  False  False  False   \n",
       "...     ...    ...    ...    ...    ...    ...    ...    ...    ...    ...   \n",
       "1562  False  False  False  False  False  False  False  False  False  False   \n",
       "1563  False  False  False  False  False  False  False  False  False  False   \n",
       "1564  False  False  False  False  False  False  False  False  False   True   \n",
       "1565  False  False  False  False  False  False  False  False  False  False   \n",
       "1566  False  False  False  False  False  False  False  False  False   True   \n",
       "\n",
       "      ...    581    582    583    584    585    586    587    588    589  \\\n",
       "0     ...   True  False  False  False  False   True   True   True   True   \n",
       "1     ...  False  False  False  False  False  False  False  False  False   \n",
       "2     ...  False  False  False  False  False  False  False  False  False   \n",
       "3     ...  False  False  False  False  False  False  False  False  False   \n",
       "4     ...   True  False  False  False  False  False  False  False  False   \n",
       "...   ...    ...    ...    ...    ...    ...    ...    ...    ...    ...   \n",
       "1562  ...  False  False  False  False  False  False  False  False  False   \n",
       "1563  ...   True  False  False  False  False  False  False  False  False   \n",
       "1564  ...  False  False  False  False  False  False  False  False  False   \n",
       "1565  ...  False  False  False  False  False  False  False  False  False   \n",
       "1566  ...  False  False  False  False  False  False  False  False  False   \n",
       "\n",
       "      Pass/Fail  \n",
       "0         False  \n",
       "1         False  \n",
       "2         False  \n",
       "3         False  \n",
       "4         False  \n",
       "...         ...  \n",
       "1562      False  \n",
       "1563      False  \n",
       "1564      False  \n",
       "1565      False  \n",
       "1566      False  \n",
       "\n",
       "[1567 rows x 592 columns]"
      ]
     },
     "execution_count": 4,
     "metadata": {},
     "output_type": "execute_result"
    }
   ],
   "source": [
    "df.isna()"
   ]
  },
  {
   "cell_type": "code",
   "execution_count": 5,
   "metadata": {},
   "outputs": [
    {
     "data": {
      "text/plain": [
       "Time          0\n",
       "0             6\n",
       "1             7\n",
       "2            14\n",
       "3            14\n",
       "             ..\n",
       "586           1\n",
       "587           1\n",
       "588           1\n",
       "589           1\n",
       "Pass/Fail     0\n",
       "Length: 592, dtype: int64"
      ]
     },
     "execution_count": 5,
     "metadata": {},
     "output_type": "execute_result"
    }
   ],
   "source": [
    "nan_count_column = df.isna().sum()\n",
    "nan_count_column"
   ]
  },
  {
   "cell_type": "code",
   "execution_count": 10,
   "metadata": {},
   "outputs": [
    {
     "data": {
      "application/vnd.plotly.v1+json": {
       "config": {
        "plotlyServerURL": "https://plot.ly"
       },
       "data": [
        {
         "alignmentgroup": "True",
         "bingroup": "x",
         "hovertemplate": "1=%{x}<br>count=%{y}<extra></extra>",
         "legendgroup": "",
         "marker": {
          "color": "#636efa",
          "pattern": {
           "shape": ""
          }
         },
         "name": "",
         "offsetgroup": "",
         "orientation": "v",
         "showlegend": false,
         "type": "histogram",
         "x": [
          2564,
          2465.14,
          2559.94,
          2479.9,
          2502.87,
          2432.84,
          2430.12,
          2690.15,
          2600.47,
          2428.37,
          2548.21,
          2479.4,
          2507.4,
          2529.27,
          2629.48,
          2546.26,
          2560.87,
          2517.79,
          2501.16,
          2519.05,
          2528.81,
          2481.85,
          2497.45,
          2514.54,
          2632.8,
          2446.56,
          2456.33,
          2607.63,
          2431.57,
          2529.11,
          2489.7,
          2492.36,
          2524.18,
          2566.35,
          2457.64,
          2477.35,
          2445.44,
          2302.46,
          2542.24,
          2530.67,
          2545.71,
          2517.18,
          2503.46,
          2748.67,
          2490.71,
          2446.25,
          2475.53,
          2788.4,
          2345.95,
          2533.91,
          2446.74,
          2520.21,
          2466.78,
          2484.31,
          2398.44,
          2809.79,
          2569.81,
          2586.05,
          2388.74,
          2481.28,
          2694.31,
          2541.92,
          2483.66,
          2492.8,
          2628.76,
          2461.38,
          2544.52,
          2508.28,
          2702.64,
          2565.8,
          2315.76,
          2375.49,
          2623.1,
          2424.37,
          2450.25,
          2492.29,
          2500.41,
          2505.73,
          2500.81,
          2531.75,
          2537.35,
          2417.85,
          2502.62,
          2459.87,
          2503.59,
          2565.03,
          2739.19,
          2655.37,
          2531.98,
          2414.83,
          2519.68,
          2547.43,
          2447.89,
          2478.55,
          2545.34,
          2560.99,
          2467.07,
          2453.82,
          2537.9,
          2544.52,
          2526.82,
          2439.13,
          2459.62,
          2436.17,
          2523.08,
          2474.05,
          2433.96,
          2607.75,
          2479.17,
          2395.85,
          2437.69,
          2583.78,
          2485.57,
          2523.21,
          2418.83,
          2502.05,
          2307.24,
          2810.12,
          2496.73,
          2512.49,
          2481.43,
          2495.35,
          2518.21,
          2468.33,
          2534.74,
          2416.73,
          2460.08,
          2690.99,
          2502.96,
          2481.09,
          2634.3,
          2714.3,
          2531.34,
          2432.85,
          2477.86,
          2567.29,
          2490.86,
          2497.58,
          2576.84,
          2473.27,
          2581.07,
          2587.6,
          2364.73,
          2374.5,
          2539.37,
          2394.58,
          2406.22,
          2515.3,
          2581.93,
          2537.4,
          2522.16,
          2494.55,
          2560.67,
          2557.94,
          2359.01,
          2525.33,
          2492.14,
          2491.19,
          2524.44,
          2456.17,
          2468.41,
          2546.75,
          2517.09,
          2474.32,
          2447.29,
          2581.18,
          2469.6,
          2529.16,
          2493.32,
          2508.56,
          2465.07,
          2335.06,
          2576.94,
          2320.05,
          2486.59,
          2521.23,
          2505.4,
          2501.93,
          2514.66,
          2480.64,
          2504.38,
          2543.11,
          2497.03,
          2455.14,
          2485,
          2511.09,
          2509.65,
          2662.19,
          2391.71,
          2480.9,
          2553.6,
          2487.16,
          2436.12,
          2521.24,
          2401.53,
          2559.12,
          2553.04,
          2496.56,
          2538.75,
          2706.54,
          2550.51,
          2511.14,
          2632.88,
          2279.48,
          2384.66,
          2551.84,
          2559.07,
          2539.78,
          2540.95,
          2464.39,
          2506.27,
          2332.39,
          2526.22,
          2631.47,
          2491.55,
          2466.36,
          2441.61,
          2162.87,
          2521.84,
          2480.54,
          2548.95,
          2439.31,
          2463.11,
          2474.95,
          2502.62,
          2287.9,
          2470.14,
          2472.13,
          2489.91,
          2257.81,
          2378.95,
          null,
          2444.55,
          2478.99,
          2604.26,
          2490.25,
          2458.15,
          2494.37,
          2444.09,
          2344.91,
          2483.06,
          2467.49,
          2491.6,
          2593.63,
          2470.81,
          2616.63,
          2509.8,
          2483.74,
          2549.73,
          2402.57,
          2463.51,
          2382.03,
          2513.68,
          2570.13,
          2523.55,
          2549.89,
          2349.48,
          2498.28,
          2308.6,
          2494.25,
          2460.94,
          2483.97,
          2570.42,
          2464.8,
          2377.27,
          2561.1,
          2581.67,
          2610.78,
          2503.32,
          2443.68,
          2291.92,
          2587.27,
          2554.29,
          2575.68,
          2337.96,
          2575.71,
          2734.33,
          2408.46,
          2488.5,
          2513.05,
          2573.74,
          2374.64,
          2522.9,
          2537.88,
          2539.73,
          2629.06,
          2533.49,
          2693.16,
          2535.19,
          2509.19,
          2786.97,
          2672.94,
          2459.56,
          2457.92,
          2509.24,
          2467.11,
          2533.75,
          2505.03,
          2356.94,
          2524.25,
          2611.21,
          2486.48,
          2487.46,
          null,
          2436.77,
          2483.52,
          2417.7,
          2312.14,
          2414.48,
          2477.46,
          2453.54,
          2540.19,
          2515.55,
          2520.85,
          2529.42,
          2461.89,
          2575.71,
          2450.48,
          2512.51,
          2421.45,
          2442.26,
          2526.22,
          2413.92,
          2286.25,
          2584.15,
          2393.78,
          2499.72,
          2559.27,
          2490.06,
          2431.54,
          2526.29,
          2273.46,
          2496.08,
          2405.53,
          2475.67,
          2484.62,
          2551.17,
          2412.41,
          2273.8,
          2453.47,
          2531.63,
          2567.68,
          2512.99,
          2536.56,
          2439.82,
          2453.91,
          2478.62,
          2709.45,
          2379.96,
          2569.58,
          2517.54,
          2517.34,
          2391.47,
          2408.4,
          2479.69,
          2503.69,
          2495.4,
          2226.99,
          2450.05,
          2590.8,
          2421.45,
          2270.68,
          2401.8,
          2547.84,
          2333.96,
          2460.91,
          2546.27,
          2516.11,
          2574.32,
          2456.65,
          2510.08,
          2475.5,
          2605.26,
          2478.88,
          2502.34,
          2479.93,
          2512.14,
          2288.05,
          2462.82,
          2523.6,
          2513.28,
          2560.91,
          2436.01,
          2305.52,
          2375.55,
          2570.93,
          2311.42,
          2555.49,
          2474.41,
          2578.76,
          2434,
          2566.22,
          2488.76,
          2512.97,
          2491.13,
          2371.45,
          2478.97,
          2735.65,
          2310.29,
          2533.52,
          2441.22,
          2318.95,
          2587.3,
          2490.54,
          2490.92,
          2501.63,
          2518.96,
          2502.06,
          2364.31,
          2419.83,
          2514.3,
          2488.49,
          2501.88,
          2536.43,
          2467.94,
          2577.27,
          2532.88,
          2434.32,
          2535.82,
          2539.46,
          2675.58,
          2460.11,
          2436.69,
          2281.3,
          2297.3,
          2405.56,
          2541.21,
          2364.78,
          2457.08,
          2396.4,
          2592.29,
          2439,
          2506.39,
          2605.48,
          2417.04,
          2526.73,
          2489.47,
          2496.54,
          2467.8,
          2370.5,
          2500.27,
          2514.95,
          2644.32,
          2354.51,
          2656.84,
          2601.98,
          2653.23,
          2505.83,
          2523.71,
          2516.11,
          2446.96,
          2406.58,
          2481.04,
          2520.91,
          2474.97,
          2534.62,
          2460.19,
          2490.68,
          2611.98,
          2501.03,
          2705.16,
          2378.77,
          2481.59,
          2362.09,
          2673.41,
          2556.22,
          2473.49,
          2636.69,
          2465.16,
          2531.25,
          2504.5,
          2570.13,
          2412.53,
          2187.67,
          2566.94,
          2500.59,
          2459.21,
          2558.81,
          2493.12,
          2377.89,
          2340.05,
          2425.16,
          2441.12,
          2521.76,
          2459.39,
          2485.5,
          2446.92,
          2406.4,
          2550.52,
          2391.09,
          2487.45,
          2461.28,
          2484.78,
          2441.16,
          2473.34,
          2536.48,
          2480.51,
          2471.01,
          2614.99,
          2619.88,
          2474.37,
          2550.52,
          2445.54,
          2534.91,
          2349.27,
          2600.07,
          2561.99,
          2606,
          2527.25,
          2506.32,
          2693.2,
          2662.7,
          2526.16,
          2598.02,
          2523.36,
          2480.48,
          2492.81,
          2516.33,
          2384.19,
          2473.54,
          2533.76,
          2575.39,
          2502.25,
          2720.38,
          2506.19,
          2505.35,
          2491.9,
          2508.22,
          2547.83,
          2186.06,
          2158.75,
          2511.92,
          2505.17,
          2357.99,
          2475.18,
          2538.05,
          2569.67,
          2626.13,
          2651.37,
          2480.42,
          2487.08,
          2442.47,
          2560.69,
          2503.86,
          2436.39,
          2695.57,
          2506.42,
          2563.58,
          2564.91,
          2568.35,
          2585.06,
          2462.64,
          2456.56,
          2370.72,
          2436.85,
          2413.65,
          2548.34,
          2545.77,
          2449.26,
          2471.62,
          2590.95,
          2436.38,
          2518.44,
          2559.32,
          2321.45,
          2538.43,
          2484.55,
          2403.47,
          2571.21,
          2458.12,
          2496.55,
          2508.1,
          2515.97,
          2576.19,
          2607.33,
          2560.92,
          2425.46,
          2532.81,
          2573.36,
          2493.85,
          2497.09,
          2666.04,
          2497.49,
          2497.56,
          2501.48,
          2440.82,
          2449.17,
          2481.2,
          2527.77,
          2484.78,
          2574.32,
          2568.93,
          2323.34,
          2505.38,
          2355.11,
          2468.91,
          2513.26,
          2547.13,
          2508.86,
          2573.59,
          2508.09,
          2369.95,
          2449.16,
          2574.48,
          2499.72,
          2436.65,
          2542.34,
          2477.72,
          2698.14,
          2509.22,
          null,
          2573.09,
          2480.11,
          2541.13,
          2564.29,
          2435.99,
          2690.55,
          2641.11,
          2498.91,
          2574.53,
          2329.66,
          2573.21,
          2468.65,
          2517.65,
          2487.66,
          2492.4,
          2485.99,
          2473.55,
          2420.25,
          2459.5,
          2584.75,
          2281.35,
          2565.47,
          2685.06,
          2449.25,
          2524.09,
          2221.1,
          2521.85,
          2691.96,
          2615.96,
          2455.32,
          2497.13,
          2541.12,
          2487.83,
          2610.62,
          2467.4,
          2373.03,
          2614.54,
          2363.52,
          2482.88,
          2449.48,
          2478.81,
          2447.28,
          2411.42,
          2504.66,
          2440.21,
          2591.83,
          2512.79,
          2473.39,
          2515.32,
          2513.79,
          2428.95,
          2433.99,
          2604.99,
          2546.78,
          2386.33,
          2428.25,
          2471.74,
          2419.18,
          2481.53,
          2545.48,
          2459.14,
          2505.7,
          2523.93,
          2393.56,
          2366.36,
          2514.76,
          2432.02,
          2669.09,
          2605.97,
          2397.92,
          2556.62,
          2461.41,
          2715.5,
          2442.71,
          2380.33,
          2446.06,
          2451.12,
          2521.41,
          2314.35,
          2379.31,
          2541.55,
          2292.4,
          2540.36,
          2286.45,
          2539.47,
          2440.05,
          2474.3,
          2443.39,
          2526.22,
          2472.68,
          2491.13,
          null,
          2559.7,
          2560.75,
          2482.61,
          2503.09,
          2506.6,
          2479.24,
          2485.81,
          2519.87,
          2476.75,
          2329.44,
          2476.95,
          2464.33,
          2459.22,
          2543.62,
          2445.17,
          2513.22,
          2522.32,
          2498.3,
          2432.18,
          2502.48,
          2516.95,
          2512.65,
          2608.11,
          2583.36,
          2508.03,
          2523.94,
          2510.76,
          2442.45,
          2353.21,
          2484.27,
          2361.5,
          2533.45,
          2636.81,
          2415.87,
          2437.82,
          2441.8,
          2483.44,
          2540.97,
          2539.59,
          2512.38,
          2448.07,
          2469.13,
          2531.05,
          2502.44,
          2540.35,
          2728.28,
          2505.62,
          2557.58,
          2590.45,
          2474.6,
          2423.57,
          2727.56,
          2525.29,
          2504.86,
          2477.47,
          2517.22,
          2542.64,
          2491.23,
          2530.67,
          2487.01,
          2455.05,
          2511.37,
          2504.44,
          2463.06,
          2583.6,
          2560.61,
          2368.34,
          2431.66,
          2529.08,
          2415.75,
          2452.28,
          2377.97,
          2523.65,
          2492.24,
          2525.16,
          2474.94,
          2582.08,
          2625.2,
          2517.25,
          2466.86,
          2570.5,
          2575.33,
          2504.94,
          2579.84,
          2432.09,
          2435.47,
          2470.21,
          2574.45,
          2488.5,
          2566.79,
          2501.91,
          2535.71,
          2448.37,
          2314.52,
          2512.61,
          2510.72,
          2535.07,
          2508.8,
          2308.45,
          2483.93,
          2618.25,
          2518.47,
          2453.53,
          2531.16,
          2519.26,
          2472.23,
          2294.01,
          2595.82,
          2403.21,
          2598.94,
          2846.44,
          2551.08,
          2470.95,
          2461.82,
          2502.89,
          2392,
          2478.51,
          2470.26,
          2565.53,
          2435.9,
          2544.1,
          2563.08,
          2484.44,
          2443.1,
          2504.01,
          2256.12,
          2462.06,
          2476.58,
          2506.43,
          2500.68,
          2419.83,
          2435.34,
          2537.66,
          2504.86,
          2360.04,
          2545.68,
          2619.6,
          2460.05,
          2504.21,
          2445.2,
          2431.35,
          2519.92,
          2544.64,
          2440.93,
          2528.74,
          2514.67,
          2596.63,
          2453.97,
          2468.56,
          2517.5,
          2414.29,
          2577.23,
          2489.15,
          2525,
          2254.99,
          2499.68,
          2420.32,
          2453.78,
          2372.79,
          2474.88,
          2471.97,
          2530.63,
          2528.5,
          2493.03,
          2424.13,
          2522.76,
          2499.75,
          2500.13,
          2522.41,
          2447.06,
          2404.13,
          2488.96,
          2441.68,
          2515.91,
          2453.75,
          2568.32,
          2532.66,
          2440.08,
          2533.04,
          2571.18,
          2515.63,
          2464.4,
          2532.45,
          2510.59,
          2535.14,
          2456.75,
          2664.52,
          2642.15,
          2448.82,
          2598.22,
          2405.62,
          2500.26,
          2518.5,
          2527.2,
          2439.59,
          2480.05,
          2524.6,
          2473.1,
          2545.53,
          2559.8,
          2286.09,
          2456.25,
          2526.19,
          2507.22,
          2417.34,
          2454.8,
          2412.76,
          2483.71,
          2387.23,
          2492.27,
          2437.21,
          2471.5,
          2400.4,
          2479.77,
          2536.68,
          2391.2,
          2593.09,
          2494.75,
          2506.56,
          2572.62,
          2572.78,
          2391.56,
          2526.44,
          2477.01,
          2387.42,
          2541.89,
          2465.11,
          2431.93,
          2461.58,
          2433.67,
          2484.9,
          2368.12,
          2430.6,
          2496.01,
          2531.81,
          2555.69,
          2521.25,
          2440.94,
          2467.5,
          2539.58,
          2470.28,
          2495.7,
          2475.5,
          2508.52,
          2451.82,
          2705,
          2540.07,
          2469.1,
          2442.49,
          2501,
          2516.47,
          2528.73,
          2538.74,
          2461.17,
          2438.56,
          2370.44,
          2620.96,
          2586.86,
          2526.85,
          2512.03,
          2447.43,
          2577.44,
          2456.68,
          2524.91,
          2426.86,
          2462.75,
          2469.59,
          2539.01,
          2403.24,
          2473.67,
          2457.64,
          2467.4,
          2508.88,
          2498.67,
          2481.52,
          2494.58,
          2445.41,
          2377.31,
          2614.51,
          2420.35,
          2415.79,
          2428.2,
          2498.77,
          2510.24,
          2395.39,
          2347.02,
          2522.16,
          2411.35,
          2517.42,
          2520.63,
          2524.57,
          2547.79,
          2528.21,
          2569.45,
          2351.94,
          2453.25,
          2444.87,
          2435.14,
          2533.92,
          2495.16,
          2481.56,
          2483.66,
          2570.44,
          2434.6,
          2476.8,
          2460.59,
          2423.38,
          2500.25,
          2509.62,
          2590.8,
          2497.76,
          2397.99,
          2449.84,
          2463.72,
          2353.23,
          2622.6,
          2494.57,
          2516.35,
          2553.9,
          2548.91,
          2405.53,
          2361.71,
          2557.37,
          2554.21,
          2488.15,
          2561.21,
          2584.79,
          2467.18,
          2430.03,
          2533.95,
          2500.9,
          2497.58,
          2428.85,
          2441.17,
          2448.38,
          2517.09,
          2570.46,
          2440.29,
          2465.42,
          2506,
          2674.54,
          2538.56,
          2551.27,
          2465.62,
          2505.27,
          2488.9,
          2481.64,
          2408.28,
          2422.48,
          2522.35,
          2446.47,
          2577.44,
          2515.83,
          2481.32,
          2409.49,
          2444.92,
          2398.66,
          2519.77,
          2621.33,
          2422,
          2596.71,
          2536.82,
          2558.28,
          2531.78,
          2579.88,
          2496.09,
          2541.27,
          2572.15,
          2569.69,
          2327.29,
          2501.13,
          2504.96,
          2490.26,
          2517.04,
          2493.13,
          2483.29,
          2485.64,
          2473.48,
          2573.39,
          2421.7,
          2538.44,
          null,
          2507.04,
          2481.37,
          2588.52,
          2553.54,
          2463.23,
          2524.62,
          2540.03,
          2316.01,
          2266.53,
          2438.58,
          2448.68,
          2491.31,
          2592.56,
          2458.09,
          2304.83,
          2489.76,
          2450.29,
          2509.54,
          2627.29,
          2443.66,
          2500.01,
          2545.83,
          2493.2,
          2563.53,
          2607.01,
          2571.06,
          2501.26,
          2578.76,
          2424.52,
          2533.39,
          2520.4,
          2475.59,
          2595.74,
          2496.49,
          2376.27,
          2450.49,
          2512.1,
          2577.58,
          2398.4,
          2562.2,
          2517.21,
          2432.83,
          2476.1,
          2630.42,
          2450.31,
          2447.22,
          2567.48,
          2532.4,
          2485.8,
          2427.2,
          2573.37,
          2452.15,
          2552.96,
          2605.97,
          2628.68,
          2555.27,
          2552.65,
          2431.12,
          2456.06,
          2518.89,
          2382.18,
          2495.58,
          2522.77,
          2512.14,
          2499.04,
          2438.11,
          2539.5,
          2528.73,
          2510.26,
          2435.85,
          2563.28,
          2574.38,
          2397.74,
          2449.84,
          2365.17,
          2412.64,
          2401.5,
          2558.88,
          2492.72,
          2462.09,
          2539.61,
          2452.1,
          2523.21,
          2502.42,
          2508.94,
          2595.7,
          2618.12,
          2585.92,
          2391.87,
          2464.45,
          2546.74,
          2418.41,
          2453.34,
          2503.52,
          2496.32,
          2479.17,
          2472.6,
          2631.92,
          2611.65,
          2490.63,
          2500.85,
          2441.12,
          2549.21,
          2603.92,
          2534.16,
          2257.95,
          2266,
          2474.9,
          2514.52,
          2485.73,
          2449.59,
          2567.33,
          2512.44,
          2491.07,
          2530.99,
          2491.01,
          2501.26,
          2462.85,
          2486.94,
          2501.91,
          2454.38,
          2587.37,
          2548.76,
          2572.85,
          2522.03,
          2473.65,
          2524.13,
          2446.38,
          2233.29,
          2629.96,
          2565.73,
          2439.42,
          2545.77,
          null,
          2521.93,
          2574.34,
          2553.64,
          null,
          2572.48,
          2427.36,
          2487.12,
          2555.41,
          2457.42,
          2502.09,
          2493.34,
          2544.85,
          2563.75,
          2489.86,
          2523.78,
          2413.39,
          2522.4,
          2547.2,
          2567.76,
          2571.41,
          2532.3,
          2506.21,
          2530.11,
          2512.77,
          2486.53,
          2446.49,
          2357.09,
          2501.54,
          2519.92,
          2514.38,
          2405.19,
          2537.68,
          2525.84,
          2459.56,
          2525.56,
          2598.77,
          2510.19,
          2487.1,
          2434.42,
          2673.38,
          2424.11,
          2384.04,
          2467.44,
          2541.55,
          2459.87,
          2507.57,
          2485.82,
          2548.79,
          2500.38,
          2412.91,
          2477.25,
          2396.64,
          2423.98,
          2579.49,
          2484.43,
          2523.94,
          2582.12,
          2517.11,
          2524.88,
          2465.32,
          2488.94,
          2464.86,
          2497.33,
          2525.39,
          2538.76,
          2576.98,
          2429.47,
          2486.23,
          2504.01,
          2520.88,
          2485.47,
          2493.56,
          2583.05,
          2551.06,
          2450.89,
          2563.19,
          2414.63,
          2503.18,
          2415.79,
          2537.39,
          2449.21,
          2503.48,
          2563.64,
          2473.14,
          2588.74,
          2440.56,
          2462.34,
          2532.78,
          2414.43,
          2419.55,
          2453.45,
          2568.55,
          2535.93,
          2527.32,
          2839.46,
          2474.55,
          2459.02,
          2545.4,
          2512.63,
          2472.92,
          2438.17,
          2535.43,
          2516.34,
          2577.39,
          2555.88,
          2410.53,
          2587.86,
          2461.08,
          2565.93,
          2369.84,
          2425.3,
          2541.13,
          2506.62,
          2408.85,
          2566.3,
          2744.54,
          2529.79,
          2551.78,
          2496.52,
          2555.01,
          2472.74,
          2532.34,
          2556.35,
          2406.11,
          2467.73,
          2474.97,
          2534.49,
          2442.51,
          2449.85,
          2540.17,
          2446.55,
          2584.52,
          2529.9,
          2584.24,
          2483.2,
          2494.33,
          2386.26,
          2517.44,
          2527.68,
          2451.85,
          2534.68,
          2538.13,
          2580.44,
          2465.51,
          2559.42,
          2470.6,
          2493.72,
          2538.52,
          2499.46,
          2806.91,
          2424.95,
          2508.03,
          2525.74,
          2493.03,
          2457.48,
          2581.64,
          2594.52,
          2494.43,
          2580.25,
          2480.71,
          2494.82,
          2456.82,
          2593.67,
          2583.01,
          2499.15,
          2465.71,
          2514.44,
          2541.6,
          2484.71,
          2538.38,
          2556.95,
          2504.2,
          2442.6,
          2424.39,
          2560.38,
          2477.75,
          2427.14,
          2475.9,
          2550.88,
          2573.94,
          2521.49,
          2515.51,
          2583.56,
          2493.11,
          2430.7,
          2498.09,
          2516.64,
          2454.33,
          2460.97,
          2634.43,
          2489.07,
          2403.89,
          2420.03,
          2516.06,
          2528.67,
          2384.1,
          2441.77,
          2419.25,
          2599.93,
          2574.7,
          2493.21,
          2517.35,
          2564.93,
          2434.79,
          2470.5,
          2387.73,
          2265.6,
          2516.4,
          2448.34,
          2500.05,
          2458.9,
          2380.39,
          2259.49,
          2481.72,
          2585.72,
          2815.31,
          2524.95,
          2557.2,
          2507.02,
          2477.13,
          2458.88,
          2479.73,
          2489.53,
          2521.87,
          2428.64,
          2534.66,
          2373.31,
          2496.67,
          2553.24,
          2597,
          2445.56,
          2574.43,
          2510.09,
          2423.75,
          2504.48,
          2393.97,
          2507.66,
          2497.62,
          2531.02,
          2504.81,
          2536.87,
          2527.7,
          2451.5,
          2509.14,
          2507.74,
          2590.62,
          2449.49,
          2530.97,
          2444.69,
          2451.53,
          2547.65,
          2493.72,
          2383.76,
          2424.39,
          2349.85,
          2538.41,
          2472.41,
          2477.37,
          2417.92,
          2515.15,
          2426.76,
          2482.88,
          2590.88,
          2542.56,
          2548.46,
          2507.01,
          2556.64,
          2432.38,
          2512.75,
          2494.39,
          2480.56,
          2538.37,
          2444.67,
          2499.35,
          2549.85,
          2498.02,
          2459.97,
          2528.59,
          2543.1,
          2505.29,
          2451.31,
          2404.67,
          2546.24,
          2506,
          2483.77,
          2493.47,
          2529.82,
          2515.46,
          2512.02,
          2354.5,
          2485.99,
          2588.36,
          2501.05,
          2580.67,
          2608.21,
          2447.26,
          2416.09,
          2430.37,
          2575.41,
          2276.93,
          2585.48,
          2465.43,
          2481.99,
          2531.5,
          2538.33,
          2389.91,
          2611.5,
          2530.96,
          2401.59,
          2499.72,
          2452.52,
          2354.24,
          2437.76,
          2563.95,
          2417.43,
          2558.56,
          2532.71,
          2465.54,
          2525.2,
          2367.16,
          2560.99,
          2555.92,
          2499.79,
          2487.91,
          2447.97,
          2537.73,
          2490.6,
          2488.18,
          2542.36,
          2464.98,
          2498,
          2406.47,
          2489.06,
          2521.98,
          2500.19,
          2528.55,
          2515.03,
          2503.3,
          2534.87,
          2466.84,
          2456.13,
          2549.42,
          2326.59,
          2464.36,
          2522.55,
          2379.78,
          2532.01,
          2450.76
         ],
         "xaxis": "x",
         "yaxis": "y"
        }
       ],
       "layout": {
        "autosize": true,
        "barmode": "relative",
        "legend": {
         "tracegroupgap": 0
        },
        "margin": {
         "t": 60
        },
        "template": {
         "data": {
          "bar": [
           {
            "error_x": {
             "color": "#2a3f5f"
            },
            "error_y": {
             "color": "#2a3f5f"
            },
            "marker": {
             "line": {
              "color": "#E5ECF6",
              "width": 0.5
             },
             "pattern": {
              "fillmode": "overlay",
              "size": 10,
              "solidity": 0.2
             }
            },
            "type": "bar"
           }
          ],
          "barpolar": [
           {
            "marker": {
             "line": {
              "color": "#E5ECF6",
              "width": 0.5
             },
             "pattern": {
              "fillmode": "overlay",
              "size": 10,
              "solidity": 0.2
             }
            },
            "type": "barpolar"
           }
          ],
          "carpet": [
           {
            "aaxis": {
             "endlinecolor": "#2a3f5f",
             "gridcolor": "white",
             "linecolor": "white",
             "minorgridcolor": "white",
             "startlinecolor": "#2a3f5f"
            },
            "baxis": {
             "endlinecolor": "#2a3f5f",
             "gridcolor": "white",
             "linecolor": "white",
             "minorgridcolor": "white",
             "startlinecolor": "#2a3f5f"
            },
            "type": "carpet"
           }
          ],
          "choropleth": [
           {
            "colorbar": {
             "outlinewidth": 0,
             "ticks": ""
            },
            "type": "choropleth"
           }
          ],
          "contour": [
           {
            "colorbar": {
             "outlinewidth": 0,
             "ticks": ""
            },
            "colorscale": [
             [
              0,
              "#0d0887"
             ],
             [
              0.1111111111111111,
              "#46039f"
             ],
             [
              0.2222222222222222,
              "#7201a8"
             ],
             [
              0.3333333333333333,
              "#9c179e"
             ],
             [
              0.4444444444444444,
              "#bd3786"
             ],
             [
              0.5555555555555556,
              "#d8576b"
             ],
             [
              0.6666666666666666,
              "#ed7953"
             ],
             [
              0.7777777777777778,
              "#fb9f3a"
             ],
             [
              0.8888888888888888,
              "#fdca26"
             ],
             [
              1,
              "#f0f921"
             ]
            ],
            "type": "contour"
           }
          ],
          "contourcarpet": [
           {
            "colorbar": {
             "outlinewidth": 0,
             "ticks": ""
            },
            "type": "contourcarpet"
           }
          ],
          "heatmap": [
           {
            "colorbar": {
             "outlinewidth": 0,
             "ticks": ""
            },
            "colorscale": [
             [
              0,
              "#0d0887"
             ],
             [
              0.1111111111111111,
              "#46039f"
             ],
             [
              0.2222222222222222,
              "#7201a8"
             ],
             [
              0.3333333333333333,
              "#9c179e"
             ],
             [
              0.4444444444444444,
              "#bd3786"
             ],
             [
              0.5555555555555556,
              "#d8576b"
             ],
             [
              0.6666666666666666,
              "#ed7953"
             ],
             [
              0.7777777777777778,
              "#fb9f3a"
             ],
             [
              0.8888888888888888,
              "#fdca26"
             ],
             [
              1,
              "#f0f921"
             ]
            ],
            "type": "heatmap"
           }
          ],
          "heatmapgl": [
           {
            "colorbar": {
             "outlinewidth": 0,
             "ticks": ""
            },
            "colorscale": [
             [
              0,
              "#0d0887"
             ],
             [
              0.1111111111111111,
              "#46039f"
             ],
             [
              0.2222222222222222,
              "#7201a8"
             ],
             [
              0.3333333333333333,
              "#9c179e"
             ],
             [
              0.4444444444444444,
              "#bd3786"
             ],
             [
              0.5555555555555556,
              "#d8576b"
             ],
             [
              0.6666666666666666,
              "#ed7953"
             ],
             [
              0.7777777777777778,
              "#fb9f3a"
             ],
             [
              0.8888888888888888,
              "#fdca26"
             ],
             [
              1,
              "#f0f921"
             ]
            ],
            "type": "heatmapgl"
           }
          ],
          "histogram": [
           {
            "marker": {
             "pattern": {
              "fillmode": "overlay",
              "size": 10,
              "solidity": 0.2
             }
            },
            "type": "histogram"
           }
          ],
          "histogram2d": [
           {
            "colorbar": {
             "outlinewidth": 0,
             "ticks": ""
            },
            "colorscale": [
             [
              0,
              "#0d0887"
             ],
             [
              0.1111111111111111,
              "#46039f"
             ],
             [
              0.2222222222222222,
              "#7201a8"
             ],
             [
              0.3333333333333333,
              "#9c179e"
             ],
             [
              0.4444444444444444,
              "#bd3786"
             ],
             [
              0.5555555555555556,
              "#d8576b"
             ],
             [
              0.6666666666666666,
              "#ed7953"
             ],
             [
              0.7777777777777778,
              "#fb9f3a"
             ],
             [
              0.8888888888888888,
              "#fdca26"
             ],
             [
              1,
              "#f0f921"
             ]
            ],
            "type": "histogram2d"
           }
          ],
          "histogram2dcontour": [
           {
            "colorbar": {
             "outlinewidth": 0,
             "ticks": ""
            },
            "colorscale": [
             [
              0,
              "#0d0887"
             ],
             [
              0.1111111111111111,
              "#46039f"
             ],
             [
              0.2222222222222222,
              "#7201a8"
             ],
             [
              0.3333333333333333,
              "#9c179e"
             ],
             [
              0.4444444444444444,
              "#bd3786"
             ],
             [
              0.5555555555555556,
              "#d8576b"
             ],
             [
              0.6666666666666666,
              "#ed7953"
             ],
             [
              0.7777777777777778,
              "#fb9f3a"
             ],
             [
              0.8888888888888888,
              "#fdca26"
             ],
             [
              1,
              "#f0f921"
             ]
            ],
            "type": "histogram2dcontour"
           }
          ],
          "mesh3d": [
           {
            "colorbar": {
             "outlinewidth": 0,
             "ticks": ""
            },
            "type": "mesh3d"
           }
          ],
          "parcoords": [
           {
            "line": {
             "colorbar": {
              "outlinewidth": 0,
              "ticks": ""
             }
            },
            "type": "parcoords"
           }
          ],
          "pie": [
           {
            "automargin": true,
            "type": "pie"
           }
          ],
          "scatter": [
           {
            "marker": {
             "colorbar": {
              "outlinewidth": 0,
              "ticks": ""
             }
            },
            "type": "scatter"
           }
          ],
          "scatter3d": [
           {
            "line": {
             "colorbar": {
              "outlinewidth": 0,
              "ticks": ""
             }
            },
            "marker": {
             "colorbar": {
              "outlinewidth": 0,
              "ticks": ""
             }
            },
            "type": "scatter3d"
           }
          ],
          "scattercarpet": [
           {
            "marker": {
             "colorbar": {
              "outlinewidth": 0,
              "ticks": ""
             }
            },
            "type": "scattercarpet"
           }
          ],
          "scattergeo": [
           {
            "marker": {
             "colorbar": {
              "outlinewidth": 0,
              "ticks": ""
             }
            },
            "type": "scattergeo"
           }
          ],
          "scattergl": [
           {
            "marker": {
             "colorbar": {
              "outlinewidth": 0,
              "ticks": ""
             }
            },
            "type": "scattergl"
           }
          ],
          "scattermapbox": [
           {
            "marker": {
             "colorbar": {
              "outlinewidth": 0,
              "ticks": ""
             }
            },
            "type": "scattermapbox"
           }
          ],
          "scatterpolar": [
           {
            "marker": {
             "colorbar": {
              "outlinewidth": 0,
              "ticks": ""
             }
            },
            "type": "scatterpolar"
           }
          ],
          "scatterpolargl": [
           {
            "marker": {
             "colorbar": {
              "outlinewidth": 0,
              "ticks": ""
             }
            },
            "type": "scatterpolargl"
           }
          ],
          "scatterternary": [
           {
            "marker": {
             "colorbar": {
              "outlinewidth": 0,
              "ticks": ""
             }
            },
            "type": "scatterternary"
           }
          ],
          "surface": [
           {
            "colorbar": {
             "outlinewidth": 0,
             "ticks": ""
            },
            "colorscale": [
             [
              0,
              "#0d0887"
             ],
             [
              0.1111111111111111,
              "#46039f"
             ],
             [
              0.2222222222222222,
              "#7201a8"
             ],
             [
              0.3333333333333333,
              "#9c179e"
             ],
             [
              0.4444444444444444,
              "#bd3786"
             ],
             [
              0.5555555555555556,
              "#d8576b"
             ],
             [
              0.6666666666666666,
              "#ed7953"
             ],
             [
              0.7777777777777778,
              "#fb9f3a"
             ],
             [
              0.8888888888888888,
              "#fdca26"
             ],
             [
              1,
              "#f0f921"
             ]
            ],
            "type": "surface"
           }
          ],
          "table": [
           {
            "cells": {
             "fill": {
              "color": "#EBF0F8"
             },
             "line": {
              "color": "white"
             }
            },
            "header": {
             "fill": {
              "color": "#C8D4E3"
             },
             "line": {
              "color": "white"
             }
            },
            "type": "table"
           }
          ]
         },
         "layout": {
          "annotationdefaults": {
           "arrowcolor": "#2a3f5f",
           "arrowhead": 0,
           "arrowwidth": 1
          },
          "autotypenumbers": "strict",
          "coloraxis": {
           "colorbar": {
            "outlinewidth": 0,
            "ticks": ""
           }
          },
          "colorscale": {
           "diverging": [
            [
             0,
             "#8e0152"
            ],
            [
             0.1,
             "#c51b7d"
            ],
            [
             0.2,
             "#de77ae"
            ],
            [
             0.3,
             "#f1b6da"
            ],
            [
             0.4,
             "#fde0ef"
            ],
            [
             0.5,
             "#f7f7f7"
            ],
            [
             0.6,
             "#e6f5d0"
            ],
            [
             0.7,
             "#b8e186"
            ],
            [
             0.8,
             "#7fbc41"
            ],
            [
             0.9,
             "#4d9221"
            ],
            [
             1,
             "#276419"
            ]
           ],
           "sequential": [
            [
             0,
             "#0d0887"
            ],
            [
             0.1111111111111111,
             "#46039f"
            ],
            [
             0.2222222222222222,
             "#7201a8"
            ],
            [
             0.3333333333333333,
             "#9c179e"
            ],
            [
             0.4444444444444444,
             "#bd3786"
            ],
            [
             0.5555555555555556,
             "#d8576b"
            ],
            [
             0.6666666666666666,
             "#ed7953"
            ],
            [
             0.7777777777777778,
             "#fb9f3a"
            ],
            [
             0.8888888888888888,
             "#fdca26"
            ],
            [
             1,
             "#f0f921"
            ]
           ],
           "sequentialminus": [
            [
             0,
             "#0d0887"
            ],
            [
             0.1111111111111111,
             "#46039f"
            ],
            [
             0.2222222222222222,
             "#7201a8"
            ],
            [
             0.3333333333333333,
             "#9c179e"
            ],
            [
             0.4444444444444444,
             "#bd3786"
            ],
            [
             0.5555555555555556,
             "#d8576b"
            ],
            [
             0.6666666666666666,
             "#ed7953"
            ],
            [
             0.7777777777777778,
             "#fb9f3a"
            ],
            [
             0.8888888888888888,
             "#fdca26"
            ],
            [
             1,
             "#f0f921"
            ]
           ]
          },
          "colorway": [
           "#636efa",
           "#EF553B",
           "#00cc96",
           "#ab63fa",
           "#FFA15A",
           "#19d3f3",
           "#FF6692",
           "#B6E880",
           "#FF97FF",
           "#FECB52"
          ],
          "font": {
           "color": "#2a3f5f"
          },
          "geo": {
           "bgcolor": "white",
           "lakecolor": "white",
           "landcolor": "#E5ECF6",
           "showlakes": true,
           "showland": true,
           "subunitcolor": "white"
          },
          "hoverlabel": {
           "align": "left"
          },
          "hovermode": "closest",
          "mapbox": {
           "style": "light"
          },
          "paper_bgcolor": "white",
          "plot_bgcolor": "#E5ECF6",
          "polar": {
           "angularaxis": {
            "gridcolor": "white",
            "linecolor": "white",
            "ticks": ""
           },
           "bgcolor": "#E5ECF6",
           "radialaxis": {
            "gridcolor": "white",
            "linecolor": "white",
            "ticks": ""
           }
          },
          "scene": {
           "xaxis": {
            "backgroundcolor": "#E5ECF6",
            "gridcolor": "white",
            "gridwidth": 2,
            "linecolor": "white",
            "showbackground": true,
            "ticks": "",
            "zerolinecolor": "white"
           },
           "yaxis": {
            "backgroundcolor": "#E5ECF6",
            "gridcolor": "white",
            "gridwidth": 2,
            "linecolor": "white",
            "showbackground": true,
            "ticks": "",
            "zerolinecolor": "white"
           },
           "zaxis": {
            "backgroundcolor": "#E5ECF6",
            "gridcolor": "white",
            "gridwidth": 2,
            "linecolor": "white",
            "showbackground": true,
            "ticks": "",
            "zerolinecolor": "white"
           }
          },
          "shapedefaults": {
           "line": {
            "color": "#2a3f5f"
           }
          },
          "ternary": {
           "aaxis": {
            "gridcolor": "white",
            "linecolor": "white",
            "ticks": ""
           },
           "baxis": {
            "gridcolor": "white",
            "linecolor": "white",
            "ticks": ""
           },
           "bgcolor": "#E5ECF6",
           "caxis": {
            "gridcolor": "white",
            "linecolor": "white",
            "ticks": ""
           }
          },
          "title": {
           "x": 0.05
          },
          "xaxis": {
           "automargin": true,
           "gridcolor": "white",
           "linecolor": "white",
           "ticks": "",
           "title": {
            "standoff": 15
           },
           "zerolinecolor": "white",
           "zerolinewidth": 2
          },
          "yaxis": {
           "automargin": true,
           "gridcolor": "white",
           "linecolor": "white",
           "ticks": "",
           "title": {
            "standoff": 15
           },
           "zerolinecolor": "white",
           "zerolinewidth": 2
          }
         }
        },
        "xaxis": {
         "anchor": "y",
         "autorange": true,
         "domain": [
          0,
          1
         ],
         "range": [
          2150,
          2850
         ],
         "title": {
          "text": "1"
         },
         "type": "linear"
        },
        "yaxis": {
         "anchor": "x",
         "autorange": true,
         "domain": [
          0,
          1
         ],
         "range": [
          0,
          122.10526315789474
         ],
         "title": {
          "text": "count"
         }
        }
       }
      },
      "image/png": "[encoded data removed]",
      "text/html": [
       "<div>                            <div id=\"b6b7279a-254e-40b0-8281-96ad414293bf\" class=\"plotly-graph-div\" style=\"height:525px; width:100%;\"></div>            <script type=\"text/javascript\">                require([\"plotly\"], function(Plotly) {                    window.PLOTLYENV=window.PLOTLYENV || {};                                    if (document.getElementById(\"b6b7279a-254e-40b0-8281-96ad414293bf\")) {                    Plotly.newPlot(                        \"b6b7279a-254e-40b0-8281-96ad414293bf\",                        [{\"alignmentgroup\":\"True\",\"bingroup\":\"x\",\"hovertemplate\":\"1=%{x}<br>count=%{y}<extra></extra>\",\"legendgroup\":\"\",\"marker\":{\"color\":\"#636efa\",\"pattern\":{\"shape\":\"\"}},\"name\":\"\",\"offsetgroup\":\"\",\"orientation\":\"v\",\"showlegend\":false,\"x\":[2564.0,2465.14,2559.94,2479.9,2502.87,2432.84,2430.12,2690.15,2600.47,2428.37,2548.21,2479.4,2507.4,2529.27,2629.48,2546.26,2560.87,2517.79,2501.16,2519.05,2528.81,2481.85,2497.45,2514.54,2632.8,2446.56,2456.33,2607.63,2431.57,2529.11,2489.7,2492.36,2524.18,2566.35,2457.64,2477.35,2445.44,2302.46,2542.24,2530.67,2545.71,2517.18,2503.46,2748.67,2490.71,2446.25,2475.53,2788.4,2345.95,2533.91,2446.74,2520.21,2466.78,2484.31,2398.44,2809.79,2569.81,2586.05,2388.74,2481.28,2694.31,2541.92,2483.66,2492.8,2628.76,2461.38,2544.52,2508.28,2702.64,2565.8,2315.76,2375.49,2623.1,2424.37,2450.25,2492.29,2500.41,2505.73,2500.81,2531.75,2537.35,2417.85,2502.62,2459.87,2503.59,2565.03,2739.19,2655.37,2531.98,2414.83,2519.68,2547.43,2447.89,2478.55,2545.34,2560.99,2467.07,2453.82,2537.9,2544.52,2526.82,2439.13,2459.62,2436.17,2523.08,2474.05,2433.96,2607.75,2479.17,2395.85,2437.69,2583.78,2485.57,2523.21,2418.83,2502.05,2307.24,2810.12,2496.73,2512.49,2481.43,2495.35,2518.21,2468.33,2534.74,2416.73,2460.08,2690.99,2502.96,2481.09,2634.3,2714.3,2531.34,2432.85,2477.86,2567.29,2490.86,2497.58,2576.84,2473.27,2581.07,2587.6,2364.73,2374.5,2539.37,2394.58,2406.22,2515.3,2581.93,2537.4,2522.16,2494.55,2560.67,2557.94,2359.01,2525.33,2492.14,2491.19,2524.44,2456.17,2468.41,2546.75,2517.09,2474.32,2447.29,2581.18,2469.6,2529.16,2493.32,2508.56,2465.07,2335.06,2576.94,2320.05,2486.59,2521.23,2505.4,2501.93,2514.66,2480.64,2504.38,2543.11,2497.03,2455.14,2485.0,2511.09,2509.65,2662.19,2391.71,2480.9,2553.6,2487.16,2436.12,2521.24,2401.53,2559.12,2553.04,2496.56,2538.75,2706.54,2550.51,2511.14,2632.88,2279.48,2384.66,2551.84,2559.07,2539.78,2540.95,2464.39,2506.27,2332.39,2526.22,2631.47,2491.55,2466.36,2441.61,2162.87,2521.84,2480.54,2548.95,2439.31,2463.11,2474.95,2502.62,2287.9,2470.14,2472.13,2489.91,2257.81,2378.95,null,2444.55,2478.99,2604.26,2490.25,2458.15,2494.37,2444.09,2344.91,2483.06,2467.49,2491.6,2593.63,2470.81,2616.63,2509.8,2483.74,2549.73,2402.57,2463.51,2382.03,2513.68,2570.13,2523.55,2549.89,2349.48,2498.28,2308.6,2494.25,2460.94,2483.97,2570.42,2464.8,2377.27,2561.1,2581.67,2610.78,2503.32,2443.68,2291.92,2587.27,2554.29,2575.68,2337.96,2575.71,2734.33,2408.46,2488.5,2513.05,2573.74,2374.64,2522.9,2537.88,2539.73,2629.06,2533.49,2693.16,2535.19,2509.19,2786.97,2672.94,2459.56,2457.92,2509.24,2467.11,2533.75,2505.03,2356.94,2524.25,2611.21,2486.48,2487.46,null,2436.77,2483.52,2417.7,2312.14,2414.48,2477.46,2453.54,2540.19,2515.55,2520.85,2529.42,2461.89,2575.71,2450.48,2512.51,2421.45,2442.26,2526.22,2413.92,2286.25,2584.15,2393.78,2499.72,2559.27,2490.06,2431.54,2526.29,2273.46,2496.08,2405.53,2475.67,2484.62,2551.17,2412.41,2273.8,2453.47,2531.63,2567.68,2512.99,2536.56,2439.82,2453.91,2478.62,2709.45,2379.96,2569.58,2517.54,2517.34,2391.47,2408.4,2479.69,2503.69,2495.4,2226.99,2450.05,2590.8,2421.45,2270.68,2401.8,2547.84,2333.96,2460.91,2546.27,2516.11,2574.32,2456.65,2510.08,2475.5,2605.26,2478.88,2502.34,2479.93,2512.14,2288.05,2462.82,2523.6,2513.28,2560.91,2436.01,2305.52,2375.55,2570.93,2311.42,2555.49,2474.41,2578.76,2434.0,2566.22,2488.76,2512.97,2491.13,2371.45,2478.97,2735.65,2310.29,2533.52,2441.22,2318.95,2587.3,2490.54,2490.92,2501.63,2518.96,2502.06,2364.31,2419.83,2514.3,2488.49,2501.88,2536.43,2467.94,2577.27,2532.88,2434.32,2535.82,2539.46,2675.58,2460.11,2436.69,2281.3,2297.3,2405.56,2541.21,2364.78,2457.08,2396.4,2592.29,2439.0,2506.39,2605.48,2417.04,2526.73,2489.47,2496.54,2467.8,2370.5,2500.27,2514.95,2644.32,2354.51,2656.84,2601.98,2653.23,2505.83,2523.71,2516.11,2446.96,2406.58,2481.04,2520.91,2474.97,2534.62,2460.19,2490.68,2611.98,2501.03,2705.16,2378.77,2481.59,2362.09,2673.41,2556.22,2473.49,2636.69,2465.16,2531.25,2504.5,2570.13,2412.53,2187.67,2566.94,2500.59,2459.21,2558.81,2493.12,2377.89,2340.05,2425.16,2441.12,2521.76,2459.39,2485.5,2446.92,2406.4,2550.52,2391.09,2487.45,2461.28,2484.78,2441.16,2473.34,2536.48,2480.51,2471.01,2614.99,2619.88,2474.37,2550.52,2445.54,2534.91,2349.27,2600.07,2561.99,2606.0,2527.25,2506.32,2693.2,2662.7,2526.16,2598.02,2523.36,2480.48,2492.81,2516.33,2384.19,2473.54,2533.76,2575.39,2502.25,2720.38,2506.19,2505.35,2491.9,2508.22,2547.83,2186.06,2158.75,2511.92,2505.17,2357.99,2475.18,2538.05,2569.67,2626.13,2651.37,2480.42,2487.08,2442.47,2560.69,2503.86,2436.39,2695.57,2506.42,2563.58,2564.91,2568.35,2585.06,2462.64,2456.56,2370.72,2436.85,2413.65,2548.34,2545.77,2449.26,2471.62,2590.95,2436.38,2518.44,2559.32,2321.45,2538.43,2484.55,2403.47,2571.21,2458.12,2496.55,2508.1,2515.97,2576.19,2607.33,2560.92,2425.46,2532.81,2573.36,2493.85,2497.09,2666.04,2497.49,2497.56,2501.48,2440.82,2449.17,2481.2,2527.77,2484.78,2574.32,2568.93,2323.34,2505.38,2355.11,2468.91,2513.26,2547.13,2508.86,2573.59,2508.09,2369.95,2449.16,2574.48,2499.72,2436.65,2542.34,2477.72,2698.14,2509.22,null,2573.09,2480.11,2541.13,2564.29,2435.99,2690.55,2641.11,2498.91,2574.53,2329.66,2573.21,2468.65,2517.65,2487.66,2492.4,2485.99,2473.55,2420.25,2459.5,2584.75,2281.35,2565.47,2685.06,2449.25,2524.09,2221.1,2521.85,2691.96,2615.96,2455.32,2497.13,2541.12,2487.83,2610.62,2467.4,2373.03,2614.54,2363.52,2482.88,2449.48,2478.81,2447.28,2411.42,2504.66,2440.21,2591.83,2512.79,2473.39,2515.32,2513.79,2428.95,2433.99,2604.99,2546.78,2386.33,2428.25,2471.74,2419.18,2481.53,2545.48,2459.14,2505.7,2523.93,2393.56,2366.36,2514.76,2432.02,2669.09,2605.97,2397.92,2556.62,2461.41,2715.5,2442.71,2380.33,2446.06,2451.12,2521.41,2314.35,2379.31,2541.55,2292.4,2540.36,2286.45,2539.47,2440.05,2474.3,2443.39,2526.22,2472.68,2491.13,null,2559.7,2560.75,2482.61,2503.09,2506.6,2479.24,2485.81,2519.87,2476.75,2329.44,2476.95,2464.33,2459.22,2543.62,2445.17,2513.22,2522.32,2498.3,2432.18,2502.48,2516.95,2512.65,2608.11,2583.36,2508.03,2523.94,2510.76,2442.45,2353.21,2484.27,2361.5,2533.45,2636.81,2415.87,2437.82,2441.8,2483.44,2540.97,2539.59,2512.38,2448.07,2469.13,2531.05,2502.44,2540.35,2728.28,2505.62,2557.58,2590.45,2474.6,2423.57,2727.56,2525.29,2504.86,2477.47,2517.22,2542.64,2491.23,2530.67,2487.01,2455.05,2511.37,2504.44,2463.06,2583.6,2560.61,2368.34,2431.66,2529.08,2415.75,2452.28,2377.97,2523.65,2492.24,2525.16,2474.94,2582.08,2625.2,2517.25,2466.86,2570.5,2575.33,2504.94,2579.84,2432.09,2435.47,2470.21,2574.45,2488.5,2566.79,2501.91,2535.71,2448.37,2314.52,2512.61,2510.72,2535.07,2508.8,2308.45,2483.93,2618.25,2518.47,2453.53,2531.16,2519.26,2472.23,2294.01,2595.82,2403.21,2598.94,2846.44,2551.08,2470.95,2461.82,2502.89,2392.0,2478.51,2470.26,2565.53,2435.9,2544.1,2563.08,2484.44,2443.1,2504.01,2256.12,2462.06,2476.58,2506.43,2500.68,2419.83,2435.34,2537.66,2504.86,2360.04,2545.68,2619.6,2460.05,2504.21,2445.2,2431.35,2519.92,2544.64,2440.93,2528.74,2514.67,2596.63,2453.97,2468.56,2517.5,2414.29,2577.23,2489.15,2525.0,2254.99,2499.68,2420.32,2453.78,2372.79,2474.88,2471.97,2530.63,2528.5,2493.03,2424.13,2522.76,2499.75,2500.13,2522.41,2447.06,2404.13,2488.96,2441.68,2515.91,2453.75,2568.32,2532.66,2440.08,2533.04,2571.18,2515.63,2464.4,2532.45,2510.59,2535.14,2456.75,2664.52,2642.15,2448.82,2598.22,2405.62,2500.26,2518.5,2527.2,2439.59,2480.05,2524.6,2473.1,2545.53,2559.8,2286.09,2456.25,2526.19,2507.22,2417.34,2454.8,2412.76,2483.71,2387.23,2492.27,2437.21,2471.5,2400.4,2479.77,2536.68,2391.2,2593.09,2494.75,2506.56,2572.62,2572.78,2391.56,2526.44,2477.01,2387.42,2541.89,2465.11,2431.93,2461.58,2433.67,2484.9,2368.12,2430.6,2496.01,2531.81,2555.69,2521.25,2440.94,2467.5,2539.58,2470.28,2495.7,2475.5,2508.52,2451.82,2705.0,2540.07,2469.1,2442.49,2501.0,2516.47,2528.73,2538.74,2461.17,2438.56,2370.44,2620.96,2586.86,2526.85,2512.03,2447.43,2577.44,2456.68,2524.91,2426.86,2462.75,2469.59,2539.01,2403.24,2473.67,2457.64,2467.4,2508.88,2498.67,2481.52,2494.58,2445.41,2377.31,2614.51,2420.35,2415.79,2428.2,2498.77,2510.24,2395.39,2347.02,2522.16,2411.35,2517.42,2520.63,2524.57,2547.79,2528.21,2569.45,2351.94,2453.25,2444.87,2435.14,2533.92,2495.16,2481.56,2483.66,2570.44,2434.6,2476.8,2460.59,2423.38,2500.25,2509.62,2590.8,2497.76,2397.99,2449.84,2463.72,2353.23,2622.6,2494.57,2516.35,2553.9,2548.91,2405.53,2361.71,2557.37,2554.21,2488.15,2561.21,2584.79,2467.18,2430.03,2533.95,2500.9,2497.58,2428.85,2441.17,2448.38,2517.09,2570.46,2440.29,2465.42,2506.0,2674.54,2538.56,2551.27,2465.62,2505.27,2488.9,2481.64,2408.28,2422.48,2522.35,2446.47,2577.44,2515.83,2481.32,2409.49,2444.92,2398.66,2519.77,2621.33,2422.0,2596.71,2536.82,2558.28,2531.78,2579.88,2496.09,2541.27,2572.15,2569.69,2327.29,2501.13,2504.96,2490.26,2517.04,2493.13,2483.29,2485.64,2473.48,2573.39,2421.7,2538.44,null,2507.04,2481.37,2588.52,2553.54,2463.23,2524.62,2540.03,2316.01,2266.53,2438.58,2448.68,2491.31,2592.56,2458.09,2304.83,2489.76,2450.29,2509.54,2627.29,2443.66,2500.01,2545.83,2493.2,2563.53,2607.01,2571.06,2501.26,2578.76,2424.52,2533.39,2520.4,2475.59,2595.74,2496.49,2376.27,2450.49,2512.1,2577.58,2398.4,2562.2,2517.21,2432.83,2476.1,2630.42,2450.31,2447.22,2567.48,2532.4,2485.8,2427.2,2573.37,2452.15,2552.96,2605.97,2628.68,2555.27,2552.65,2431.12,2456.06,2518.89,2382.18,2495.58,2522.77,2512.14,2499.04,2438.11,2539.5,2528.73,2510.26,2435.85,2563.28,2574.38,2397.74,2449.84,2365.17,2412.64,2401.5,2558.88,2492.72,2462.09,2539.61,2452.1,2523.21,2502.42,2508.94,2595.7,2618.12,2585.92,2391.87,2464.45,2546.74,2418.41,2453.34,2503.52,2496.32,2479.17,2472.6,2631.92,2611.65,2490.63,2500.85,2441.12,2549.21,2603.92,2534.16,2257.95,2266.0,2474.9,2514.52,2485.73,2449.59,2567.33,2512.44,2491.07,2530.99,2491.01,2501.26,2462.85,2486.94,2501.91,2454.38,2587.37,2548.76,2572.85,2522.03,2473.65,2524.13,2446.38,2233.29,2629.96,2565.73,2439.42,2545.77,null,2521.93,2574.34,2553.64,null,2572.48,2427.36,2487.12,2555.41,2457.42,2502.09,2493.34,2544.85,2563.75,2489.86,2523.78,2413.39,2522.4,2547.2,2567.76,2571.41,2532.3,2506.21,2530.11,2512.77,2486.53,2446.49,2357.09,2501.54,2519.92,2514.38,2405.19,2537.68,2525.84,2459.56,2525.56,2598.77,2510.19,2487.1,2434.42,2673.38,2424.11,2384.04,2467.44,2541.55,2459.87,2507.57,2485.82,2548.79,2500.38,2412.91,2477.25,2396.64,2423.98,2579.49,2484.43,2523.94,2582.12,2517.11,2524.88,2465.32,2488.94,2464.86,2497.33,2525.39,2538.76,2576.98,2429.47,2486.23,2504.01,2520.88,2485.47,2493.56,2583.05,2551.06,2450.89,2563.19,2414.63,2503.18,2415.79,2537.39,2449.21,2503.48,2563.64,2473.14,2588.74,2440.56,2462.34,2532.78,2414.43,2419.55,2453.45,2568.55,2535.93,2527.32,2839.46,2474.55,2459.02,2545.4,2512.63,2472.92,2438.17,2535.43,2516.34,2577.39,2555.88,2410.53,2587.86,2461.08,2565.93,2369.84,2425.3,2541.13,2506.62,2408.85,2566.3,2744.54,2529.79,2551.78,2496.52,2555.01,2472.74,2532.34,2556.35,2406.11,2467.73,2474.97,2534.49,2442.51,2449.85,2540.17,2446.55,2584.52,2529.9,2584.24,2483.2,2494.33,2386.26,2517.44,2527.68,2451.85,2534.68,2538.13,2580.44,2465.51,2559.42,2470.6,2493.72,2538.52,2499.46,2806.91,2424.95,2508.03,2525.74,2493.03,2457.48,2581.64,2594.52,2494.43,2580.25,2480.71,2494.82,2456.82,2593.67,2583.01,2499.15,2465.71,2514.44,2541.6,2484.71,2538.38,2556.95,2504.2,2442.6,2424.39,2560.38,2477.75,2427.14,2475.9,2550.88,2573.94,2521.49,2515.51,2583.56,2493.11,2430.7,2498.09,2516.64,2454.33,2460.97,2634.43,2489.07,2403.89,2420.03,2516.06,2528.67,2384.1,2441.77,2419.25,2599.93,2574.7,2493.21,2517.35,2564.93,2434.79,2470.5,2387.73,2265.6,2516.4,2448.34,2500.05,2458.9,2380.39,2259.49,2481.72,2585.72,2815.31,2524.95,2557.2,2507.02,2477.13,2458.88,2479.73,2489.53,2521.87,2428.64,2534.66,2373.31,2496.67,2553.24,2597.0,2445.56,2574.43,2510.09,2423.75,2504.48,2393.97,2507.66,2497.62,2531.02,2504.81,2536.87,2527.7,2451.5,2509.14,2507.74,2590.62,2449.49,2530.97,2444.69,2451.53,2547.65,2493.72,2383.76,2424.39,2349.85,2538.41,2472.41,2477.37,2417.92,2515.15,2426.76,2482.88,2590.88,2542.56,2548.46,2507.01,2556.64,2432.38,2512.75,2494.39,2480.56,2538.37,2444.67,2499.35,2549.85,2498.02,2459.97,2528.59,2543.1,2505.29,2451.31,2404.67,2546.24,2506.0,2483.77,2493.47,2529.82,2515.46,2512.02,2354.5,2485.99,2588.36,2501.05,2580.67,2608.21,2447.26,2416.09,2430.37,2575.41,2276.93,2585.48,2465.43,2481.99,2531.5,2538.33,2389.91,2611.5,2530.96,2401.59,2499.72,2452.52,2354.24,2437.76,2563.95,2417.43,2558.56,2532.71,2465.54,2525.2,2367.16,2560.99,2555.92,2499.79,2487.91,2447.97,2537.73,2490.6,2488.18,2542.36,2464.98,2498.0,2406.47,2489.06,2521.98,2500.19,2528.55,2515.03,2503.3,2534.87,2466.84,2456.13,2549.42,2326.59,2464.36,2522.55,2379.78,2532.01,2450.76],\"xaxis\":\"x\",\"yaxis\":\"y\",\"type\":\"histogram\"}],                        {\"template\":{\"data\":{\"bar\":[{\"error_x\":{\"color\":\"#2a3f5f\"},\"error_y\":{\"color\":\"#2a3f5f\"},\"marker\":{\"line\":{\"color\":\"#E5ECF6\",\"width\":0.5},\"pattern\":{\"fillmode\":\"overlay\",\"size\":10,\"solidity\":0.2}},\"type\":\"bar\"}],\"barpolar\":[{\"marker\":{\"line\":{\"color\":\"#E5ECF6\",\"width\":0.5},\"pattern\":{\"fillmode\":\"overlay\",\"size\":10,\"solidity\":0.2}},\"type\":\"barpolar\"}],\"carpet\":[{\"aaxis\":{\"endlinecolor\":\"#2a3f5f\",\"gridcolor\":\"white\",\"linecolor\":\"white\",\"minorgridcolor\":\"white\",\"startlinecolor\":\"#2a3f5f\"},\"baxis\":{\"endlinecolor\":\"#2a3f5f\",\"gridcolor\":\"white\",\"linecolor\":\"white\",\"minorgridcolor\":\"white\",\"startlinecolor\":\"#2a3f5f\"},\"type\":\"carpet\"}],\"choropleth\":[{\"colorbar\":{\"outlinewidth\":0,\"ticks\":\"\"},\"type\":\"choropleth\"}],\"contour\":[{\"colorbar\":{\"outlinewidth\":0,\"ticks\":\"\"},\"colorscale\":[[0.0,\"#0d0887\"],[0.1111111111111111,\"#46039f\"],[0.2222222222222222,\"#7201a8\"],[0.3333333333333333,\"#9c179e\"],[0.4444444444444444,\"#bd3786\"],[0.5555555555555556,\"#d8576b\"],[0.6666666666666666,\"#ed7953\"],[0.7777777777777778,\"#fb9f3a\"],[0.8888888888888888,\"#fdca26\"],[1.0,\"#f0f921\"]],\"type\":\"contour\"}],\"contourcarpet\":[{\"colorbar\":{\"outlinewidth\":0,\"ticks\":\"\"},\"type\":\"contourcarpet\"}],\"heatmap\":[{\"colorbar\":{\"outlinewidth\":0,\"ticks\":\"\"},\"colorscale\":[[0.0,\"#0d0887\"],[0.1111111111111111,\"#46039f\"],[0.2222222222222222,\"#7201a8\"],[0.3333333333333333,\"#9c179e\"],[0.4444444444444444,\"#bd3786\"],[0.5555555555555556,\"#d8576b\"],[0.6666666666666666,\"#ed7953\"],[0.7777777777777778,\"#fb9f3a\"],[0.8888888888888888,\"#fdca26\"],[1.0,\"#f0f921\"]],\"type\":\"heatmap\"}],\"heatmapgl\":[{\"colorbar\":{\"outlinewidth\":0,\"ticks\":\"\"},\"colorscale\":[[0.0,\"#0d0887\"],[0.1111111111111111,\"#46039f\"],[0.2222222222222222,\"#7201a8\"],[0.3333333333333333,\"#9c179e\"],[0.4444444444444444,\"#bd3786\"],[0.5555555555555556,\"#d8576b\"],[0.6666666666666666,\"#ed7953\"],[0.7777777777777778,\"#fb9f3a\"],[0.8888888888888888,\"#fdca26\"],[1.0,\"#f0f921\"]],\"type\":\"heatmapgl\"}],\"histogram\":[{\"marker\":{\"pattern\":{\"fillmode\":\"overlay\",\"size\":10,\"solidity\":0.2}},\"type\":\"histogram\"}],\"histogram2d\":[{\"colorbar\":{\"outlinewidth\":0,\"ticks\":\"\"},\"colorscale\":[[0.0,\"#0d0887\"],[0.1111111111111111,\"#46039f\"],[0.2222222222222222,\"#7201a8\"],[0.3333333333333333,\"#9c179e\"],[0.4444444444444444,\"#bd3786\"],[0.5555555555555556,\"#d8576b\"],[0.6666666666666666,\"#ed7953\"],[0.7777777777777778,\"#fb9f3a\"],[0.8888888888888888,\"#fdca26\"],[1.0,\"#f0f921\"]],\"type\":\"histogram2d\"}],\"histogram2dcontour\":[{\"colorbar\":{\"outlinewidth\":0,\"ticks\":\"\"},\"colorscale\":[[0.0,\"#0d0887\"],[0.1111111111111111,\"#46039f\"],[0.2222222222222222,\"#7201a8\"],[0.3333333333333333,\"#9c179e\"],[0.4444444444444444,\"#bd3786\"],[0.5555555555555556,\"#d8576b\"],[0.6666666666666666,\"#ed7953\"],[0.7777777777777778,\"#fb9f3a\"],[0.8888888888888888,\"#fdca26\"],[1.0,\"#f0f921\"]],\"type\":\"histogram2dcontour\"}],\"mesh3d\":[{\"colorbar\":{\"outlinewidth\":0,\"ticks\":\"\"},\"type\":\"mesh3d\"}],\"parcoords\":[{\"line\":{\"colorbar\":{\"outlinewidth\":0,\"ticks\":\"\"}},\"type\":\"parcoords\"}],\"pie\":[{\"automargin\":true,\"type\":\"pie\"}],\"scatter\":[{\"marker\":{\"colorbar\":{\"outlinewidth\":0,\"ticks\":\"\"}},\"type\":\"scatter\"}],\"scatter3d\":[{\"line\":{\"colorbar\":{\"outlinewidth\":0,\"ticks\":\"\"}},\"marker\":{\"colorbar\":{\"outlinewidth\":0,\"ticks\":\"\"}},\"type\":\"scatter3d\"}],\"scattercarpet\":[{\"marker\":{\"colorbar\":{\"outlinewidth\":0,\"ticks\":\"\"}},\"type\":\"scattercarpet\"}],\"scattergeo\":[{\"marker\":{\"colorbar\":{\"outlinewidth\":0,\"ticks\":\"\"}},\"type\":\"scattergeo\"}],\"scattergl\":[{\"marker\":{\"colorbar\":{\"outlinewidth\":0,\"ticks\":\"\"}},\"type\":\"scattergl\"}],\"scattermapbox\":[{\"marker\":{\"colorbar\":{\"outlinewidth\":0,\"ticks\":\"\"}},\"type\":\"scattermapbox\"}],\"scatterpolar\":[{\"marker\":{\"colorbar\":{\"outlinewidth\":0,\"ticks\":\"\"}},\"type\":\"scatterpolar\"}],\"scatterpolargl\":[{\"marker\":{\"colorbar\":{\"outlinewidth\":0,\"ticks\":\"\"}},\"type\":\"scatterpolargl\"}],\"scatterternary\":[{\"marker\":{\"colorbar\":{\"outlinewidth\":0,\"ticks\":\"\"}},\"type\":\"scatterternary\"}],\"surface\":[{\"colorbar\":{\"outlinewidth\":0,\"ticks\":\"\"},\"colorscale\":[[0.0,\"#0d0887\"],[0.1111111111111111,\"#46039f\"],[0.2222222222222222,\"#7201a8\"],[0.3333333333333333,\"#9c179e\"],[0.4444444444444444,\"#bd3786\"],[0.5555555555555556,\"#d8576b\"],[0.6666666666666666,\"#ed7953\"],[0.7777777777777778,\"#fb9f3a\"],[0.8888888888888888,\"#fdca26\"],[1.0,\"#f0f921\"]],\"type\":\"surface\"}],\"table\":[{\"cells\":{\"fill\":{\"color\":\"#EBF0F8\"},\"line\":{\"color\":\"white\"}},\"header\":{\"fill\":{\"color\":\"#C8D4E3\"},\"line\":{\"color\":\"white\"}},\"type\":\"table\"}]},\"layout\":{\"annotationdefaults\":{\"arrowcolor\":\"#2a3f5f\",\"arrowhead\":0,\"arrowwidth\":1},\"autotypenumbers\":\"strict\",\"coloraxis\":{\"colorbar\":{\"outlinewidth\":0,\"ticks\":\"\"}},\"colorscale\":{\"diverging\":[[0,\"#8e0152\"],[0.1,\"#c51b7d\"],[0.2,\"#de77ae\"],[0.3,\"#f1b6da\"],[0.4,\"#fde0ef\"],[0.5,\"#f7f7f7\"],[0.6,\"#e6f5d0\"],[0.7,\"#b8e186\"],[0.8,\"#7fbc41\"],[0.9,\"#4d9221\"],[1,\"#276419\"]],\"sequential\":[[0.0,\"#0d0887\"],[0.1111111111111111,\"#46039f\"],[0.2222222222222222,\"#7201a8\"],[0.3333333333333333,\"#9c179e\"],[0.4444444444444444,\"#bd3786\"],[0.5555555555555556,\"#d8576b\"],[0.6666666666666666,\"#ed7953\"],[0.7777777777777778,\"#fb9f3a\"],[0.8888888888888888,\"#fdca26\"],[1.0,\"#f0f921\"]],\"sequentialminus\":[[0.0,\"#0d0887\"],[0.1111111111111111,\"#46039f\"],[0.2222222222222222,\"#7201a8\"],[0.3333333333333333,\"#9c179e\"],[0.4444444444444444,\"#bd3786\"],[0.5555555555555556,\"#d8576b\"],[0.6666666666666666,\"#ed7953\"],[0.7777777777777778,\"#fb9f3a\"],[0.8888888888888888,\"#fdca26\"],[1.0,\"#f0f921\"]]},\"colorway\":[\"#636efa\",\"#EF553B\",\"#00cc96\",\"#ab63fa\",\"#FFA15A\",\"#19d3f3\",\"#FF6692\",\"#B6E880\",\"#FF97FF\",\"#FECB52\"],\"font\":{\"color\":\"#2a3f5f\"},\"geo\":{\"bgcolor\":\"white\",\"lakecolor\":\"white\",\"landcolor\":\"#E5ECF6\",\"showlakes\":true,\"showland\":true,\"subunitcolor\":\"white\"},\"hoverlabel\":{\"align\":\"left\"},\"hovermode\":\"closest\",\"mapbox\":{\"style\":\"light\"},\"paper_bgcolor\":\"white\",\"plot_bgcolor\":\"#E5ECF6\",\"polar\":{\"angularaxis\":{\"gridcolor\":\"white\",\"linecolor\":\"white\",\"ticks\":\"\"},\"bgcolor\":\"#E5ECF6\",\"radialaxis\":{\"gridcolor\":\"white\",\"linecolor\":\"white\",\"ticks\":\"\"}},\"scene\":{\"xaxis\":{\"backgroundcolor\":\"#E5ECF6\",\"gridcolor\":\"white\",\"gridwidth\":2,\"linecolor\":\"white\",\"showbackground\":true,\"ticks\":\"\",\"zerolinecolor\":\"white\"},\"yaxis\":{\"backgroundcolor\":\"#E5ECF6\",\"gridcolor\":\"white\",\"gridwidth\":2,\"linecolor\":\"white\",\"showbackground\":true,\"ticks\":\"\",\"zerolinecolor\":\"white\"},\"zaxis\":{\"backgroundcolor\":\"#E5ECF6\",\"gridcolor\":\"white\",\"gridwidth\":2,\"linecolor\":\"white\",\"showbackground\":true,\"ticks\":\"\",\"zerolinecolor\":\"white\"}},\"shapedefaults\":{\"line\":{\"color\":\"#2a3f5f\"}},\"ternary\":{\"aaxis\":{\"gridcolor\":\"white\",\"linecolor\":\"white\",\"ticks\":\"\"},\"baxis\":{\"gridcolor\":\"white\",\"linecolor\":\"white\",\"ticks\":\"\"},\"bgcolor\":\"#E5ECF6\",\"caxis\":{\"gridcolor\":\"white\",\"linecolor\":\"white\",\"ticks\":\"\"}},\"title\":{\"x\":0.05},\"xaxis\":{\"automargin\":true,\"gridcolor\":\"white\",\"linecolor\":\"white\",\"ticks\":\"\",\"title\":{\"standoff\":15},\"zerolinecolor\":\"white\",\"zerolinewidth\":2},\"yaxis\":{\"automargin\":true,\"gridcolor\":\"white\",\"linecolor\":\"white\",\"ticks\":\"\",\"title\":{\"standoff\":15},\"zerolinecolor\":\"white\",\"zerolinewidth\":2}}},\"xaxis\":{\"anchor\":\"y\",\"domain\":[0.0,1.0],\"title\":{\"text\":\"1\"}},\"yaxis\":{\"anchor\":\"x\",\"domain\":[0.0,1.0],\"title\":{\"text\":\"count\"}},\"legend\":{\"tracegroupgap\":0},\"margin\":{\"t\":60},\"barmode\":\"relative\"},                        {\"responsive\": true}                    ).then(function(){\n",
       "                            \n",
       "var gd = document.getElementById('b6b7279a-254e-40b0-8281-96ad414293bf');\n",
       "var x = new MutationObserver(function (mutations, observer) {{\n",
       "        var display = window.getComputedStyle(gd).display;\n",
       "        if (!display || display === 'none') {{\n",
       "            console.log([gd, 'removed!']);\n",
       "            Plotly.purge(gd);\n",
       "            observer.disconnect();\n",
       "        }}\n",
       "}});\n",
       "\n",
       "// Listen for the removal of the full notebook cells\n",
       "var notebookContainer = gd.closest('#notebook-container');\n",
       "if (notebookContainer) {{\n",
       "    x.observe(notebookContainer, {childList: true});\n",
       "}}\n",
       "\n",
       "// Listen for the clearing of the current output cell\n",
       "var outputEl = gd.closest('.output');\n",
       "if (outputEl) {{\n",
       "    x.observe(outputEl, {childList: true});\n",
       "}}\n",
       "\n",
       "                        })                };                });            </script>        </div>"
      ]
     },
     "metadata": {},
     "output_type": "display_data"
    }
   ],
   "source": [
    "px.histogram(df,x=\"1\")"
   ]
  },
  {
   "cell_type": "markdown",
   "metadata": {
    "tags": []
   },
   "source": [
    "### Removing Sparse Features (10 points)\n",
    "\n",
    "We can remove the features that have more than 100 missing entries. \n",
    "\n",
    "You can find the location where a condition is met in a Pandas array using `data.loc[:,:]` with traditional numpy-like indexing"
   ]
  },
  {
   "cell_type": "code",
   "execution_count": 13,
   "metadata": {
    "tags": []
   },
   "outputs": [
    {
     "data": {
      "text/plain": [
       "6"
      ]
     },
     "execution_count": 13,
     "metadata": {},
     "output_type": "execute_result"
    }
   ],
   "source": [
    "df.iloc[:,73].isna().sum()"
   ]
  },
  {
   "cell_type": "code",
   "execution_count": 12,
   "metadata": {},
   "outputs": [
    {
     "data": {
      "text/plain": [
       "0       0.0\n",
       "1       0.0\n",
       "2       0.0\n",
       "3       0.0\n",
       "4       0.0\n",
       "       ... \n",
       "1562    0.0\n",
       "1563    0.0\n",
       "1564    0.0\n",
       "1565    0.0\n",
       "1566    0.0\n",
       "Name: 74, Length: 1567, dtype: float64"
      ]
     },
     "execution_count": 12,
     "metadata": {},
     "output_type": "execute_result"
    }
   ],
   "source": [
    "df.iloc[:,73]"
   ]
  },
  {
   "cell_type": "markdown",
   "metadata": {
    "tags": []
   },
   "source": [
    "Remove these columns in the dataframe using the `.drop()` method, make sure inplace is set to True"
   ]
  },
  {
   "cell_type": "code",
   "execution_count": 11,
   "metadata": {},
   "outputs": [
    {
     "name": "stdout",
     "output_type": "stream",
     "text": [
      "52\n"
     ]
    }
   ],
   "source": [
    "count=0\n",
    "for i in range(len(nan_count_column)):\n",
    "    if nan_count_column[i]>100:\n",
    "        count+=1\n",
    "        df.drop(labels=f\"{i-1}\",axis =1, inplace=True)\n",
    "print(count)  #to see how many features are removed."
   ]
  },
  {
   "cell_type": "code",
   "execution_count": 14,
   "metadata": {},
   "outputs": [
    {
     "name": "stdout",
     "output_type": "stream",
     "text": [
      "0\n"
     ]
    }
   ],
   "source": [
    "nan_count_column2 = df.isna().sum()\n",
    "nan_count_column2\n",
    "\n",
    "count=0\n",
    "for i in range(len(nan_count_column2)):\n",
    "    if nan_count_column2[i]>100:\n",
    "        count+=1\n",
    "        print(i)\n",
    "print(count)  #to see how many features are removed."
   ]
  },
  {
   "cell_type": "markdown",
   "metadata": {
    "tags": []
   },
   "source": [
    "It is useful to check the shape to make sure that the operation worked"
   ]
  },
  {
   "cell_type": "code",
   "execution_count": 15,
   "metadata": {},
   "outputs": [
    {
     "data": {
      "text/plain": [
       "(1567, 540)"
      ]
     },
     "execution_count": 15,
     "metadata": {},
     "output_type": "execute_result"
    }
   ],
   "source": [
    "column_names = df.columns.values\n",
    "df.shape"
   ]
  },
  {
   "cell_type": "markdown",
   "metadata": {
    "tags": []
   },
   "source": [
    "It is useful to see how many data points have missing information\n",
    "\n",
    "Hint: you can change the axis of the `isna()`\n",
    "\n",
    "You can use the built-in method `value_counts()` to view the number of samples with bad rows."
   ]
  },
  {
   "cell_type": "code",
   "execution_count": 17,
   "metadata": {},
   "outputs": [
    {
     "name": "stdout",
     "output_type": "stream",
     "text": [
      "32\n"
     ]
    }
   ],
   "source": [
    "df_nan = df.isna() \n",
    "i=0\n",
    "count=0\n",
    "for i in range(len(df.index.values)):\n",
    "    if df_nan.iloc[i].value_counts()[0].item() < 500: #Value counts give True and False Numbers. If there is more than 40 NaN in an instance,\n",
    "        #if condition is satisfied and it remove that instance from row.\n",
    "        df.drop(index=i, inplace=True)\n",
    "        count+=1\n",
    "print(count) #to see how many instances are removed."
   ]
  },
  {
   "cell_type": "code",
   "execution_count": 18,
   "metadata": {},
   "outputs": [
    {
     "name": "stdout",
     "output_type": "stream",
     "text": [
      "0\n"
     ]
    }
   ],
   "source": [
    "df_nan = df.isna() \n",
    "i=0\n",
    "count=0\n",
    "for i in range(len(df.index.values)):\n",
    "    if df_nan.iloc[i].value_counts()[0].item() < 500: #Value counts give True and False Numbers. If there is more than 40 NaN in an instance,\n",
    "        #if condition is satisfied and it remove that instance from row.\n",
    "        #df.drop(index=i, inplace=True)\n",
    "        count+=1\n",
    "print(count) #to see how many instances are removed."
   ]
  },
  {
   "cell_type": "code",
   "execution_count": 19,
   "metadata": {},
   "outputs": [
    {
     "data": {
      "text/plain": [
       "(1535, 540)"
      ]
     },
     "execution_count": 19,
     "metadata": {},
     "output_type": "execute_result"
    }
   ],
   "source": [
    "df.shape"
   ]
  },
  {
   "cell_type": "markdown",
   "metadata": {},
   "source": [
    "Since it is not that many we can remove these rows.\n",
    "* you can just index the data that you want using the built-in method `.loc()`"
   ]
  },
  {
   "cell_type": "code",
   "execution_count": 20,
   "metadata": {},
   "outputs": [
    {
     "data": {
      "text/plain": [
       "Time         2008-07-19 12:32:00\n",
       "0                        3095.78\n",
       "1                        2465.14\n",
       "2                      2230.4222\n",
       "3                      1463.6606\n",
       "                    ...         \n",
       "586                       0.0096\n",
       "587                       0.0201\n",
       "588                        0.006\n",
       "589                     208.2045\n",
       "Pass/Fail                     -1\n",
       "Name: 1, Length: 540, dtype: object"
      ]
     },
     "execution_count": 20,
     "metadata": {},
     "output_type": "execute_result"
    }
   ],
   "source": [
    "df.loc[1,:]"
   ]
  },
  {
   "cell_type": "markdown",
   "metadata": {},
   "source": [
    "You should grab the features and labels you can do this by:\n",
    "1. Using the Pandas `drop` built-in method, you can also drop the time\n",
    "2. You should set the the prediction to be if the dataset passed or failed\n",
    "3. It is a good idea to replace the -1 values with 0 using the pandas built-in method `.replace`"
   ]
  },
  {
   "cell_type": "code",
   "execution_count": 21,
   "metadata": {},
   "outputs": [],
   "source": [
    "try:\n",
    "    df.drop(labels=\"Time\",axis=1, inplace=True)\n",
    "except: \n",
    "    pass\n",
    "\n",
    "df = df.replace(-1,0)\n",
    "df = df.fillna(0)"
   ]
  },
  {
   "cell_type": "code",
   "execution_count": 22,
   "metadata": {},
   "outputs": [
    {
     "data": {
      "text/html": [
       "<div>\n",
       "<style scoped>\n",
       "    .dataframe tbody tr th:only-of-type {\n",
       "        vertical-align: middle;\n",
       "    }\n",
       "\n",
       "    .dataframe tbody tr th {\n",
       "        vertical-align: top;\n",
       "    }\n",
       "\n",
       "    .dataframe thead th {\n",
       "        text-align: right;\n",
       "    }\n",
       "</style>\n",
       "<table border=\"1\" class=\"dataframe\">\n",
       "  <thead>\n",
       "    <tr style=\"text-align: right;\">\n",
       "      <th></th>\n",
       "      <th>0</th>\n",
       "      <th>1</th>\n",
       "      <th>2</th>\n",
       "      <th>3</th>\n",
       "      <th>4</th>\n",
       "      <th>5</th>\n",
       "      <th>6</th>\n",
       "      <th>7</th>\n",
       "      <th>8</th>\n",
       "      <th>9</th>\n",
       "      <th>...</th>\n",
       "      <th>577</th>\n",
       "      <th>582</th>\n",
       "      <th>583</th>\n",
       "      <th>584</th>\n",
       "      <th>585</th>\n",
       "      <th>586</th>\n",
       "      <th>587</th>\n",
       "      <th>588</th>\n",
       "      <th>589</th>\n",
       "      <th>Pass/Fail</th>\n",
       "    </tr>\n",
       "  </thead>\n",
       "  <tbody>\n",
       "    <tr>\n",
       "      <th>0</th>\n",
       "      <td>3030.93</td>\n",
       "      <td>2564.00</td>\n",
       "      <td>2187.7333</td>\n",
       "      <td>1411.1265</td>\n",
       "      <td>1.3602</td>\n",
       "      <td>100.0</td>\n",
       "      <td>97.6133</td>\n",
       "      <td>0.1242</td>\n",
       "      <td>1.5005</td>\n",
       "      <td>0.0162</td>\n",
       "      <td>...</td>\n",
       "      <td>14.9509</td>\n",
       "      <td>0.5005</td>\n",
       "      <td>0.0118</td>\n",
       "      <td>0.0035</td>\n",
       "      <td>2.3630</td>\n",
       "      <td>0.0000</td>\n",
       "      <td>0.0000</td>\n",
       "      <td>0.0000</td>\n",
       "      <td>0.0000</td>\n",
       "      <td>0</td>\n",
       "    </tr>\n",
       "    <tr>\n",
       "      <th>1</th>\n",
       "      <td>3095.78</td>\n",
       "      <td>2465.14</td>\n",
       "      <td>2230.4222</td>\n",
       "      <td>1463.6606</td>\n",
       "      <td>0.8294</td>\n",
       "      <td>100.0</td>\n",
       "      <td>102.3433</td>\n",
       "      <td>0.1247</td>\n",
       "      <td>1.4966</td>\n",
       "      <td>-0.0005</td>\n",
       "      <td>...</td>\n",
       "      <td>10.9003</td>\n",
       "      <td>0.5019</td>\n",
       "      <td>0.0223</td>\n",
       "      <td>0.0055</td>\n",
       "      <td>4.4447</td>\n",
       "      <td>0.0096</td>\n",
       "      <td>0.0201</td>\n",
       "      <td>0.0060</td>\n",
       "      <td>208.2045</td>\n",
       "      <td>0</td>\n",
       "    </tr>\n",
       "    <tr>\n",
       "      <th>2</th>\n",
       "      <td>2932.61</td>\n",
       "      <td>2559.94</td>\n",
       "      <td>2186.4111</td>\n",
       "      <td>1698.0172</td>\n",
       "      <td>1.5102</td>\n",
       "      <td>100.0</td>\n",
       "      <td>95.4878</td>\n",
       "      <td>0.1241</td>\n",
       "      <td>1.4436</td>\n",
       "      <td>0.0041</td>\n",
       "      <td>...</td>\n",
       "      <td>9.2721</td>\n",
       "      <td>0.4958</td>\n",
       "      <td>0.0157</td>\n",
       "      <td>0.0039</td>\n",
       "      <td>3.1745</td>\n",
       "      <td>0.0584</td>\n",
       "      <td>0.0484</td>\n",
       "      <td>0.0148</td>\n",
       "      <td>82.8602</td>\n",
       "      <td>1</td>\n",
       "    </tr>\n",
       "    <tr>\n",
       "      <th>3</th>\n",
       "      <td>2988.72</td>\n",
       "      <td>2479.90</td>\n",
       "      <td>2199.0333</td>\n",
       "      <td>909.7926</td>\n",
       "      <td>1.3204</td>\n",
       "      <td>100.0</td>\n",
       "      <td>104.2367</td>\n",
       "      <td>0.1217</td>\n",
       "      <td>1.4882</td>\n",
       "      <td>-0.0124</td>\n",
       "      <td>...</td>\n",
       "      <td>8.5831</td>\n",
       "      <td>0.4990</td>\n",
       "      <td>0.0103</td>\n",
       "      <td>0.0025</td>\n",
       "      <td>2.0544</td>\n",
       "      <td>0.0202</td>\n",
       "      <td>0.0149</td>\n",
       "      <td>0.0044</td>\n",
       "      <td>73.8432</td>\n",
       "      <td>0</td>\n",
       "    </tr>\n",
       "    <tr>\n",
       "      <th>4</th>\n",
       "      <td>3032.24</td>\n",
       "      <td>2502.87</td>\n",
       "      <td>2233.3667</td>\n",
       "      <td>1326.5200</td>\n",
       "      <td>1.5334</td>\n",
       "      <td>100.0</td>\n",
       "      <td>100.3967</td>\n",
       "      <td>0.1235</td>\n",
       "      <td>1.5031</td>\n",
       "      <td>-0.0031</td>\n",
       "      <td>...</td>\n",
       "      <td>10.9698</td>\n",
       "      <td>0.4800</td>\n",
       "      <td>0.4766</td>\n",
       "      <td>0.1045</td>\n",
       "      <td>99.3032</td>\n",
       "      <td>0.0202</td>\n",
       "      <td>0.0149</td>\n",
       "      <td>0.0044</td>\n",
       "      <td>73.8432</td>\n",
       "      <td>0</td>\n",
       "    </tr>\n",
       "    <tr>\n",
       "      <th>...</th>\n",
       "      <td>...</td>\n",
       "      <td>...</td>\n",
       "      <td>...</td>\n",
       "      <td>...</td>\n",
       "      <td>...</td>\n",
       "      <td>...</td>\n",
       "      <td>...</td>\n",
       "      <td>...</td>\n",
       "      <td>...</td>\n",
       "      <td>...</td>\n",
       "      <td>...</td>\n",
       "      <td>...</td>\n",
       "      <td>...</td>\n",
       "      <td>...</td>\n",
       "      <td>...</td>\n",
       "      <td>...</td>\n",
       "      <td>...</td>\n",
       "      <td>...</td>\n",
       "      <td>...</td>\n",
       "      <td>...</td>\n",
       "      <td>...</td>\n",
       "    </tr>\n",
       "    <tr>\n",
       "      <th>1557</th>\n",
       "      <td>3072.10</td>\n",
       "      <td>2534.87</td>\n",
       "      <td>2177.4333</td>\n",
       "      <td>2945.8855</td>\n",
       "      <td>1.3321</td>\n",
       "      <td>100.0</td>\n",
       "      <td>83.1700</td>\n",
       "      <td>0.1253</td>\n",
       "      <td>1.4359</td>\n",
       "      <td>-0.0114</td>\n",
       "      <td>...</td>\n",
       "      <td>12.8330</td>\n",
       "      <td>0.5010</td>\n",
       "      <td>0.0132</td>\n",
       "      <td>0.0035</td>\n",
       "      <td>2.6249</td>\n",
       "      <td>0.0277</td>\n",
       "      <td>0.0074</td>\n",
       "      <td>0.0023</td>\n",
       "      <td>26.7330</td>\n",
       "      <td>0</td>\n",
       "    </tr>\n",
       "    <tr>\n",
       "      <th>1558</th>\n",
       "      <td>3012.30</td>\n",
       "      <td>2466.84</td>\n",
       "      <td>2217.4111</td>\n",
       "      <td>1032.2836</td>\n",
       "      <td>1.4802</td>\n",
       "      <td>100.0</td>\n",
       "      <td>101.3511</td>\n",
       "      <td>0.1195</td>\n",
       "      <td>1.3832</td>\n",
       "      <td>0.0042</td>\n",
       "      <td>...</td>\n",
       "      <td>23.4054</td>\n",
       "      <td>0.4993</td>\n",
       "      <td>0.0130</td>\n",
       "      <td>0.0037</td>\n",
       "      <td>2.5976</td>\n",
       "      <td>0.0097</td>\n",
       "      <td>0.0172</td>\n",
       "      <td>0.0054</td>\n",
       "      <td>176.6783</td>\n",
       "      <td>0</td>\n",
       "    </tr>\n",
       "    <tr>\n",
       "      <th>1559</th>\n",
       "      <td>3076.33</td>\n",
       "      <td>2456.13</td>\n",
       "      <td>2217.4111</td>\n",
       "      <td>1032.2836</td>\n",
       "      <td>1.4802</td>\n",
       "      <td>100.0</td>\n",
       "      <td>101.3511</td>\n",
       "      <td>0.1195</td>\n",
       "      <td>1.3120</td>\n",
       "      <td>-0.0043</td>\n",
       "      <td>...</td>\n",
       "      <td>22.9183</td>\n",
       "      <td>0.4960</td>\n",
       "      <td>0.0157</td>\n",
       "      <td>0.0036</td>\n",
       "      <td>3.1743</td>\n",
       "      <td>0.0150</td>\n",
       "      <td>0.0176</td>\n",
       "      <td>0.0057</td>\n",
       "      <td>117.4564</td>\n",
       "      <td>0</td>\n",
       "    </tr>\n",
       "    <tr>\n",
       "      <th>1562</th>\n",
       "      <td>2899.41</td>\n",
       "      <td>2464.36</td>\n",
       "      <td>2179.7333</td>\n",
       "      <td>3085.3781</td>\n",
       "      <td>1.4843</td>\n",
       "      <td>100.0</td>\n",
       "      <td>82.2467</td>\n",
       "      <td>0.1248</td>\n",
       "      <td>1.3424</td>\n",
       "      <td>-0.0045</td>\n",
       "      <td>...</td>\n",
       "      <td>11.7256</td>\n",
       "      <td>0.4988</td>\n",
       "      <td>0.0143</td>\n",
       "      <td>0.0039</td>\n",
       "      <td>2.8669</td>\n",
       "      <td>0.0068</td>\n",
       "      <td>0.0138</td>\n",
       "      <td>0.0047</td>\n",
       "      <td>203.1720</td>\n",
       "      <td>0</td>\n",
       "    </tr>\n",
       "    <tr>\n",
       "      <th>1563</th>\n",
       "      <td>3052.31</td>\n",
       "      <td>2522.55</td>\n",
       "      <td>2198.5667</td>\n",
       "      <td>1124.6595</td>\n",
       "      <td>0.8763</td>\n",
       "      <td>100.0</td>\n",
       "      <td>98.4689</td>\n",
       "      <td>0.1205</td>\n",
       "      <td>1.4333</td>\n",
       "      <td>-0.0061</td>\n",
       "      <td>...</td>\n",
       "      <td>17.8379</td>\n",
       "      <td>0.4975</td>\n",
       "      <td>0.0131</td>\n",
       "      <td>0.0036</td>\n",
       "      <td>2.6238</td>\n",
       "      <td>0.0068</td>\n",
       "      <td>0.0138</td>\n",
       "      <td>0.0047</td>\n",
       "      <td>203.1720</td>\n",
       "      <td>0</td>\n",
       "    </tr>\n",
       "  </tbody>\n",
       "</table>\n",
       "<p>1535 rows × 539 columns</p>\n",
       "</div>"
      ],
      "text/plain": [
       "            0        1          2          3       4      5         6       7  \\\n",
       "0     3030.93  2564.00  2187.7333  1411.1265  1.3602  100.0   97.6133  0.1242   \n",
       "1     3095.78  2465.14  2230.4222  1463.6606  0.8294  100.0  102.3433  0.1247   \n",
       "2     2932.61  2559.94  2186.4111  1698.0172  1.5102  100.0   95.4878  0.1241   \n",
       "3     2988.72  2479.90  2199.0333   909.7926  1.3204  100.0  104.2367  0.1217   \n",
       "4     3032.24  2502.87  2233.3667  1326.5200  1.5334  100.0  100.3967  0.1235   \n",
       "...       ...      ...        ...        ...     ...    ...       ...     ...   \n",
       "1557  3072.10  2534.87  2177.4333  2945.8855  1.3321  100.0   83.1700  0.1253   \n",
       "1558  3012.30  2466.84  2217.4111  1032.2836  1.4802  100.0  101.3511  0.1195   \n",
       "1559  3076.33  2456.13  2217.4111  1032.2836  1.4802  100.0  101.3511  0.1195   \n",
       "1562  2899.41  2464.36  2179.7333  3085.3781  1.4843  100.0   82.2467  0.1248   \n",
       "1563  3052.31  2522.55  2198.5667  1124.6595  0.8763  100.0   98.4689  0.1205   \n",
       "\n",
       "           8       9  ...      577     582     583     584      585     586  \\\n",
       "0     1.5005  0.0162  ...  14.9509  0.5005  0.0118  0.0035   2.3630  0.0000   \n",
       "1     1.4966 -0.0005  ...  10.9003  0.5019  0.0223  0.0055   4.4447  0.0096   \n",
       "2     1.4436  0.0041  ...   9.2721  0.4958  0.0157  0.0039   3.1745  0.0584   \n",
       "3     1.4882 -0.0124  ...   8.5831  0.4990  0.0103  0.0025   2.0544  0.0202   \n",
       "4     1.5031 -0.0031  ...  10.9698  0.4800  0.4766  0.1045  99.3032  0.0202   \n",
       "...      ...     ...  ...      ...     ...     ...     ...      ...     ...   \n",
       "1557  1.4359 -0.0114  ...  12.8330  0.5010  0.0132  0.0035   2.6249  0.0277   \n",
       "1558  1.3832  0.0042  ...  23.4054  0.4993  0.0130  0.0037   2.5976  0.0097   \n",
       "1559  1.3120 -0.0043  ...  22.9183  0.4960  0.0157  0.0036   3.1743  0.0150   \n",
       "1562  1.3424 -0.0045  ...  11.7256  0.4988  0.0143  0.0039   2.8669  0.0068   \n",
       "1563  1.4333 -0.0061  ...  17.8379  0.4975  0.0131  0.0036   2.6238  0.0068   \n",
       "\n",
       "         587     588       589  Pass/Fail  \n",
       "0     0.0000  0.0000    0.0000          0  \n",
       "1     0.0201  0.0060  208.2045          0  \n",
       "2     0.0484  0.0148   82.8602          1  \n",
       "3     0.0149  0.0044   73.8432          0  \n",
       "4     0.0149  0.0044   73.8432          0  \n",
       "...      ...     ...       ...        ...  \n",
       "1557  0.0074  0.0023   26.7330          0  \n",
       "1558  0.0172  0.0054  176.6783          0  \n",
       "1559  0.0176  0.0057  117.4564          0  \n",
       "1562  0.0138  0.0047  203.1720          0  \n",
       "1563  0.0138  0.0047  203.1720          0  \n",
       "\n",
       "[1535 rows x 539 columns]"
      ]
     },
     "execution_count": 22,
     "metadata": {},
     "output_type": "execute_result"
    }
   ],
   "source": [
    "df"
   ]
  },
  {
   "cell_type": "markdown",
   "metadata": {},
   "source": [
    "## Test-train split (5 points)\n",
    "\n",
    "Use the `train_test_split` method to split the data.\n",
    "\n",
    "For consistency make the `test_size = .3`, and the `random_state = 42`."
   ]
  },
  {
   "cell_type": "code",
   "execution_count": 23,
   "metadata": {},
   "outputs": [],
   "source": [
    "X=df.drop('Pass/Fail', axis=1)\n",
    "y=df['Pass/Fail']\n",
    "X_train, X_test, y_train, y_test=train_test_split(X, y, stratify=y, test_size=0.3, random_state=42)"
   ]
  },
  {
   "cell_type": "code",
   "execution_count": 24,
   "metadata": {},
   "outputs": [
    {
     "data": {
      "text/plain": [
       "0    1432\n",
       "1     103\n",
       "Name: Pass/Fail, dtype: int64"
      ]
     },
     "execution_count": 24,
     "metadata": {},
     "output_type": "execute_result"
    },
    {
     "data": {
      "image/png": "[encoded data removed]",
      "text/plain": [
       "<Figure size 432x288 with 1 Axes>"
      ]
     },
     "metadata": {
      "needs_background": "light"
     },
     "output_type": "display_data"
    }
   ],
   "source": [
    "sns.countplot(x='Pass/Fail', data=df)\n",
    "df[\"Pass/Fail\"].value_counts()"
   ]
  },
  {
   "cell_type": "code",
   "execution_count": 25,
   "metadata": {},
   "outputs": [
    {
     "data": {
      "text/plain": [
       "0    1002\n",
       "1      72\n",
       "Name: Pass/Fail, dtype: int64"
      ]
     },
     "execution_count": 25,
     "metadata": {},
     "output_type": "execute_result"
    },
    {
     "data": {
      "image/png": "[encoded data removed]",
      "text/plain": [
       "<Figure size 432x288 with 1 Axes>"
      ]
     },
     "metadata": {
      "needs_background": "light"
     },
     "output_type": "display_data"
    }
   ],
   "source": [
    "y_frame=pd.DataFrame()\n",
    "y_frame['Pass/Fail']=y_train\n",
    "sns.countplot(x=\"Pass/Fail\",data =y_frame)\n",
    "y_frame[\"Pass/Fail\"].value_counts()"
   ]
  },
  {
   "cell_type": "markdown",
   "metadata": {},
   "source": [
    "## Machine Learning (5 points)\n",
    "\n",
    "It is always good to try a quick machine learning model. If your data is simple it might just work.\n",
    "\n",
    "* Implement a `LogisticRegression` from scikit-learn\n",
    "* Fit the model"
   ]
  },
  {
   "cell_type": "code",
   "execution_count": 35,
   "metadata": {},
   "outputs": [
    {
     "name": "stdout",
     "output_type": "stream",
     "text": [
      "The nltk version is 3.7.\n",
      "The scikit-learn version is 1.0.2.\n"
     ]
    }
   ],
   "source": [
    "import nltk\n",
    "import sklearn\n",
    "\n",
    "print('The nltk version is {}.'.format(nltk.__version__))\n",
    "print('The scikit-learn version is {}.'.format(sklearn.__version__))"
   ]
  },
  {
   "cell_type": "code",
   "execution_count": 36,
   "metadata": {},
   "outputs": [
    {
     "name": "stderr",
     "output_type": "stream",
     "text": [
      "C:\\Users\\Engin\\anaconda3\\lib\\site-packages\\sklearn\\linear_model\\_logistic.py:814: ConvergenceWarning:\n",
      "\n",
      "lbfgs failed to converge (status=1):\n",
      "STOP: TOTAL NO. of ITERATIONS REACHED LIMIT.\n",
      "\n",
      "Increase the number of iterations (max_iter) or scale the data as shown in:\n",
      "    https://scikit-learn.org/stable/modules/preprocessing.html\n",
      "Please also refer to the documentation for alternative solver options:\n",
      "    https://scikit-learn.org/stable/modules/linear_model.html#logistic-regression\n",
      "\n"
     ]
    },
    {
     "data": {
      "text/plain": [
       "LogisticRegression(max_iter=1000)"
      ]
     },
     "execution_count": 36,
     "metadata": {},
     "output_type": "execute_result"
    }
   ],
   "source": [
    "lr = LogisticRegression(max_iter=1000)\n",
    "lr.fit(X_train, y_train)"
   ]
  },
  {
   "cell_type": "code",
   "execution_count": 37,
   "metadata": {},
   "outputs": [
    {
     "name": "stdout",
     "output_type": "stream",
     "text": [
      "model score: 0.920\n"
     ]
    }
   ],
   "source": [
    "print(\"model score: %.3f\" % lr.score(X_test, y_test))"
   ]
  },
  {
   "cell_type": "markdown",
   "metadata": {},
   "source": [
    "It is always a good idea to see if the model fit the data well.\n",
    "* uses the `.predict()` method to predict on the training data\n",
    "* use the sklearn function `classification_report` to evaluate the model\n",
    "* use the sklearn function `confusion_matrix`, you can plot this in plotly using `px.imshow()`\n",
    "\n",
    "You will reuse these lines of code to visualize your results"
   ]
  },
  {
   "cell_type": "code",
   "execution_count": 40,
   "metadata": {},
   "outputs": [
    {
     "name": "stdout",
     "output_type": "stream",
     "text": [
      "[0 0 0 ... 0 0 0]\n"
     ]
    }
   ],
   "source": [
    "y_pred= lr.predict(X_train)\n",
    "print(y_pred)"
   ]
  },
  {
   "cell_type": "code",
   "execution_count": 41,
   "metadata": {},
   "outputs": [
    {
     "name": "stdout",
     "output_type": "stream",
     "text": [
      "classification reports:\n",
      "               precision    recall  f1-score   support\n",
      "\n",
      "           0       0.94      1.00      0.97      1002\n",
      "           1       0.64      0.12      0.21        72\n",
      "\n",
      "    accuracy                           0.94      1074\n",
      "   macro avg       0.79      0.56      0.59      1074\n",
      "weighted avg       0.92      0.94      0.92      1074\n",
      "\n"
     ]
    }
   ],
   "source": [
    "print(\"classification reports:\\n\",classification_report(y_train, y_pred))"
   ]
  },
  {
   "cell_type": "code",
   "execution_count": 42,
   "metadata": {},
   "outputs": [
    {
     "data": {
      "image/png": "[encoded data removed]",
      "text/plain": [
       "<Figure size 864x576 with 1 Axes>"
      ]
     },
     "metadata": {
      "needs_background": "light"
     },
     "output_type": "display_data"
    }
   ],
   "source": [
    "predictions = lr.predict(X_train)\n",
    "cm = confusion_matrix(y_train,predictions)\n",
    "    \n",
    "fig, ax = plt.subplots(figsize=(12,8))\n",
    "plt.clf()\n",
    "plt.imshow(cm, interpolation='nearest', cmap=plt.cm.cividis)\n",
    "classNames = ['Negative','Positive']\n",
    "plt.title('Pass/Fail Index')\n",
    "plt.ylabel('True label')\n",
    "plt.xlabel('Predicted label')\n",
    "tick_marks = np.arange(len(classNames))\n",
    "plt.xticks(tick_marks, classNames)\n",
    "plt.yticks(tick_marks, classNames)\n",
    "s = [['TN','FP'], ['FN', 'TP']]\n",
    "for i in range(2):\n",
    "    for j in range(2):\n",
    "        plt.text(j,i, str(s[i][j])+\" = \"+str(cm[i][j]))\n",
    "plt.show()"
   ]
  },
  {
   "cell_type": "markdown",
   "metadata": {},
   "source": [
    "Now use the same approach to visualize the test results"
   ]
  },
  {
   "cell_type": "code",
   "execution_count": 38,
   "metadata": {},
   "outputs": [],
   "source": [
    "y_pred_test= lr.predict(X_test)"
   ]
  },
  {
   "cell_type": "code",
   "execution_count": 39,
   "metadata": {},
   "outputs": [
    {
     "name": "stdout",
     "output_type": "stream",
     "text": [
      "classification reports:\n",
      "               precision    recall  f1-score   support\n",
      "\n",
      "           0       0.94      0.98      0.96       430\n",
      "           1       0.20      0.06      0.10        31\n",
      "\n",
      "    accuracy                           0.92       461\n",
      "   macro avg       0.57      0.52      0.53       461\n",
      "weighted avg       0.89      0.92      0.90       461\n",
      "\n"
     ]
    },
    {
     "data": {
      "image/png": "[encoded data removed]",
      "text/plain": [
       "<Figure size 864x576 with 1 Axes>"
      ]
     },
     "metadata": {
      "needs_background": "light"
     },
     "output_type": "display_data"
    }
   ],
   "source": [
    "print(\"classification reports:\\n\",classification_report(y_test, y_pred_test))\n",
    "predictions = lr.predict(X_test)\n",
    "cm = confusion_matrix(y_test,predictions)\n",
    "    \n",
    "fig, ax = plt.subplots(figsize=(12,8))\n",
    "plt.clf()\n",
    "plt.imshow(cm, interpolation='nearest', cmap=plt.cm.cividis)\n",
    "classNames = ['Negative','Positive']\n",
    "plt.title('Pass/Fail Index')\n",
    "plt.ylabel('True label')\n",
    "plt.xlabel('Predicted label')\n",
    "tick_marks = np.arange(len(classNames))\n",
    "plt.xticks(tick_marks, classNames)\n",
    "plt.yticks(tick_marks, classNames)\n",
    "s = [['TN','FP'], ['FN', 'TP']]\n",
    "for i in range(2):\n",
    "    for j in range(2):\n",
    "        plt.text(j,i, str(s[i][j])+\" = \"+str(cm[i][j]))\n",
    "plt.show()"
   ]
  },
  {
   "cell_type": "markdown",
   "metadata": {},
   "source": [
    "<span style=\"color:blue\">Question: Describe what might be wrong with this model, does it provide any practical value? (5 points)</span>"
   ]
  },
  {
   "cell_type": "markdown",
   "metadata": {},
   "source": [
    "### Try Another Model (5 points)\n",
    "\n",
    "It could be that we just selected a bad model for the problem, try with a random forest classifier as implemented in scikit-learn\n",
    "* Instantiate the model\n",
    "* Fit the data"
   ]
  },
  {
   "cell_type": "code",
   "execution_count": 43,
   "metadata": {},
   "outputs": [
    {
     "data": {
      "text/plain": [
       "RandomForestClassifier()"
      ]
     },
     "execution_count": 43,
     "metadata": {},
     "output_type": "execute_result"
    }
   ],
   "source": [
    "rf=RandomForestClassifier()\n",
    "rf.fit(X_train, y_train)"
   ]
  },
  {
   "cell_type": "markdown",
   "metadata": {},
   "source": [
    "Validate the model on the training and testing dataset"
   ]
  },
  {
   "cell_type": "code",
   "execution_count": 44,
   "metadata": {},
   "outputs": [
    {
     "name": "stdout",
     "output_type": "stream",
     "text": [
      "classification reports:\n",
      "               precision    recall  f1-score   support\n",
      "\n",
      "           0       1.00      1.00      1.00      1002\n",
      "           1       1.00      1.00      1.00        72\n",
      "\n",
      "    accuracy                           1.00      1074\n",
      "   macro avg       1.00      1.00      1.00      1074\n",
      "weighted avg       1.00      1.00      1.00      1074\n",
      "\n"
     ]
    },
    {
     "data": {
      "image/png": "[encoded data removed]",
      "text/plain": [
       "<Figure size 864x576 with 1 Axes>"
      ]
     },
     "metadata": {
      "needs_background": "light"
     },
     "output_type": "display_data"
    }
   ],
   "source": [
    "y_pred_rf= rf.predict(X_train)\n",
    "print(\"classification reports:\\n\",classification_report(y_train, y_pred_rf))\n",
    "\n",
    "cm = confusion_matrix(y_train,y_pred_rf)\n",
    "    \n",
    "fig, ax = plt.subplots(figsize=(12,8))\n",
    "plt.clf()\n",
    "plt.imshow(cm, interpolation='nearest', cmap=plt.cm.cividis)\n",
    "classNames = ['Negative','Positive']\n",
    "plt.title('Pass/Fail Index')\n",
    "plt.ylabel('True label')\n",
    "plt.xlabel('Predicted label')\n",
    "tick_marks = np.arange(len(classNames))\n",
    "plt.xticks(tick_marks, classNames)\n",
    "plt.yticks(tick_marks, classNames)\n",
    "s = [['TN','FP'], ['FN', 'TP']]\n",
    "for i in range(2):\n",
    "    for j in range(2):\n",
    "        plt.text(j,i, str(s[i][j])+\" = \"+str(cm[i][j]))\n",
    "plt.show()"
   ]
  },
  {
   "cell_type": "code",
   "execution_count": 45,
   "metadata": {},
   "outputs": [
    {
     "name": "stdout",
     "output_type": "stream",
     "text": [
      "classification reports:\n",
      "               precision    recall  f1-score   support\n",
      "\n",
      "           0       0.93      1.00      0.96       430\n",
      "           1       0.00      0.00      0.00        31\n",
      "\n",
      "    accuracy                           0.93       461\n",
      "   macro avg       0.47      0.50      0.48       461\n",
      "weighted avg       0.87      0.93      0.90       461\n",
      "\n"
     ]
    },
    {
     "data": {
      "image/png": "[encoded data removed]",
      "text/plain": [
       "<Figure size 864x576 with 1 Axes>"
      ]
     },
     "metadata": {
      "needs_background": "light"
     },
     "output_type": "display_data"
    }
   ],
   "source": [
    "y_pred_rf_test= rf.predict(X_test)\n",
    "print(\"classification reports:\\n\",classification_report(y_test, y_pred_rf_test))\n",
    "\n",
    "cm = confusion_matrix(y_test,y_pred_rf_test)\n",
    "    \n",
    "fig, ax = plt.subplots(figsize=(12,8))\n",
    "plt.clf()\n",
    "plt.imshow(cm, interpolation='nearest', cmap=plt.cm.cividis)\n",
    "classNames = ['Negative','Positive']\n",
    "plt.title('Pass/Fail Index')\n",
    "plt.ylabel('True label')\n",
    "plt.xlabel('Predicted label')\n",
    "tick_marks = np.arange(len(classNames))\n",
    "plt.xticks(tick_marks, classNames)\n",
    "plt.yticks(tick_marks, classNames)\n",
    "s = [['TN','FP'], ['FN', 'TP']]\n",
    "for i in range(2):\n",
    "    for j in range(2):\n",
    "        plt.text(j,i, str(s[i][j])+\" = \"+str(cm[i][j]))\n",
    "plt.show()"
   ]
  },
  {
   "cell_type": "markdown",
   "metadata": {},
   "source": [
    "That still does not do anything meaningful"
   ]
  },
  {
   "cell_type": "markdown",
   "metadata": {},
   "source": [
    "## Normalizing the Data (10 points)\n",
    "\n",
    "Machine learning models prefer features with a mean of 0 and a standard deviation of 1. This makes the optimization easier.\n",
    "\n",
    "1. Make a histogram of the mean and standard deviation you can use the built-in method `.mean()` and `.std()`\n",
    "2. You can plot this using `px.histogram`"
   ]
  },
  {
   "cell_type": "code",
   "execution_count": 46,
   "metadata": {},
   "outputs": [
    {
     "data": {
      "text/plain": [
       "<AxesSubplot:xlabel='Pass/Fail', ylabel='count'>"
      ]
     },
     "execution_count": 46,
     "metadata": {},
     "output_type": "execute_result"
    },
    {
     "data": {
      "image/png": "[encoded data removed]",
      "text/plain": [
       "<Figure size 432x288 with 1 Axes>"
      ]
     },
     "metadata": {
      "needs_background": "light"
     },
     "output_type": "display_data"
    }
   ],
   "source": [
    "sns.countplot(x='Pass/Fail', data=df)"
   ]
  },
  {
   "cell_type": "code",
   "execution_count": 47,
   "metadata": {},
   "outputs": [
    {
     "name": "stdout",
     "output_type": "stream",
     "text": [
      "Mean Function\n",
      " 0            3003.170085\n",
      "1            2484.126378\n",
      "2            2181.839114\n",
      "3            1379.474087\n",
      "4               4.220810\n",
      "                ...     \n",
      "586             0.021502\n",
      "587             0.016474\n",
      "588             0.005284\n",
      "589            99.016395\n",
      "Pass/Fail       0.067101\n",
      "Length: 539, dtype: float64\n",
      "\n",
      "Std Function\n",
      " 0            201.947880\n",
      "1            186.411299\n",
      "2            203.847495\n",
      "3            453.372464\n",
      "4             56.684970\n",
      "                ...    \n",
      "586            0.012405\n",
      "587            0.008850\n",
      "588            0.002881\n",
      "589           93.177219\n",
      "Pass/Fail      0.250278\n",
      "Length: 539, dtype: float64\n"
     ]
    }
   ],
   "source": [
    "print(\"Mean Function\\n\",df.mean())\n",
    "print(\"\\nStd Function\\n\",df.std())"
   ]
  },
  {
   "cell_type": "code",
   "execution_count": 48,
   "metadata": {
    "tags": []
   },
   "outputs": [
    {
     "data": {
      "application/vnd.plotly.v1+json": {
       "config": {
        "plotlyServerURL": "https://plot.ly"
       },
       "data": [
        {
         "alignmentgroup": "True",
         "bingroup": "x",
         "hovertemplate": "variable=0<br>value=%{x}<br>count=%{y}<extra></extra>",
         "legendgroup": "0",
         "marker": {
          "color": "#636efa",
          "pattern": {
           "shape": ""
          }
         },
         "name": "0",
         "nbinsx": 100,
         "offsetgroup": "0",
         "orientation": "v",
         "showlegend": true,
         "type": "histogram",
         "x": [
          3003.1700846905533,
          2484.126377850165,
          2181.8391141368065,
          1379.4740869706802,
          4.220809511400649,
          99.15309446254072,
          100.2982257980456,
          0.12116273615635148,
          1.4632160912052141,
          -0.0008177850162866473,
          5.889250814332206e-05,
          0.9643465798045613,
          199.93965296416937,
          0,
          9.003592768729641,
          413.1057261889251,
          9.907558762214972,
          0.9714114657980436,
          190.0320950488599,
          12.399369250814381,
          1.4050200651465814,
          -5618.668078175896,
          2699.680618892508,
          -3794.1179152442996,
          -295.5110201954397,
          1.203955374592834,
          1.9385381107491841,
          6.640262540716606,
          69.49014938110744,
          2.366043583061895,
          0.1841144625407163,
          3.673837915309447,
          85.29132788273601,
          8.957449120521124,
          50.55321120521178,
          64.5205508143323,
          49.38165140065138,
          66.18045986970692,
          86.78552827361533,
          118.60995674267112,
          66.73017915309428,
          3.3120749837133543,
          70,
          355.5190942019542,
          10.03093400651467,
          136.7868942671009,
          733.7121940065143,
          1.1772570684039076,
          139.96178377850126,
          1,
          632.2677746579794,
          157.03596247557,
          0,
          4.580963517915305,
          4.825910749185684,
          2848.6899022801304,
          0.9264344625407139,
          0.9467344625407174,
          4.581531270358301,
          3.019136286644946,
          355.1745891205211,
          10.420975374592816,
          116.56173146579802,
          13.955511009772017,
          20.52722644951138,
          27.125629706840392,
          706.7233132247553,
          16.98201224755699,
          147.41865778501634,
          1,
          619.1577098371337,
          104.19258045602608,
          0.002733224755700326,
          -0.006899674267100976,
          -0.029379283387622197,
          -0.007195570032573292,
          -0.013575700325732926,
          0.0035456026058632013,
          -0.018512312703583052,
          -0.0209315309446254,
          0.005905407166123776,
          7.446387426710073,
          0.13203680781758956,
          2.401787947882738,
          0.982377980456027,
          1808.09118325733,
          0.18355368078175885,
          8579.920343778487,
          0.002185667752442998,
          0.0005290553745928341,
          -0.0005431270358306179,
          -2.8794788273615665e-05,
          6.0065146579805275e-05,
          0.016707622149837145,
          0,
          -0.016520716612377875,
          0.001342019543973941,
          -2.2475570032573252e-05,
          -6.514657980456048e-06,
          0.0014504885993485337,
          -0.009798697068403903,
          -1.3159609120521172e-05,
          -0.0005199348534201955,
          0.0005429967426710092,
          -0.0017925732899022814,
          -0.010856677524429965,
          0.9453880130293153,
          0.00012175895765472312,
          747.3108912052122,
          0.9871110097719895,
          58.62435667752447,
          0.5933082084690556,
          0.970787687296415,
          6.311174723127028,
          15.796410423452754,
          3.8988345276873,
          15.829570032573276,
          15.794671009771932,
          1.1834908143322451,
          2.751688599348538,
          0.6485396091205213,
          3.1913622149837173,
          -0.5533226710097731,
          0.7451339413680763,
          0.9978138110749153,
          2.3185830618892567,
          1004.0189854723164,
          39.38982449511408,
          117.00651465798046,
          137.48423452768728,
          122.12436482084694,
          57.11042136807818,
          411.58062990228,
          26.37583771986976,
          0,
          6.58465798045599,
          0.004147622149837107,
          0.1199923778501627,
          0.06355563517915315,
          0.054965407166123775,
          0.017428925081433237,
          8.473733159609111,
          0,
          6.808902931596115,
          14.109250814332219,
          1.2093687296416957,
          0.011944364820846907,
          7.694306188925076,
          0.5059583061889259,
          0.05834983713355042,
          879.299674267101,
          555.6514657980456,
          4069.2912052117263,
          4811.184364820847,
          0.14031009771986952,
          0.12764104234527673,
          0.2512384364820851,
          2.787947882736159,
          1.2356351791530955,
          0.12441824104234507,
          0.400514657980456,
          0.6841837133550475,
          0.11977570032573263,
          0.319855439739414,
          0.5761228013029317,
          0.319855374592835,
          0.7767933550488599,
          0.24461980456026047,
          0.39395765472312677,
          0,
          0,
          19.013048859934877,
          0.546465798045603,
          10.772032573289923,
          26.69887739413686,
          0.14493335504885999,
          7.388169381107491,
          0,
          17.96971980456025,
          43.14356351791527,
          0,
          0,
          0,
          0,
          0,
          0,
          0.2781289902280127,
          8.684039087947886,
          20.115563517915312,
          0.5579941368078173,
          11.493387622149834,
          17.640827361563506,
          7.821081433224756,
          10.166651335504902,
          30.147561433224773,
          32.7611160912051,
          9.068990228013043,
          0.0013029315960912053,
          20.440918566775217,
          73.30312899022805,
          0.03006514657980456,
          0.08825856677524432,
          0.056225863192182444,
          0.05098416938110742,
          0.059890228013029276,
          0.08277263843648201,
          0.08045328990228001,
          0.08282638436482086,
          0.07107758957654718,
          3.7718421498371226,
          0.0032201302931596136,
          0.06069335504885991,
          0.008924234527687279,
          122.87577934853437,
          0.05760410423452774,
          1011.3812959609131,
          0,
          0.019152833876221475,
          0.017841433224755676,
          0,
          0,
          0,
          0,
          0,
          0,
          0,
          0,
          0,
          0.004791335504885985,
          0.004576612377850155,
          0,
          0,
          0,
          0,
          0.025254723127035826,
          0.0010542671009771986,
          109.4989752442995,
          0.004337654723127037,
          4.678950879478838,
          0.032939348534201905,
          0.013896286644951118,
          0.40371648208468974,
          0,
          0,
          0,
          0,
          0,
          0,
          0,
          0,
          0,
          0,
          0,
          0.07044267100977192,
          19.508493811074935,
          3.77504482084691,
          29.092016547231285,
          45.841137915309375,
          41.125688664495144,
          20.01503179153091,
          134.60944384364782,
          8.792538762214974,
          0,
          2.1921689902280166,
          0.0011124429967426586,
          0.041048534201954444,
          0.018008143322475544,
          0.015067882736156338,
          0.005775309446254065,
          2.804915895765474,
          0,
          2.1165434527687323,
          4.2774667752443065,
          0.3715233224755688,
          0.003929185667752438,
          2.5777338110749195,
          0.1231882084690555,
          0.02000579804560259,
          400.3785313355049,
          253.24181061889232,
          1879.7524678827408,
          2350.8517104885987,
          0.06386280130293154,
          0.06012052117263837,
          0.11803068403908804,
          0.9097316612377833,
          0.40342501628664423,
          0.04036566775244296,
          0.13210482084690536,
          0.2648711400651469,
          0.048508403908794746,
          0.12885980456026092,
          0.21836918566775193,
          0.1288599348534205,
          0.3043616286644955,
          0.09730325732899028,
          0.15978280130293168,
          0,
          0,
          0,
          5.9759966123778465,
          0.17245798045602592,
          3.18533589576547,
          7.9284762214983795,
          0.043147687296416916,
          2.2700348534201917,
          0,
          5.402768599348536,
          13.307576416938117,
          0,
          0,
          0,
          0,
          0,
          0,
          0.08197100977198686,
          2.592188859934857,
          6.223661433224761,
          0.1686414332247559,
          3.4174811726384364,
          9.747853811074917,
          2.321853615635181,
          3.038201954397401,
          9.34947257328989,
          14.921237524429952,
          2.7380166123778436,
          0.00029133550488599346,
          6.218302410423456,
          23.23047947882735,
          0.009064951140065147,
          0.024535700325732913,
          0.025017263843648236,
          0.023000586319218214,
          0.02736820846905537,
          0.023197198697068367,
          0.04002618892508151,
          0.04159869706840392,
          0.034269315960912074,
          1.298912703583064,
          0.0009883387622149785,
          0.019829641693811077,
          0.0029808469055374823,
          39.94322631921829,
          0.017837133550488608,
          323.8175304234528,
          0,
          0.005205342019543964,
          0.004813224755700316,
          0.003785928338762217,
          0.003174853420195446,
          0,
          0,
          0,
          0,
          0,
          0,
          0,
          0.0016018892508143348,
          0.0015710097719869702,
          0,
          0,
          0,
          0,
          0.008304039087947883,
          0.00033583061889250806,
          35.11617928338765,
          0.0013543322475569855,
          1.442739869706841,
          0.010864234527687304,
          0.004520586319218245,
          0.13399758957654725,
          0,
          0,
          0,
          0,
          0,
          0,
          0,
          0,
          0,
          0,
          0,
          0.0241539413680782,
          6.734111140065169,
          1.2308015635179175,
          5.298309771986973,
          4.555801824104238,
          4.907530553745926,
          2.5938232573290043,
          30.691146058631894,
          25.307790814332293,
          0,
          6.569763517915312,
          3.386883452768731,
          8.186269576547232,
          320.27696729641696,
          309.14891928338733,
          1.8233162866449542,
          4.175001758957651,
          0,
          77.60884436482092,
          3.328612703583062,
          6.823508208469046,
          1.235792182410423,
          4.057189706840401,
          4.213407035830619,
          4.191182996742669,
          18.393667882736167,
          22.387587426710116,
          99.72235355048866,
          205.09861107491832,
          14.76602892508145,
          9.383080846905536,
          7.518071661237794,
          4.016018566775247,
          54.72501355048856,
          70.71705596091205,
          11.525835504885997,
          0.8018315309446269,
          1.3415236482084734,
          0.6334123778501644,
          0.8948916612377843,
          0.6465983713355079,
          1.1730694462540707,
          0.2817657980456022,
          0.33155550488599306,
          0,
          0,
          0,
          5.347034527687298,
          5.458011921824097,
          7.875851791530943,
          3.6415660586319287,
          12.345034136807788,
          5.279501824104229,
          0,
          2.8436044299674252,
          29.266377394136825,
          0,
          0,
          0,
          0,
          0,
          0,
          6.059277719869688,
          223.45489726384346,
          5.6686834527687395,
          5.374526579804563,
          9.597468859934839,
          138.11997413680774,
          39.34279342019536,
          37.59579231270354,
          4.272934983713353,
          20.1889851465798,
          6.273229967426708,
          0.13029315960912052,
          3.293535114006514,
          75.69799530944624,
          0,
          316.2421620846905,
          203.76650299674287,
          214.38659999999962,
          198.20597192182404,
          300.7233540716615,
          236.830535635179,
          350.4701482084692,
          268.2369280781757,
          51.36919439739408,
          2.418319674267101,
          2.5290879478827386,
          0.9681185016286677,
          6.808354006514665,
          28.949708013029323,
          11.484705993485345,
          0,
          261.25602019544,
          240.9656656026059,
          0,
          0,
          0,
          0,
          0,
          0,
          0,
          0,
          0,
          55.773189120521195,
          275.90405061889237,
          0,
          0,
          0,
          0,
          2.705471140065146,
          11.200648143322475,
          14.709653159609127,
          0.459633811074918,
          5.69902586319219,
          5.514406840390876,
          1.4386173289902318,
          6.39323674267103,
          0,
          0,
          0,
          0,
          0,
          0,
          0,
          0,
          0,
          0,
          0,
          3.028058175895773,
          1.9432859283387636,
          9.604882866449502,
          0.11105003257328981,
          0.008462019543973867,
          0.002506970684039082,
          7.60443224755698,
          0.9940373941368024,
          0.3257742671009772,
          0.0725162866449515,
          32.29638918566792,
          530.513345928337,
          2.1011634527687306,
          28.317347622149764,
          0.34508351791530945,
          9.124676872964157,
          0.10452723127035818,
          5.53736123778502,
          16.61518957654727,
          0.49976625407166153,
          0.01532032573289904,
          0.003846384364820838,
          3.068414527687296,
          0.021502019543973905,
          0.01647381107491854,
          0.005284234527687276,
          99.01639517915294,
          0.06710097719869706
         ],
         "xaxis": "x",
         "yaxis": "y"
        }
       ],
       "layout": {
        "autosize": true,
        "barmode": "relative",
        "legend": {
         "title": {
          "text": "variable"
         },
         "tracegroupgap": 0
        },
        "template": {
         "data": {
          "bar": [
           {
            "error_x": {
             "color": "#2a3f5f"
            },
            "error_y": {
             "color": "#2a3f5f"
            },
            "marker": {
             "line": {
              "color": "#E5ECF6",
              "width": 0.5
             },
             "pattern": {
              "fillmode": "overlay",
              "size": 10,
              "solidity": 0.2
             }
            },
            "type": "bar"
           }
          ],
          "barpolar": [
           {
            "marker": {
             "line": {
              "color": "#E5ECF6",
              "width": 0.5
             },
             "pattern": {
              "fillmode": "overlay",
              "size": 10,
              "solidity": 0.2
             }
            },
            "type": "barpolar"
           }
          ],
          "carpet": [
           {
            "aaxis": {
             "endlinecolor": "#2a3f5f",
             "gridcolor": "white",
             "linecolor": "white",
             "minorgridcolor": "white",
             "startlinecolor": "#2a3f5f"
            },
            "baxis": {
             "endlinecolor": "#2a3f5f",
             "gridcolor": "white",
             "linecolor": "white",
             "minorgridcolor": "white",
             "startlinecolor": "#2a3f5f"
            },
            "type": "carpet"
           }
          ],
          "choropleth": [
           {
            "colorbar": {
             "outlinewidth": 0,
             "ticks": ""
            },
            "type": "choropleth"
           }
          ],
          "contour": [
           {
            "colorbar": {
             "outlinewidth": 0,
             "ticks": ""
            },
            "colorscale": [
             [
              0,
              "#0d0887"
             ],
             [
              0.1111111111111111,
              "#46039f"
             ],
             [
              0.2222222222222222,
              "#7201a8"
             ],
             [
              0.3333333333333333,
              "#9c179e"
             ],
             [
              0.4444444444444444,
              "#bd3786"
             ],
             [
              0.5555555555555556,
              "#d8576b"
             ],
             [
              0.6666666666666666,
              "#ed7953"
             ],
             [
              0.7777777777777778,
              "#fb9f3a"
             ],
             [
              0.8888888888888888,
              "#fdca26"
             ],
             [
              1,
              "#f0f921"
             ]
            ],
            "type": "contour"
           }
          ],
          "contourcarpet": [
           {
            "colorbar": {
             "outlinewidth": 0,
             "ticks": ""
            },
            "type": "contourcarpet"
           }
          ],
          "heatmap": [
           {
            "colorbar": {
             "outlinewidth": 0,
             "ticks": ""
            },
            "colorscale": [
             [
              0,
              "#0d0887"
             ],
             [
              0.1111111111111111,
              "#46039f"
             ],
             [
              0.2222222222222222,
              "#7201a8"
             ],
             [
              0.3333333333333333,
              "#9c179e"
             ],
             [
              0.4444444444444444,
              "#bd3786"
             ],
             [
              0.5555555555555556,
              "#d8576b"
             ],
             [
              0.6666666666666666,
              "#ed7953"
             ],
             [
              0.7777777777777778,
              "#fb9f3a"
             ],
             [
              0.8888888888888888,
              "#fdca26"
             ],
             [
              1,
              "#f0f921"
             ]
            ],
            "type": "heatmap"
           }
          ],
          "heatmapgl": [
           {
            "colorbar": {
             "outlinewidth": 0,
             "ticks": ""
            },
            "colorscale": [
             [
              0,
              "#0d0887"
             ],
             [
              0.1111111111111111,
              "#46039f"
             ],
             [
              0.2222222222222222,
              "#7201a8"
             ],
             [
              0.3333333333333333,
              "#9c179e"
             ],
             [
              0.4444444444444444,
              "#bd3786"
             ],
             [
              0.5555555555555556,
              "#d8576b"
             ],
             [
              0.6666666666666666,
              "#ed7953"
             ],
             [
              0.7777777777777778,
              "#fb9f3a"
             ],
             [
              0.8888888888888888,
              "#fdca26"
             ],
             [
              1,
              "#f0f921"
             ]
            ],
            "type": "heatmapgl"
           }
          ],
          "histogram": [
           {
            "marker": {
             "pattern": {
              "fillmode": "overlay",
              "size": 10,
              "solidity": 0.2
             }
            },
            "type": "histogram"
           }
          ],
          "histogram2d": [
           {
            "colorbar": {
             "outlinewidth": 0,
             "ticks": ""
            },
            "colorscale": [
             [
              0,
              "#0d0887"
             ],
             [
              0.1111111111111111,
              "#46039f"
             ],
             [
              0.2222222222222222,
              "#7201a8"
             ],
             [
              0.3333333333333333,
              "#9c179e"
             ],
             [
              0.4444444444444444,
              "#bd3786"
             ],
             [
              0.5555555555555556,
              "#d8576b"
             ],
             [
              0.6666666666666666,
              "#ed7953"
             ],
             [
              0.7777777777777778,
              "#fb9f3a"
             ],
             [
              0.8888888888888888,
              "#fdca26"
             ],
             [
              1,
              "#f0f921"
             ]
            ],
            "type": "histogram2d"
           }
          ],
          "histogram2dcontour": [
           {
            "colorbar": {
             "outlinewidth": 0,
             "ticks": ""
            },
            "colorscale": [
             [
              0,
              "#0d0887"
             ],
             [
              0.1111111111111111,
              "#46039f"
             ],
             [
              0.2222222222222222,
              "#7201a8"
             ],
             [
              0.3333333333333333,
              "#9c179e"
             ],
             [
              0.4444444444444444,
              "#bd3786"
             ],
             [
              0.5555555555555556,
              "#d8576b"
             ],
             [
              0.6666666666666666,
              "#ed7953"
             ],
             [
              0.7777777777777778,
              "#fb9f3a"
             ],
             [
              0.8888888888888888,
              "#fdca26"
             ],
             [
              1,
              "#f0f921"
             ]
            ],
            "type": "histogram2dcontour"
           }
          ],
          "mesh3d": [
           {
            "colorbar": {
             "outlinewidth": 0,
             "ticks": ""
            },
            "type": "mesh3d"
           }
          ],
          "parcoords": [
           {
            "line": {
             "colorbar": {
              "outlinewidth": 0,
              "ticks": ""
             }
            },
            "type": "parcoords"
           }
          ],
          "pie": [
           {
            "automargin": true,
            "type": "pie"
           }
          ],
          "scatter": [
           {
            "marker": {
             "colorbar": {
              "outlinewidth": 0,
              "ticks": ""
             }
            },
            "type": "scatter"
           }
          ],
          "scatter3d": [
           {
            "line": {
             "colorbar": {
              "outlinewidth": 0,
              "ticks": ""
             }
            },
            "marker": {
             "colorbar": {
              "outlinewidth": 0,
              "ticks": ""
             }
            },
            "type": "scatter3d"
           }
          ],
          "scattercarpet": [
           {
            "marker": {
             "colorbar": {
              "outlinewidth": 0,
              "ticks": ""
             }
            },
            "type": "scattercarpet"
           }
          ],
          "scattergeo": [
           {
            "marker": {
             "colorbar": {
              "outlinewidth": 0,
              "ticks": ""
             }
            },
            "type": "scattergeo"
           }
          ],
          "scattergl": [
           {
            "marker": {
             "colorbar": {
              "outlinewidth": 0,
              "ticks": ""
             }
            },
            "type": "scattergl"
           }
          ],
          "scattermapbox": [
           {
            "marker": {
             "colorbar": {
              "outlinewidth": 0,
              "ticks": ""
             }
            },
            "type": "scattermapbox"
           }
          ],
          "scatterpolar": [
           {
            "marker": {
             "colorbar": {
              "outlinewidth": 0,
              "ticks": ""
             }
            },
            "type": "scatterpolar"
           }
          ],
          "scatterpolargl": [
           {
            "marker": {
             "colorbar": {
              "outlinewidth": 0,
              "ticks": ""
             }
            },
            "type": "scatterpolargl"
           }
          ],
          "scatterternary": [
           {
            "marker": {
             "colorbar": {
              "outlinewidth": 0,
              "ticks": ""
             }
            },
            "type": "scatterternary"
           }
          ],
          "surface": [
           {
            "colorbar": {
             "outlinewidth": 0,
             "ticks": ""
            },
            "colorscale": [
             [
              0,
              "#0d0887"
             ],
             [
              0.1111111111111111,
              "#46039f"
             ],
             [
              0.2222222222222222,
              "#7201a8"
             ],
             [
              0.3333333333333333,
              "#9c179e"
             ],
             [
              0.4444444444444444,
              "#bd3786"
             ],
             [
              0.5555555555555556,
              "#d8576b"
             ],
             [
              0.6666666666666666,
              "#ed7953"
             ],
             [
              0.7777777777777778,
              "#fb9f3a"
             ],
             [
              0.8888888888888888,
              "#fdca26"
             ],
             [
              1,
              "#f0f921"
             ]
            ],
            "type": "surface"
           }
          ],
          "table": [
           {
            "cells": {
             "fill": {
              "color": "#EBF0F8"
             },
             "line": {
              "color": "white"
             }
            },
            "header": {
             "fill": {
              "color": "#C8D4E3"
             },
             "line": {
              "color": "white"
             }
            },
            "type": "table"
           }
          ]
         },
         "layout": {
          "annotationdefaults": {
           "arrowcolor": "#2a3f5f",
           "arrowhead": 0,
           "arrowwidth": 1
          },
          "autotypenumbers": "strict",
          "coloraxis": {
           "colorbar": {
            "outlinewidth": 0,
            "ticks": ""
           }
          },
          "colorscale": {
           "diverging": [
            [
             0,
             "#8e0152"
            ],
            [
             0.1,
             "#c51b7d"
            ],
            [
             0.2,
             "#de77ae"
            ],
            [
             0.3,
             "#f1b6da"
            ],
            [
             0.4,
             "#fde0ef"
            ],
            [
             0.5,
             "#f7f7f7"
            ],
            [
             0.6,
             "#e6f5d0"
            ],
            [
             0.7,
             "#b8e186"
            ],
            [
             0.8,
             "#7fbc41"
            ],
            [
             0.9,
             "#4d9221"
            ],
            [
             1,
             "#276419"
            ]
           ],
           "sequential": [
            [
             0,
             "#0d0887"
            ],
            [
             0.1111111111111111,
             "#46039f"
            ],
            [
             0.2222222222222222,
             "#7201a8"
            ],
            [
             0.3333333333333333,
             "#9c179e"
            ],
            [
             0.4444444444444444,
             "#bd3786"
            ],
            [
             0.5555555555555556,
             "#d8576b"
            ],
            [
             0.6666666666666666,
             "#ed7953"
            ],
            [
             0.7777777777777778,
             "#fb9f3a"
            ],
            [
             0.8888888888888888,
             "#fdca26"
            ],
            [
             1,
             "#f0f921"
            ]
           ],
           "sequentialminus": [
            [
             0,
             "#0d0887"
            ],
            [
             0.1111111111111111,
             "#46039f"
            ],
            [
             0.2222222222222222,
             "#7201a8"
            ],
            [
             0.3333333333333333,
             "#9c179e"
            ],
            [
             0.4444444444444444,
             "#bd3786"
            ],
            [
             0.5555555555555556,
             "#d8576b"
            ],
            [
             0.6666666666666666,
             "#ed7953"
            ],
            [
             0.7777777777777778,
             "#fb9f3a"
            ],
            [
             0.8888888888888888,
             "#fdca26"
            ],
            [
             1,
             "#f0f921"
            ]
           ]
          },
          "colorway": [
           "#636efa",
           "#EF553B",
           "#00cc96",
           "#ab63fa",
           "#FFA15A",
           "#19d3f3",
           "#FF6692",
           "#B6E880",
           "#FF97FF",
           "#FECB52"
          ],
          "font": {
           "color": "#2a3f5f"
          },
          "geo": {
           "bgcolor": "white",
           "lakecolor": "white",
           "landcolor": "#E5ECF6",
           "showlakes": true,
           "showland": true,
           "subunitcolor": "white"
          },
          "hoverlabel": {
           "align": "left"
          },
          "hovermode": "closest",
          "mapbox": {
           "style": "light"
          },
          "paper_bgcolor": "white",
          "plot_bgcolor": "#E5ECF6",
          "polar": {
           "angularaxis": {
            "gridcolor": "white",
            "linecolor": "white",
            "ticks": ""
           },
           "bgcolor": "#E5ECF6",
           "radialaxis": {
            "gridcolor": "white",
            "linecolor": "white",
            "ticks": ""
           }
          },
          "scene": {
           "xaxis": {
            "backgroundcolor": "#E5ECF6",
            "gridcolor": "white",
            "gridwidth": 2,
            "linecolor": "white",
            "showbackground": true,
            "ticks": "",
            "zerolinecolor": "white"
           },
           "yaxis": {
            "backgroundcolor": "#E5ECF6",
            "gridcolor": "white",
            "gridwidth": 2,
            "linecolor": "white",
            "showbackground": true,
            "ticks": "",
            "zerolinecolor": "white"
           },
           "zaxis": {
            "backgroundcolor": "#E5ECF6",
            "gridcolor": "white",
            "gridwidth": 2,
            "linecolor": "white",
            "showbackground": true,
            "ticks": "",
            "zerolinecolor": "white"
           }
          },
          "shapedefaults": {
           "line": {
            "color": "#2a3f5f"
           }
          },
          "ternary": {
           "aaxis": {
            "gridcolor": "white",
            "linecolor": "white",
            "ticks": ""
           },
           "baxis": {
            "gridcolor": "white",
            "linecolor": "white",
            "ticks": ""
           },
           "bgcolor": "#E5ECF6",
           "caxis": {
            "gridcolor": "white",
            "linecolor": "white",
            "ticks": ""
           }
          },
          "title": {
           "x": 0.05
          },
          "xaxis": {
           "automargin": true,
           "gridcolor": "white",
           "linecolor": "white",
           "ticks": "",
           "title": {
            "standoff": 15
           },
           "zerolinecolor": "white",
           "zerolinewidth": 2
          },
          "yaxis": {
           "automargin": true,
           "gridcolor": "white",
           "linecolor": "white",
           "ticks": "",
           "title": {
            "standoff": 15
           },
           "zerolinecolor": "white",
           "zerolinewidth": 2
          }
         }
        },
        "title": {
         "text": "Mean Histogram"
        },
        "xaxis": {
         "anchor": "y",
         "autorange": true,
         "domain": [
          0,
          1
         ],
         "range": [
          -5700,
          8700
         ],
         "title": {
          "text": "value"
         },
         "type": "linear"
        },
        "yaxis": {
         "anchor": "x",
         "autorange": true,
         "domain": [
          0,
          1
         ],
         "range": [
          0,
          500
         ],
         "title": {
          "text": "count"
         }
        }
       }
      },
      "image/png": "[encoded data removed]",
      "text/html": [
       "<div>                            <div id=\"72dd35ae-5955-4131-98c8-7b80c7292561\" class=\"plotly-graph-div\" style=\"height:525px; width:100%;\"></div>            <script type=\"text/javascript\">                require([\"plotly\"], function(Plotly) {                    window.PLOTLYENV=window.PLOTLYENV || {};                                    if (document.getElementById(\"72dd35ae-5955-4131-98c8-7b80c7292561\")) {                    Plotly.newPlot(                        \"72dd35ae-5955-4131-98c8-7b80c7292561\",                        [{\"alignmentgroup\":\"True\",\"bingroup\":\"x\",\"hovertemplate\":\"variable=0<br>value=%{x}<br>count=%{y}<extra></extra>\",\"legendgroup\":\"0\",\"marker\":{\"color\":\"#636efa\",\"pattern\":{\"shape\":\"\"}},\"name\":\"0\",\"nbinsx\":100,\"offsetgroup\":\"0\",\"orientation\":\"v\",\"showlegend\":true,\"x\":[3003.1700846905533,2484.126377850165,2181.8391141368065,1379.4740869706802,4.220809511400649,99.15309446254072,100.2982257980456,0.12116273615635148,1.4632160912052141,-0.0008177850162866473,5.889250814332206e-05,0.9643465798045613,199.93965296416937,0.0,9.003592768729641,413.1057261889251,9.907558762214972,0.9714114657980436,190.0320950488599,12.399369250814381,1.4050200651465814,-5618.668078175896,2699.680618892508,-3794.1179152442996,-295.5110201954397,1.203955374592834,1.9385381107491841,6.640262540716606,69.49014938110744,2.366043583061895,0.1841144625407163,3.673837915309447,85.29132788273601,8.957449120521124,50.55321120521178,64.5205508143323,49.38165140065138,66.18045986970692,86.78552827361533,118.60995674267112,66.73017915309428,3.3120749837133543,70.0,355.5190942019542,10.03093400651467,136.7868942671009,733.7121940065143,1.1772570684039076,139.96178377850126,1.0,632.2677746579794,157.03596247557,0.0,4.580963517915305,4.825910749185684,2848.6899022801304,0.9264344625407139,0.9467344625407174,4.581531270358301,3.019136286644946,355.1745891205211,10.420975374592816,116.56173146579802,13.955511009772017,20.52722644951138,27.125629706840392,706.7233132247553,16.98201224755699,147.41865778501634,1.0,619.1577098371337,104.19258045602608,0.002733224755700326,-0.006899674267100976,-0.029379283387622197,-0.007195570032573292,-0.013575700325732926,0.0035456026058632013,-0.018512312703583052,-0.0209315309446254,0.005905407166123776,7.446387426710073,0.13203680781758956,2.401787947882738,0.982377980456027,1808.09118325733,0.18355368078175885,8579.920343778487,0.002185667752442998,0.0005290553745928341,-0.0005431270358306179,-2.8794788273615665e-05,6.0065146579805275e-05,0.016707622149837145,0.0,-0.016520716612377875,0.001342019543973941,-2.2475570032573252e-05,-6.514657980456048e-06,0.0014504885993485337,-0.009798697068403903,-1.3159609120521172e-05,-0.0005199348534201955,0.0005429967426710092,-0.0017925732899022814,-0.010856677524429965,0.9453880130293153,0.00012175895765472312,747.3108912052122,0.9871110097719895,58.62435667752447,0.5933082084690556,0.970787687296415,6.311174723127028,15.796410423452754,3.8988345276873,15.829570032573276,15.794671009771932,1.1834908143322451,2.751688599348538,0.6485396091205213,3.1913622149837173,-0.5533226710097731,0.7451339413680763,0.9978138110749153,2.3185830618892567,1004.0189854723164,39.38982449511408,117.00651465798046,137.48423452768728,122.12436482084694,57.11042136807818,411.58062990228,26.37583771986976,0.0,6.58465798045599,0.004147622149837107,0.1199923778501627,0.06355563517915315,0.054965407166123775,0.017428925081433237,8.473733159609111,0.0,6.808902931596115,14.109250814332219,1.2093687296416957,0.011944364820846907,7.694306188925076,0.5059583061889259,0.05834983713355042,879.299674267101,555.6514657980456,4069.2912052117263,4811.184364820847,0.14031009771986952,0.12764104234527673,0.2512384364820851,2.787947882736159,1.2356351791530955,0.12441824104234507,0.400514657980456,0.6841837133550475,0.11977570032573263,0.319855439739414,0.5761228013029317,0.319855374592835,0.7767933550488599,0.24461980456026047,0.39395765472312677,0.0,0.0,19.013048859934877,0.546465798045603,10.772032573289923,26.69887739413686,0.14493335504885999,7.388169381107491,0.0,17.96971980456025,43.14356351791527,0.0,0.0,0.0,0.0,0.0,0.0,0.2781289902280127,8.684039087947886,20.115563517915312,0.5579941368078173,11.493387622149834,17.640827361563506,7.821081433224756,10.166651335504902,30.147561433224773,32.7611160912051,9.068990228013043,0.0013029315960912053,20.440918566775217,73.30312899022805,0.03006514657980456,0.08825856677524432,0.056225863192182444,0.05098416938110742,0.059890228013029276,0.08277263843648201,0.08045328990228001,0.08282638436482086,0.07107758957654718,3.7718421498371226,0.0032201302931596136,0.06069335504885991,0.008924234527687279,122.87577934853437,0.05760410423452774,1011.3812959609131,0.0,0.019152833876221475,0.017841433224755676,0.0,0.0,0.0,0.0,0.0,0.0,0.0,0.0,0.0,0.004791335504885985,0.004576612377850155,0.0,0.0,0.0,0.0,0.025254723127035826,0.0010542671009771986,109.4989752442995,0.004337654723127037,4.678950879478838,0.032939348534201905,0.013896286644951118,0.40371648208468974,0.0,0.0,0.0,0.0,0.0,0.0,0.0,0.0,0.0,0.0,0.0,0.07044267100977192,19.508493811074935,3.77504482084691,29.092016547231285,45.841137915309375,41.125688664495144,20.01503179153091,134.60944384364782,8.792538762214974,0.0,2.1921689902280166,0.0011124429967426586,0.041048534201954444,0.018008143322475544,0.015067882736156338,0.005775309446254065,2.804915895765474,0.0,2.1165434527687323,4.2774667752443065,0.3715233224755688,0.003929185667752438,2.5777338110749195,0.1231882084690555,0.02000579804560259,400.3785313355049,253.24181061889232,1879.7524678827408,2350.8517104885987,0.06386280130293154,0.06012052117263837,0.11803068403908804,0.9097316612377833,0.40342501628664423,0.04036566775244296,0.13210482084690536,0.2648711400651469,0.048508403908794746,0.12885980456026092,0.21836918566775193,0.1288599348534205,0.3043616286644955,0.09730325732899028,0.15978280130293168,0.0,0.0,0.0,5.9759966123778465,0.17245798045602592,3.18533589576547,7.9284762214983795,0.043147687296416916,2.2700348534201917,0.0,5.402768599348536,13.307576416938117,0.0,0.0,0.0,0.0,0.0,0.0,0.08197100977198686,2.592188859934857,6.223661433224761,0.1686414332247559,3.4174811726384364,9.747853811074917,2.321853615635181,3.038201954397401,9.34947257328989,14.921237524429952,2.7380166123778436,0.00029133550488599346,6.218302410423456,23.23047947882735,0.009064951140065147,0.024535700325732913,0.025017263843648236,0.023000586319218214,0.02736820846905537,0.023197198697068367,0.04002618892508151,0.04159869706840392,0.034269315960912074,1.298912703583064,0.0009883387622149785,0.019829641693811077,0.0029808469055374823,39.94322631921829,0.017837133550488608,323.8175304234528,0.0,0.005205342019543964,0.004813224755700316,0.003785928338762217,0.003174853420195446,0.0,0.0,0.0,0.0,0.0,0.0,0.0,0.0016018892508143348,0.0015710097719869702,0.0,0.0,0.0,0.0,0.008304039087947883,0.00033583061889250806,35.11617928338765,0.0013543322475569855,1.442739869706841,0.010864234527687304,0.004520586319218245,0.13399758957654725,0.0,0.0,0.0,0.0,0.0,0.0,0.0,0.0,0.0,0.0,0.0,0.0241539413680782,6.734111140065169,1.2308015635179175,5.298309771986973,4.555801824104238,4.907530553745926,2.5938232573290043,30.691146058631894,25.307790814332293,0.0,6.569763517915312,3.386883452768731,8.186269576547232,320.27696729641696,309.14891928338733,1.8233162866449542,4.175001758957651,0.0,77.60884436482092,3.328612703583062,6.823508208469046,1.235792182410423,4.057189706840401,4.213407035830619,4.191182996742669,18.393667882736167,22.387587426710116,99.72235355048866,205.09861107491832,14.76602892508145,9.383080846905536,7.518071661237794,4.016018566775247,54.72501355048856,70.71705596091205,11.525835504885997,0.8018315309446269,1.3415236482084734,0.6334123778501644,0.8948916612377843,0.6465983713355079,1.1730694462540707,0.2817657980456022,0.33155550488599306,0.0,0.0,0.0,5.347034527687298,5.458011921824097,7.875851791530943,3.6415660586319287,12.345034136807788,5.279501824104229,0.0,2.8436044299674252,29.266377394136825,0.0,0.0,0.0,0.0,0.0,0.0,6.059277719869688,223.45489726384346,5.6686834527687395,5.374526579804563,9.597468859934839,138.11997413680774,39.34279342019536,37.59579231270354,4.272934983713353,20.1889851465798,6.273229967426708,0.13029315960912052,3.293535114006514,75.69799530944624,0.0,316.2421620846905,203.76650299674287,214.38659999999962,198.20597192182404,300.7233540716615,236.830535635179,350.4701482084692,268.2369280781757,51.36919439739408,2.418319674267101,2.5290879478827386,0.9681185016286677,6.808354006514665,28.949708013029323,11.484705993485345,0.0,261.25602019544,240.9656656026059,0.0,0.0,0.0,0.0,0.0,0.0,0.0,0.0,0.0,55.773189120521195,275.90405061889237,0.0,0.0,0.0,0.0,2.705471140065146,11.200648143322475,14.709653159609127,0.459633811074918,5.69902586319219,5.514406840390876,1.4386173289902318,6.39323674267103,0.0,0.0,0.0,0.0,0.0,0.0,0.0,0.0,0.0,0.0,0.0,3.028058175895773,1.9432859283387636,9.604882866449502,0.11105003257328981,0.008462019543973867,0.002506970684039082,7.60443224755698,0.9940373941368024,0.3257742671009772,0.0725162866449515,32.29638918566792,530.513345928337,2.1011634527687306,28.317347622149764,0.34508351791530945,9.124676872964157,0.10452723127035818,5.53736123778502,16.61518957654727,0.49976625407166153,0.01532032573289904,0.003846384364820838,3.068414527687296,0.021502019543973905,0.01647381107491854,0.005284234527687276,99.01639517915294,0.06710097719869706],\"xaxis\":\"x\",\"yaxis\":\"y\",\"type\":\"histogram\"}],                        {\"template\":{\"data\":{\"bar\":[{\"error_x\":{\"color\":\"#2a3f5f\"},\"error_y\":{\"color\":\"#2a3f5f\"},\"marker\":{\"line\":{\"color\":\"#E5ECF6\",\"width\":0.5},\"pattern\":{\"fillmode\":\"overlay\",\"size\":10,\"solidity\":0.2}},\"type\":\"bar\"}],\"barpolar\":[{\"marker\":{\"line\":{\"color\":\"#E5ECF6\",\"width\":0.5},\"pattern\":{\"fillmode\":\"overlay\",\"size\":10,\"solidity\":0.2}},\"type\":\"barpolar\"}],\"carpet\":[{\"aaxis\":{\"endlinecolor\":\"#2a3f5f\",\"gridcolor\":\"white\",\"linecolor\":\"white\",\"minorgridcolor\":\"white\",\"startlinecolor\":\"#2a3f5f\"},\"baxis\":{\"endlinecolor\":\"#2a3f5f\",\"gridcolor\":\"white\",\"linecolor\":\"white\",\"minorgridcolor\":\"white\",\"startlinecolor\":\"#2a3f5f\"},\"type\":\"carpet\"}],\"choropleth\":[{\"colorbar\":{\"outlinewidth\":0,\"ticks\":\"\"},\"type\":\"choropleth\"}],\"contour\":[{\"colorbar\":{\"outlinewidth\":0,\"ticks\":\"\"},\"colorscale\":[[0.0,\"#0d0887\"],[0.1111111111111111,\"#46039f\"],[0.2222222222222222,\"#7201a8\"],[0.3333333333333333,\"#9c179e\"],[0.4444444444444444,\"#bd3786\"],[0.5555555555555556,\"#d8576b\"],[0.6666666666666666,\"#ed7953\"],[0.7777777777777778,\"#fb9f3a\"],[0.8888888888888888,\"#fdca26\"],[1.0,\"#f0f921\"]],\"type\":\"contour\"}],\"contourcarpet\":[{\"colorbar\":{\"outlinewidth\":0,\"ticks\":\"\"},\"type\":\"contourcarpet\"}],\"heatmap\":[{\"colorbar\":{\"outlinewidth\":0,\"ticks\":\"\"},\"colorscale\":[[0.0,\"#0d0887\"],[0.1111111111111111,\"#46039f\"],[0.2222222222222222,\"#7201a8\"],[0.3333333333333333,\"#9c179e\"],[0.4444444444444444,\"#bd3786\"],[0.5555555555555556,\"#d8576b\"],[0.6666666666666666,\"#ed7953\"],[0.7777777777777778,\"#fb9f3a\"],[0.8888888888888888,\"#fdca26\"],[1.0,\"#f0f921\"]],\"type\":\"heatmap\"}],\"heatmapgl\":[{\"colorbar\":{\"outlinewidth\":0,\"ticks\":\"\"},\"colorscale\":[[0.0,\"#0d0887\"],[0.1111111111111111,\"#46039f\"],[0.2222222222222222,\"#7201a8\"],[0.3333333333333333,\"#9c179e\"],[0.4444444444444444,\"#bd3786\"],[0.5555555555555556,\"#d8576b\"],[0.6666666666666666,\"#ed7953\"],[0.7777777777777778,\"#fb9f3a\"],[0.8888888888888888,\"#fdca26\"],[1.0,\"#f0f921\"]],\"type\":\"heatmapgl\"}],\"histogram\":[{\"marker\":{\"pattern\":{\"fillmode\":\"overlay\",\"size\":10,\"solidity\":0.2}},\"type\":\"histogram\"}],\"histogram2d\":[{\"colorbar\":{\"outlinewidth\":0,\"ticks\":\"\"},\"colorscale\":[[0.0,\"#0d0887\"],[0.1111111111111111,\"#46039f\"],[0.2222222222222222,\"#7201a8\"],[0.3333333333333333,\"#9c179e\"],[0.4444444444444444,\"#bd3786\"],[0.5555555555555556,\"#d8576b\"],[0.6666666666666666,\"#ed7953\"],[0.7777777777777778,\"#fb9f3a\"],[0.8888888888888888,\"#fdca26\"],[1.0,\"#f0f921\"]],\"type\":\"histogram2d\"}],\"histogram2dcontour\":[{\"colorbar\":{\"outlinewidth\":0,\"ticks\":\"\"},\"colorscale\":[[0.0,\"#0d0887\"],[0.1111111111111111,\"#46039f\"],[0.2222222222222222,\"#7201a8\"],[0.3333333333333333,\"#9c179e\"],[0.4444444444444444,\"#bd3786\"],[0.5555555555555556,\"#d8576b\"],[0.6666666666666666,\"#ed7953\"],[0.7777777777777778,\"#fb9f3a\"],[0.8888888888888888,\"#fdca26\"],[1.0,\"#f0f921\"]],\"type\":\"histogram2dcontour\"}],\"mesh3d\":[{\"colorbar\":{\"outlinewidth\":0,\"ticks\":\"\"},\"type\":\"mesh3d\"}],\"parcoords\":[{\"line\":{\"colorbar\":{\"outlinewidth\":0,\"ticks\":\"\"}},\"type\":\"parcoords\"}],\"pie\":[{\"automargin\":true,\"type\":\"pie\"}],\"scatter\":[{\"marker\":{\"colorbar\":{\"outlinewidth\":0,\"ticks\":\"\"}},\"type\":\"scatter\"}],\"scatter3d\":[{\"line\":{\"colorbar\":{\"outlinewidth\":0,\"ticks\":\"\"}},\"marker\":{\"colorbar\":{\"outlinewidth\":0,\"ticks\":\"\"}},\"type\":\"scatter3d\"}],\"scattercarpet\":[{\"marker\":{\"colorbar\":{\"outlinewidth\":0,\"ticks\":\"\"}},\"type\":\"scattercarpet\"}],\"scattergeo\":[{\"marker\":{\"colorbar\":{\"outlinewidth\":0,\"ticks\":\"\"}},\"type\":\"scattergeo\"}],\"scattergl\":[{\"marker\":{\"colorbar\":{\"outlinewidth\":0,\"ticks\":\"\"}},\"type\":\"scattergl\"}],\"scattermapbox\":[{\"marker\":{\"colorbar\":{\"outlinewidth\":0,\"ticks\":\"\"}},\"type\":\"scattermapbox\"}],\"scatterpolar\":[{\"marker\":{\"colorbar\":{\"outlinewidth\":0,\"ticks\":\"\"}},\"type\":\"scatterpolar\"}],\"scatterpolargl\":[{\"marker\":{\"colorbar\":{\"outlinewidth\":0,\"ticks\":\"\"}},\"type\":\"scatterpolargl\"}],\"scatterternary\":[{\"marker\":{\"colorbar\":{\"outlinewidth\":0,\"ticks\":\"\"}},\"type\":\"scatterternary\"}],\"surface\":[{\"colorbar\":{\"outlinewidth\":0,\"ticks\":\"\"},\"colorscale\":[[0.0,\"#0d0887\"],[0.1111111111111111,\"#46039f\"],[0.2222222222222222,\"#7201a8\"],[0.3333333333333333,\"#9c179e\"],[0.4444444444444444,\"#bd3786\"],[0.5555555555555556,\"#d8576b\"],[0.6666666666666666,\"#ed7953\"],[0.7777777777777778,\"#fb9f3a\"],[0.8888888888888888,\"#fdca26\"],[1.0,\"#f0f921\"]],\"type\":\"surface\"}],\"table\":[{\"cells\":{\"fill\":{\"color\":\"#EBF0F8\"},\"line\":{\"color\":\"white\"}},\"header\":{\"fill\":{\"color\":\"#C8D4E3\"},\"line\":{\"color\":\"white\"}},\"type\":\"table\"}]},\"layout\":{\"annotationdefaults\":{\"arrowcolor\":\"#2a3f5f\",\"arrowhead\":0,\"arrowwidth\":1},\"autotypenumbers\":\"strict\",\"coloraxis\":{\"colorbar\":{\"outlinewidth\":0,\"ticks\":\"\"}},\"colorscale\":{\"diverging\":[[0,\"#8e0152\"],[0.1,\"#c51b7d\"],[0.2,\"#de77ae\"],[0.3,\"#f1b6da\"],[0.4,\"#fde0ef\"],[0.5,\"#f7f7f7\"],[0.6,\"#e6f5d0\"],[0.7,\"#b8e186\"],[0.8,\"#7fbc41\"],[0.9,\"#4d9221\"],[1,\"#276419\"]],\"sequential\":[[0.0,\"#0d0887\"],[0.1111111111111111,\"#46039f\"],[0.2222222222222222,\"#7201a8\"],[0.3333333333333333,\"#9c179e\"],[0.4444444444444444,\"#bd3786\"],[0.5555555555555556,\"#d8576b\"],[0.6666666666666666,\"#ed7953\"],[0.7777777777777778,\"#fb9f3a\"],[0.8888888888888888,\"#fdca26\"],[1.0,\"#f0f921\"]],\"sequentialminus\":[[0.0,\"#0d0887\"],[0.1111111111111111,\"#46039f\"],[0.2222222222222222,\"#7201a8\"],[0.3333333333333333,\"#9c179e\"],[0.4444444444444444,\"#bd3786\"],[0.5555555555555556,\"#d8576b\"],[0.6666666666666666,\"#ed7953\"],[0.7777777777777778,\"#fb9f3a\"],[0.8888888888888888,\"#fdca26\"],[1.0,\"#f0f921\"]]},\"colorway\":[\"#636efa\",\"#EF553B\",\"#00cc96\",\"#ab63fa\",\"#FFA15A\",\"#19d3f3\",\"#FF6692\",\"#B6E880\",\"#FF97FF\",\"#FECB52\"],\"font\":{\"color\":\"#2a3f5f\"},\"geo\":{\"bgcolor\":\"white\",\"lakecolor\":\"white\",\"landcolor\":\"#E5ECF6\",\"showlakes\":true,\"showland\":true,\"subunitcolor\":\"white\"},\"hoverlabel\":{\"align\":\"left\"},\"hovermode\":\"closest\",\"mapbox\":{\"style\":\"light\"},\"paper_bgcolor\":\"white\",\"plot_bgcolor\":\"#E5ECF6\",\"polar\":{\"angularaxis\":{\"gridcolor\":\"white\",\"linecolor\":\"white\",\"ticks\":\"\"},\"bgcolor\":\"#E5ECF6\",\"radialaxis\":{\"gridcolor\":\"white\",\"linecolor\":\"white\",\"ticks\":\"\"}},\"scene\":{\"xaxis\":{\"backgroundcolor\":\"#E5ECF6\",\"gridcolor\":\"white\",\"gridwidth\":2,\"linecolor\":\"white\",\"showbackground\":true,\"ticks\":\"\",\"zerolinecolor\":\"white\"},\"yaxis\":{\"backgroundcolor\":\"#E5ECF6\",\"gridcolor\":\"white\",\"gridwidth\":2,\"linecolor\":\"white\",\"showbackground\":true,\"ticks\":\"\",\"zerolinecolor\":\"white\"},\"zaxis\":{\"backgroundcolor\":\"#E5ECF6\",\"gridcolor\":\"white\",\"gridwidth\":2,\"linecolor\":\"white\",\"showbackground\":true,\"ticks\":\"\",\"zerolinecolor\":\"white\"}},\"shapedefaults\":{\"line\":{\"color\":\"#2a3f5f\"}},\"ternary\":{\"aaxis\":{\"gridcolor\":\"white\",\"linecolor\":\"white\",\"ticks\":\"\"},\"baxis\":{\"gridcolor\":\"white\",\"linecolor\":\"white\",\"ticks\":\"\"},\"bgcolor\":\"#E5ECF6\",\"caxis\":{\"gridcolor\":\"white\",\"linecolor\":\"white\",\"ticks\":\"\"}},\"title\":{\"x\":0.05},\"xaxis\":{\"automargin\":true,\"gridcolor\":\"white\",\"linecolor\":\"white\",\"ticks\":\"\",\"title\":{\"standoff\":15},\"zerolinecolor\":\"white\",\"zerolinewidth\":2},\"yaxis\":{\"automargin\":true,\"gridcolor\":\"white\",\"linecolor\":\"white\",\"ticks\":\"\",\"title\":{\"standoff\":15},\"zerolinecolor\":\"white\",\"zerolinewidth\":2}}},\"xaxis\":{\"anchor\":\"y\",\"domain\":[0.0,1.0],\"title\":{\"text\":\"value\"}},\"yaxis\":{\"anchor\":\"x\",\"domain\":[0.0,1.0],\"title\":{\"text\":\"count\"}},\"legend\":{\"title\":{\"text\":\"variable\"},\"tracegroupgap\":0},\"title\":{\"text\":\"Mean Histogram\"},\"barmode\":\"relative\"},                        {\"responsive\": true}                    ).then(function(){\n",
       "                            \n",
       "var gd = document.getElementById('72dd35ae-5955-4131-98c8-7b80c7292561');\n",
       "var x = new MutationObserver(function (mutations, observer) {{\n",
       "        var display = window.getComputedStyle(gd).display;\n",
       "        if (!display || display === 'none') {{\n",
       "            console.log([gd, 'removed!']);\n",
       "            Plotly.purge(gd);\n",
       "            observer.disconnect();\n",
       "        }}\n",
       "}});\n",
       "\n",
       "// Listen for the removal of the full notebook cells\n",
       "var notebookContainer = gd.closest('#notebook-container');\n",
       "if (notebookContainer) {{\n",
       "    x.observe(notebookContainer, {childList: true});\n",
       "}}\n",
       "\n",
       "// Listen for the clearing of the current output cell\n",
       "var outputEl = gd.closest('.output');\n",
       "if (outputEl) {{\n",
       "    x.observe(outputEl, {childList: true});\n",
       "}}\n",
       "\n",
       "                        })                };                });            </script>        </div>"
      ]
     },
     "metadata": {},
     "output_type": "display_data"
    }
   ],
   "source": [
    "px.histogram(df.mean(),title=\"Mean Histogram\",nbins=100)"
   ]
  },
  {
   "cell_type": "code",
   "execution_count": 49,
   "metadata": {},
   "outputs": [
    {
     "data": {
      "application/vnd.plotly.v1+json": {
       "config": {
        "plotlyServerURL": "https://plot.ly"
       },
       "data": [
        {
         "alignmentgroup": "True",
         "bingroup": "x",
         "hovertemplate": "variable=0<br>value=%{x}<br>count=%{y}<extra></extra>",
         "legendgroup": "0",
         "marker": {
          "color": "#636efa",
          "pattern": {
           "shape": ""
          }
         },
         "name": "0",
         "nbinsx": 100,
         "offsetgroup": "0",
         "orientation": "v",
         "showlegend": true,
         "type": "histogram",
         "x": [
          201.94788016447808,
          186.4112990740226,
          203.8474952881571,
          453.372463553713,
          56.68496993192127,
          9.166681305395981,
          11.126482640810488,
          0.012583350491347615,
          0.07386349399274088,
          0.015148180825221067,
          0.009258579168103303,
          0.012499483158649384,
          3.2665830211188256,
          0,
          2.806198756728021,
          17.344800788370865,
          2.4259577010615967,
          0.012147849998417993,
          2.7829319977724576,
          1.0280148925612267,
          0.016775195920479144,
          628.8596264396857,
          296.9727928737646,
          1378.957195189438,
          2912.8629215708384,
          0.17793536565328777,
          0.19048420094245042,
          1.2426606084817717,
          3.461093036726512,
          0.4107161285794463,
          0.0330550907042742,
          0.5356566780103511,
          2.986447372238301,
          1.375706203194342,
          1.7581932690876074,
          3.0782328668072423,
          1.7363388015301442,
          1.7172298580874878,
          2.260636999357418,
          3.5253899452145494,
          25.381954492955934,
          2.398259118795582,
          0,
          6.218195545206134,
          0.17464774165958374,
          7.861663197964729,
          12.205874183783603,
          0.18972319890808406,
          4.541888582234585,
          0,
          8.663539763931842,
          61.093341563666215,
          0,
          0.24065839173075204,
          0.2539128097903769,
          147.88180733170165,
          0.047857949078984476,
          0.048588461959076575,
          0.24929471152358293,
          9.565254085352159,
          6.026804469183543,
          0.27325803550758637,
          8.561270749246868,
          7.075641838022647,
          4.944694954764702,
          7.120817616781354,
          11.576196200324073,
          310.0904113729218,
          4.257609756958156,
          0,
          9.46048957725671,
          31.740117633203422,
          0.1070852205607328,
          0.02226985190060303,
          0.03311901242248564,
          0.03115805179363932,
          0.04780941850512316,
          0.023024581668912334,
          0.04913261659914601,
          0.01704965319269153,
          0.03607911780071742,
          0.5484965614703594,
          0.012759417371286906,
          0.037373052460548666,
          0.012922669300030424,
          53.38548622257129,
          0.06059684274923683,
          1508.7704289599208,
          0.08746768285559431,
          0.0032317045092943105,
          0.003018852648018537,
          0.0001751647954900733,
          0.00010478136884828113,
          0.22090909175339402,
          0,
          0.4294735137922122,
          0.06281341235491403,
          0.0003567514161197375,
          0.00022204873582676936,
          0.06313320006059789,
          0.0030744411936616148,
          0.0008520219742009933,
          0.003199954162958592,
          0.0029938596672674147,
          0.08758375538975115,
          0.08686870433063354,
          0.012158512490068305,
          0.0016805143813513194,
          48.94744359514514,
          0.009537818224807686,
          6.551332699135707,
          0.0554431776056113,
          0.008983869990513847,
          0.1240930276732617,
          0.09934636915702397,
          0.9016359165016136,
          0.10820364516768308,
          0.11402557199618857,
          0.281411284892738,
          0.25439332073889787,
          0.13490630442076373,
          0.2642966023393571,
          1.223577601440854,
          0.0823376644795821,
          0.002253854760427735,
          0.052983787707651595,
          6.515214074035661,
          2.988554102783917,
          53.63760001012144,
          54.45557306998452,
          52.81136543032366,
          13.339359273095324,
          263.1008050152553,
          509.88003671002355,
          0,
          3.60697583907579,
          0.0013078363804178755,
          0.06149421857700852,
          0.025880886877720763,
          0.021645173637546943,
          0.027367934345326632,
          18.91905631966105,
          0,
          3.2531937664743222,
          31.283717040476557,
          23.58366993367655,
          0.009412171679309472,
          5.275686783947181,
          1.1274524840838056,
          0.07991866586407496,
          975.0878395058434,
          576.13015092474,
          4242.444861871249,
          6553.483938881204,
          0.12118191415838776,
          0.24101337178862284,
          0.4036240220730491,
          1.1258104529182595,
          0.6354995549090889,
          0.047641763265789686,
          0.19770309383449475,
          0.157941728178122,
          0.0606428816079395,
          0.07188671241037675,
          0.09694145413240579,
          0.07189071187901616,
          0.11745525518322912,
          0.07538840357577296,
          0.2831249997453528,
          0,
          0,
          3.3064611722005077,
          0.22510409001002663,
          4.1673796445652735,
          6.827508888184882,
          0.11104729747520185,
          7.250854175998243,
          0,
          8.676644732154067,
          21.61821555158178,
          0,
          0,
          0,
          0,
          0,
          0,
          0.3441540148803111,
          15.83834944907331,
          10.62469709323748,
          0.5404436314177884,
          16.544139057308637,
          8.738889696183769,
          5.112616536755331,
          14.727166267927808,
          17.576259430342674,
          569.854570731386,
          11.630062586218404,
          0.05104765608901552,
          17.625690151814872,
          28.077166097317658,
          1.1779246642540293,
          0.042854004640409935,
          0.025114677830377272,
          0.03181895806154769,
          0.053337833116876635,
          0.05704323019738836,
          0.031166655334662882,
          0.026804656251521043,
          0.046758863713489494,
          1.1751978067800182,
          0.0016551306927645576,
          0.02334971993976895,
          0.05650961507688681,
          55.483001208045074,
          0.07090091670537951,
          461.6658559398882,
          0,
          0.010822672408077745,
          0.010795929288819688,
          0,
          0,
          0,
          0,
          0,
          0,
          0,
          0,
          0,
          0.0017008960676641663,
          0.0014371424240636542,
          0,
          0,
          0,
          0,
          0.04972833304796855,
          0.015882824059281424,
          54.806250084216316,
          0.037857616006189324,
          65.02193858397473,
          0.022667843378550784,
          0.008997626401251797,
          0.11983359761223288,
          0,
          0,
          0,
          0,
          0,
          0,
          0,
          0,
          0,
          0,
          0,
          0.029616784890138297,
          7.358684075242312,
          1.1548536899424156,
          7.9423925101594115,
          18.07236533068862,
          17.934751911014814,
          4.230851765347567,
          85.48566638945721,
          169.9352442446025,
          0,
          1.2149665065921647,
          0.00034788646520696333,
          0.020337696840555163,
          0.006288336309292582,
          0.00546634521406014,
          0.008627009307286847,
          5.920320812391647,
          0,
          0.9652477106432436,
          9.85255006453404,
          7.4557717091472835,
          0.0029559844148017104,
          1.6285650920584032,
          0.272784955631037,
          0.025790684096747472,
          474.94761630898716,
          284.40783415720034,
          1975.3775187623237,
          3228.6563874046583,
          0.06396703745935245,
          0.1303322830496855,
          0.21777305610798445,
          0.33332396915045137,
          0.19814308050399626,
          0.01451586509420698,
          0.06482396272697497,
          0.057651906657697385,
          0.025356010136817545,
          0.027763347917278594,
          0.03408084445246733,
          0.027765900292102057,
          0.04404185050359699,
          0.02896371087069372,
          0.11740627371175825,
          0,
          0,
          0,
          1.0167299438448794,
          0.07259430713750262,
          1.215488946963503,
          2.1738929712787196,
          0.03213005198776642,
          2.135929986184833,
          0,
          2.5377141182160434,
          6.582775121293975,
          0,
          0,
          0,
          0,
          0,
          0,
          0.05829387660381833,
          5.688927949836873,
          3.4282262578830975,
          0.17391289815297767,
          5.8214883711292345,
          7.612424468348252,
          1.7056463559950876,
          5.688285325281113,
          6.115502056663511,
          263.9402695088767,
          3.6968093639966026,
          0.011414255901503865,
          5.410568627610371,
          8.885066175268145,
          0.3551564100909121,
          0.012073746763163879,
          0.010654036595019754,
          0.014435526974454056,
          0.024701227061947672,
          0.013343025219348518,
          0.01585994082839911,
          0.01358264954178883,
          0.022520910532228152,
          0.38902399310504626,
          0.0005032367618626381,
          0.007159471498659089,
          0.020207747247676027,
          17.161278607649972,
          0.021544408570900613,
          147.97844202876954,
          0,
          0.0026713161032032814,
          0.00239122166022531,
          0.002711816343843408,
          0.0021093955927317066,
          0,
          0,
          0,
          0,
          0,
          0,
          0,
          0.000535204283685691,
          0.0004649374597675044,
          0,
          0,
          0,
          0,
          0.015642242454154714,
          0.005024786627236694,
          17.30580089733727,
          0.011937528847055566,
          20.537148627804545,
          0.006820482920747588,
          0.002923379377237019,
          0.03835642356720248,
          0,
          0,
          0,
          0,
          0,
          0,
          0,
          0,
          0,
          0,
          0,
          0.010719421311619988,
          2.8315677447857865,
          0.3658599840794528,
          2.405771009630381,
          1.7938849333509619,
          2.146372289445677,
          0.5974593796777083,
          18.658435217139694,
          47.50983956560414,
          0,
          4.007829320365882,
          1.0575095985397551,
          4.059503389667642,
          286.85457846967114,
          325.00335623049165,
          3.0855387350843415,
          6.978539181013616,
          0,
          32.62450469533524,
          6.38199024537907,
          23.473212452570092,
          1.0027810801779387,
          3.064858545542261,
          10.688875224939773,
          6.497148738710274,
          36.199993807353096,
          36.59620296019091,
          126.95413377987997,
          225.92988401926698,
          34.28196283556141,
          34.54834449251877,
          34.73636020165523,
          1.6205039766760783,
          34.29700196948411,
          38.56779603977704,
          6.163164135282474,
          0.18478131282244112,
          0.6567724999143824,
          0.1448572049316615,
          0.15744210987442506,
          0.1425187386428888,
          0.17781884317736674,
          0.08700274416987241,
          0.23639337360994456,
          0,
          0,
          0,
          0.9177702279991357,
          2.2576249843804828,
          3.0644336585958585,
          0.9370886979629188,
          8.188440334279273,
          4.574347416729582,
          0,
          1.3558740551956583,
          13.363015289096497,
          0,
          0,
          0,
          0,
          0,
          0,
          7.605070658018489,
          230.64253270973487,
          3.1740783787845173,
          5.006992729734727,
          10.21644599050622,
          47.38991244159347,
          22.38401948640531,
          24.856564605173546,
          2.62882024724803,
          15.026324522182602,
          10.266334148091124,
          5.104765608901582,
          2.6575972285781746,
          35.84525772458207,
          0,
          281.2419693649781,
          191.83464291833553,
          213.2958578218772,
          217.97436309012934,
          288.2446657859336,
          263.5679326197937,
          253.60704765199608,
          227.84953664106126,
          18.137010319751774,
          1.2340006163918376,
          0.9757614231294909,
          6.683076198292728,
          3.28012562481158,
          24.588328723781313,
          5.278011538888915,
          0,
          324.3736528172713,
          323.3231726356313,
          0,
          0,
          0,
          0,
          0,
          0,
          0,
          0,
          0,
          37.92446338474745,
          330.1393288189013,
          0,
          0,
          0,
          0,
          5.759710213701935,
          101.07649089799382,
          7.129286698006631,
          4.190240250247564,
          20.87626695571896,
          3.959976772886175,
          0.9446388774552437,
          1.8807814352278145,
          0,
          0,
          0,
          0,
          0,
          0,
          0,
          0,
          0,
          0,
          0,
          1.2515866653557286,
          0.7334349000545484,
          2.9010122122581743,
          0.0048484864705391146,
          0.0015690320676595474,
          0.0003102291428017928,
          1.3492386630777276,
          0.08785197924104375,
          0.2022309711525872,
          0.051873213280889556,
          19.10064600949848,
          17.643013551660836,
          0.2762597396086124,
          85.95806268288051,
          0.24906481693175478,
          26.8299068147145,
          0.06776163270494771,
          16.846349089514636,
          12.483222630854153,
          0.013211720231441003,
          0.017345787765866108,
          0.00375722662507087,
          3.612661236037279,
          0.012404526231040288,
          0.008849706541485522,
          0.0028812750775882995,
          93.17721890933393,
          0.2502783318275029
         ],
         "xaxis": "x",
         "yaxis": "y"
        }
       ],
       "layout": {
        "autosize": true,
        "barmode": "relative",
        "legend": {
         "title": {
          "text": "variable"
         },
         "tracegroupgap": 0
        },
        "template": {
         "data": {
          "bar": [
           {
            "error_x": {
             "color": "#2a3f5f"
            },
            "error_y": {
             "color": "#2a3f5f"
            },
            "marker": {
             "line": {
              "color": "#E5ECF6",
              "width": 0.5
             },
             "pattern": {
              "fillmode": "overlay",
              "size": 10,
              "solidity": 0.2
             }
            },
            "type": "bar"
           }
          ],
          "barpolar": [
           {
            "marker": {
             "line": {
              "color": "#E5ECF6",
              "width": 0.5
             },
             "pattern": {
              "fillmode": "overlay",
              "size": 10,
              "solidity": 0.2
             }
            },
            "type": "barpolar"
           }
          ],
          "carpet": [
           {
            "aaxis": {
             "endlinecolor": "#2a3f5f",
             "gridcolor": "white",
             "linecolor": "white",
             "minorgridcolor": "white",
             "startlinecolor": "#2a3f5f"
            },
            "baxis": {
             "endlinecolor": "#2a3f5f",
             "gridcolor": "white",
             "linecolor": "white",
             "minorgridcolor": "white",
             "startlinecolor": "#2a3f5f"
            },
            "type": "carpet"
           }
          ],
          "choropleth": [
           {
            "colorbar": {
             "outlinewidth": 0,
             "ticks": ""
            },
            "type": "choropleth"
           }
          ],
          "contour": [
           {
            "colorbar": {
             "outlinewidth": 0,
             "ticks": ""
            },
            "colorscale": [
             [
              0,
              "#0d0887"
             ],
             [
              0.1111111111111111,
              "#46039f"
             ],
             [
              0.2222222222222222,
              "#7201a8"
             ],
             [
              0.3333333333333333,
              "#9c179e"
             ],
             [
              0.4444444444444444,
              "#bd3786"
             ],
             [
              0.5555555555555556,
              "#d8576b"
             ],
             [
              0.6666666666666666,
              "#ed7953"
             ],
             [
              0.7777777777777778,
              "#fb9f3a"
             ],
             [
              0.8888888888888888,
              "#fdca26"
             ],
             [
              1,
              "#f0f921"
             ]
            ],
            "type": "contour"
           }
          ],
          "contourcarpet": [
           {
            "colorbar": {
             "outlinewidth": 0,
             "ticks": ""
            },
            "type": "contourcarpet"
           }
          ],
          "heatmap": [
           {
            "colorbar": {
             "outlinewidth": 0,
             "ticks": ""
            },
            "colorscale": [
             [
              0,
              "#0d0887"
             ],
             [
              0.1111111111111111,
              "#46039f"
             ],
             [
              0.2222222222222222,
              "#7201a8"
             ],
             [
              0.3333333333333333,
              "#9c179e"
             ],
             [
              0.4444444444444444,
              "#bd3786"
             ],
             [
              0.5555555555555556,
              "#d8576b"
             ],
             [
              0.6666666666666666,
              "#ed7953"
             ],
             [
              0.7777777777777778,
              "#fb9f3a"
             ],
             [
              0.8888888888888888,
              "#fdca26"
             ],
             [
              1,
              "#f0f921"
             ]
            ],
            "type": "heatmap"
           }
          ],
          "heatmapgl": [
           {
            "colorbar": {
             "outlinewidth": 0,
             "ticks": ""
            },
            "colorscale": [
             [
              0,
              "#0d0887"
             ],
             [
              0.1111111111111111,
              "#46039f"
             ],
             [
              0.2222222222222222,
              "#7201a8"
             ],
             [
              0.3333333333333333,
              "#9c179e"
             ],
             [
              0.4444444444444444,
              "#bd3786"
             ],
             [
              0.5555555555555556,
              "#d8576b"
             ],
             [
              0.6666666666666666,
              "#ed7953"
             ],
             [
              0.7777777777777778,
              "#fb9f3a"
             ],
             [
              0.8888888888888888,
              "#fdca26"
             ],
             [
              1,
              "#f0f921"
             ]
            ],
            "type": "heatmapgl"
           }
          ],
          "histogram": [
           {
            "marker": {
             "pattern": {
              "fillmode": "overlay",
              "size": 10,
              "solidity": 0.2
             }
            },
            "type": "histogram"
           }
          ],
          "histogram2d": [
           {
            "colorbar": {
             "outlinewidth": 0,
             "ticks": ""
            },
            "colorscale": [
             [
              0,
              "#0d0887"
             ],
             [
              0.1111111111111111,
              "#46039f"
             ],
             [
              0.2222222222222222,
              "#7201a8"
             ],
             [
              0.3333333333333333,
              "#9c179e"
             ],
             [
              0.4444444444444444,
              "#bd3786"
             ],
             [
              0.5555555555555556,
              "#d8576b"
             ],
             [
              0.6666666666666666,
              "#ed7953"
             ],
             [
              0.7777777777777778,
              "#fb9f3a"
             ],
             [
              0.8888888888888888,
              "#fdca26"
             ],
             [
              1,
              "#f0f921"
             ]
            ],
            "type": "histogram2d"
           }
          ],
          "histogram2dcontour": [
           {
            "colorbar": {
             "outlinewidth": 0,
             "ticks": ""
            },
            "colorscale": [
             [
              0,
              "#0d0887"
             ],
             [
              0.1111111111111111,
              "#46039f"
             ],
             [
              0.2222222222222222,
              "#7201a8"
             ],
             [
              0.3333333333333333,
              "#9c179e"
             ],
             [
              0.4444444444444444,
              "#bd3786"
             ],
             [
              0.5555555555555556,
              "#d8576b"
             ],
             [
              0.6666666666666666,
              "#ed7953"
             ],
             [
              0.7777777777777778,
              "#fb9f3a"
             ],
             [
              0.8888888888888888,
              "#fdca26"
             ],
             [
              1,
              "#f0f921"
             ]
            ],
            "type": "histogram2dcontour"
           }
          ],
          "mesh3d": [
           {
            "colorbar": {
             "outlinewidth": 0,
             "ticks": ""
            },
            "type": "mesh3d"
           }
          ],
          "parcoords": [
           {
            "line": {
             "colorbar": {
              "outlinewidth": 0,
              "ticks": ""
             }
            },
            "type": "parcoords"
           }
          ],
          "pie": [
           {
            "automargin": true,
            "type": "pie"
           }
          ],
          "scatter": [
           {
            "marker": {
             "colorbar": {
              "outlinewidth": 0,
              "ticks": ""
             }
            },
            "type": "scatter"
           }
          ],
          "scatter3d": [
           {
            "line": {
             "colorbar": {
              "outlinewidth": 0,
              "ticks": ""
             }
            },
            "marker": {
             "colorbar": {
              "outlinewidth": 0,
              "ticks": ""
             }
            },
            "type": "scatter3d"
           }
          ],
          "scattercarpet": [
           {
            "marker": {
             "colorbar": {
              "outlinewidth": 0,
              "ticks": ""
             }
            },
            "type": "scattercarpet"
           }
          ],
          "scattergeo": [
           {
            "marker": {
             "colorbar": {
              "outlinewidth": 0,
              "ticks": ""
             }
            },
            "type": "scattergeo"
           }
          ],
          "scattergl": [
           {
            "marker": {
             "colorbar": {
              "outlinewidth": 0,
              "ticks": ""
             }
            },
            "type": "scattergl"
           }
          ],
          "scattermapbox": [
           {
            "marker": {
             "colorbar": {
              "outlinewidth": 0,
              "ticks": ""
             }
            },
            "type": "scattermapbox"
           }
          ],
          "scatterpolar": [
           {
            "marker": {
             "colorbar": {
              "outlinewidth": 0,
              "ticks": ""
             }
            },
            "type": "scatterpolar"
           }
          ],
          "scatterpolargl": [
           {
            "marker": {
             "colorbar": {
              "outlinewidth": 0,
              "ticks": ""
             }
            },
            "type": "scatterpolargl"
           }
          ],
          "scatterternary": [
           {
            "marker": {
             "colorbar": {
              "outlinewidth": 0,
              "ticks": ""
             }
            },
            "type": "scatterternary"
           }
          ],
          "surface": [
           {
            "colorbar": {
             "outlinewidth": 0,
             "ticks": ""
            },
            "colorscale": [
             [
              0,
              "#0d0887"
             ],
             [
              0.1111111111111111,
              "#46039f"
             ],
             [
              0.2222222222222222,
              "#7201a8"
             ],
             [
              0.3333333333333333,
              "#9c179e"
             ],
             [
              0.4444444444444444,
              "#bd3786"
             ],
             [
              0.5555555555555556,
              "#d8576b"
             ],
             [
              0.6666666666666666,
              "#ed7953"
             ],
             [
              0.7777777777777778,
              "#fb9f3a"
             ],
             [
              0.8888888888888888,
              "#fdca26"
             ],
             [
              1,
              "#f0f921"
             ]
            ],
            "type": "surface"
           }
          ],
          "table": [
           {
            "cells": {
             "fill": {
              "color": "#EBF0F8"
             },
             "line": {
              "color": "white"
             }
            },
            "header": {
             "fill": {
              "color": "#C8D4E3"
             },
             "line": {
              "color": "white"
             }
            },
            "type": "table"
           }
          ]
         },
         "layout": {
          "annotationdefaults": {
           "arrowcolor": "#2a3f5f",
           "arrowhead": 0,
           "arrowwidth": 1
          },
          "autotypenumbers": "strict",
          "coloraxis": {
           "colorbar": {
            "outlinewidth": 0,
            "ticks": ""
           }
          },
          "colorscale": {
           "diverging": [
            [
             0,
             "#8e0152"
            ],
            [
             0.1,
             "#c51b7d"
            ],
            [
             0.2,
             "#de77ae"
            ],
            [
             0.3,
             "#f1b6da"
            ],
            [
             0.4,
             "#fde0ef"
            ],
            [
             0.5,
             "#f7f7f7"
            ],
            [
             0.6,
             "#e6f5d0"
            ],
            [
             0.7,
             "#b8e186"
            ],
            [
             0.8,
             "#7fbc41"
            ],
            [
             0.9,
             "#4d9221"
            ],
            [
             1,
             "#276419"
            ]
           ],
           "sequential": [
            [
             0,
             "#0d0887"
            ],
            [
             0.1111111111111111,
             "#46039f"
            ],
            [
             0.2222222222222222,
             "#7201a8"
            ],
            [
             0.3333333333333333,
             "#9c179e"
            ],
            [
             0.4444444444444444,
             "#bd3786"
            ],
            [
             0.5555555555555556,
             "#d8576b"
            ],
            [
             0.6666666666666666,
             "#ed7953"
            ],
            [
             0.7777777777777778,
             "#fb9f3a"
            ],
            [
             0.8888888888888888,
             "#fdca26"
            ],
            [
             1,
             "#f0f921"
            ]
           ],
           "sequentialminus": [
            [
             0,
             "#0d0887"
            ],
            [
             0.1111111111111111,
             "#46039f"
            ],
            [
             0.2222222222222222,
             "#7201a8"
            ],
            [
             0.3333333333333333,
             "#9c179e"
            ],
            [
             0.4444444444444444,
             "#bd3786"
            ],
            [
             0.5555555555555556,
             "#d8576b"
            ],
            [
             0.6666666666666666,
             "#ed7953"
            ],
            [
             0.7777777777777778,
             "#fb9f3a"
            ],
            [
             0.8888888888888888,
             "#fdca26"
            ],
            [
             1,
             "#f0f921"
            ]
           ]
          },
          "colorway": [
           "#636efa",
           "#EF553B",
           "#00cc96",
           "#ab63fa",
           "#FFA15A",
           "#19d3f3",
           "#FF6692",
           "#B6E880",
           "#FF97FF",
           "#FECB52"
          ],
          "font": {
           "color": "#2a3f5f"
          },
          "geo": {
           "bgcolor": "white",
           "lakecolor": "white",
           "landcolor": "#E5ECF6",
           "showlakes": true,
           "showland": true,
           "subunitcolor": "white"
          },
          "hoverlabel": {
           "align": "left"
          },
          "hovermode": "closest",
          "mapbox": {
           "style": "light"
          },
          "paper_bgcolor": "white",
          "plot_bgcolor": "#E5ECF6",
          "polar": {
           "angularaxis": {
            "gridcolor": "white",
            "linecolor": "white",
            "ticks": ""
           },
           "bgcolor": "#E5ECF6",
           "radialaxis": {
            "gridcolor": "white",
            "linecolor": "white",
            "ticks": ""
           }
          },
          "scene": {
           "xaxis": {
            "backgroundcolor": "#E5ECF6",
            "gridcolor": "white",
            "gridwidth": 2,
            "linecolor": "white",
            "showbackground": true,
            "ticks": "",
            "zerolinecolor": "white"
           },
           "yaxis": {
            "backgroundcolor": "#E5ECF6",
            "gridcolor": "white",
            "gridwidth": 2,
            "linecolor": "white",
            "showbackground": true,
            "ticks": "",
            "zerolinecolor": "white"
           },
           "zaxis": {
            "backgroundcolor": "#E5ECF6",
            "gridcolor": "white",
            "gridwidth": 2,
            "linecolor": "white",
            "showbackground": true,
            "ticks": "",
            "zerolinecolor": "white"
           }
          },
          "shapedefaults": {
           "line": {
            "color": "#2a3f5f"
           }
          },
          "ternary": {
           "aaxis": {
            "gridcolor": "white",
            "linecolor": "white",
            "ticks": ""
           },
           "baxis": {
            "gridcolor": "white",
            "linecolor": "white",
            "ticks": ""
           },
           "bgcolor": "#E5ECF6",
           "caxis": {
            "gridcolor": "white",
            "linecolor": "white",
            "ticks": ""
           }
          },
          "title": {
           "x": 0.05
          },
          "xaxis": {
           "automargin": true,
           "gridcolor": "white",
           "linecolor": "white",
           "ticks": "",
           "title": {
            "standoff": 15
           },
           "zerolinecolor": "white",
           "zerolinewidth": 2
          },
          "yaxis": {
           "automargin": true,
           "gridcolor": "white",
           "linecolor": "white",
           "ticks": "",
           "title": {
            "standoff": 15
           },
           "zerolinecolor": "white",
           "zerolinewidth": 2
          }
         }
        },
        "title": {
         "text": "STD Histogram"
        },
        "xaxis": {
         "anchor": "y",
         "autorange": true,
         "domain": [
          0,
          1
         ],
         "range": [
          -50,
          6650
         ],
         "title": {
          "text": "value"
         },
         "type": "linear"
        },
        "yaxis": {
         "anchor": "x",
         "autorange": true,
         "domain": [
          0,
          1
         ],
         "range": [
          0,
          509.4736842105263
         ],
         "title": {
          "text": "count"
         }
        }
       }
      },
      "image/png": "[encoded data removed]",
      "text/html": [
       "<div>                            <div id=\"42d6fa1f-7ac9-431f-af97-2651df0f2264\" class=\"plotly-graph-div\" style=\"height:525px; width:100%;\"></div>            <script type=\"text/javascript\">                require([\"plotly\"], function(Plotly) {                    window.PLOTLYENV=window.PLOTLYENV || {};                                    if (document.getElementById(\"42d6fa1f-7ac9-431f-af97-2651df0f2264\")) {                    Plotly.newPlot(                        \"42d6fa1f-7ac9-431f-af97-2651df0f2264\",                        [{\"alignmentgroup\":\"True\",\"bingroup\":\"x\",\"hovertemplate\":\"variable=0<br>value=%{x}<br>count=%{y}<extra></extra>\",\"legendgroup\":\"0\",\"marker\":{\"color\":\"#636efa\",\"pattern\":{\"shape\":\"\"}},\"name\":\"0\",\"nbinsx\":100,\"offsetgroup\":\"0\",\"orientation\":\"v\",\"showlegend\":true,\"x\":[201.94788016447808,186.4112990740226,203.8474952881571,453.372463553713,56.68496993192127,9.166681305395981,11.126482640810488,0.012583350491347615,0.07386349399274088,0.015148180825221067,0.009258579168103303,0.012499483158649384,3.2665830211188256,0.0,2.806198756728021,17.344800788370865,2.4259577010615967,0.012147849998417993,2.7829319977724576,1.0280148925612267,0.016775195920479144,628.8596264396857,296.9727928737646,1378.957195189438,2912.8629215708384,0.17793536565328777,0.19048420094245042,1.2426606084817717,3.461093036726512,0.4107161285794463,0.0330550907042742,0.5356566780103511,2.986447372238301,1.375706203194342,1.7581932690876074,3.0782328668072423,1.7363388015301442,1.7172298580874878,2.260636999357418,3.5253899452145494,25.381954492955934,2.398259118795582,0.0,6.218195545206134,0.17464774165958374,7.861663197964729,12.205874183783603,0.18972319890808406,4.541888582234585,0.0,8.663539763931842,61.093341563666215,0.0,0.24065839173075204,0.2539128097903769,147.88180733170165,0.047857949078984476,0.048588461959076575,0.24929471152358293,9.565254085352159,6.026804469183543,0.27325803550758637,8.561270749246868,7.075641838022647,4.944694954764702,7.120817616781354,11.576196200324073,310.0904113729218,4.257609756958156,0.0,9.46048957725671,31.740117633203422,0.1070852205607328,0.02226985190060303,0.03311901242248564,0.03115805179363932,0.04780941850512316,0.023024581668912334,0.04913261659914601,0.01704965319269153,0.03607911780071742,0.5484965614703594,0.012759417371286906,0.037373052460548666,0.012922669300030424,53.38548622257129,0.06059684274923683,1508.7704289599208,0.08746768285559431,0.0032317045092943105,0.003018852648018537,0.0001751647954900733,0.00010478136884828113,0.22090909175339402,0.0,0.4294735137922122,0.06281341235491403,0.0003567514161197375,0.00022204873582676936,0.06313320006059789,0.0030744411936616148,0.0008520219742009933,0.003199954162958592,0.0029938596672674147,0.08758375538975115,0.08686870433063354,0.012158512490068305,0.0016805143813513194,48.94744359514514,0.009537818224807686,6.551332699135707,0.0554431776056113,0.008983869990513847,0.1240930276732617,0.09934636915702397,0.9016359165016136,0.10820364516768308,0.11402557199618857,0.281411284892738,0.25439332073889787,0.13490630442076373,0.2642966023393571,1.223577601440854,0.0823376644795821,0.002253854760427735,0.052983787707651595,6.515214074035661,2.988554102783917,53.63760001012144,54.45557306998452,52.81136543032366,13.339359273095324,263.1008050152553,509.88003671002355,0.0,3.60697583907579,0.0013078363804178755,0.06149421857700852,0.025880886877720763,0.021645173637546943,0.027367934345326632,18.91905631966105,0.0,3.2531937664743222,31.283717040476557,23.58366993367655,0.009412171679309472,5.275686783947181,1.1274524840838056,0.07991866586407496,975.0878395058434,576.13015092474,4242.444861871249,6553.483938881204,0.12118191415838776,0.24101337178862284,0.4036240220730491,1.1258104529182595,0.6354995549090889,0.047641763265789686,0.19770309383449475,0.157941728178122,0.0606428816079395,0.07188671241037675,0.09694145413240579,0.07189071187901616,0.11745525518322912,0.07538840357577296,0.2831249997453528,0.0,0.0,3.3064611722005077,0.22510409001002663,4.1673796445652735,6.827508888184882,0.11104729747520185,7.250854175998243,0.0,8.676644732154067,21.61821555158178,0.0,0.0,0.0,0.0,0.0,0.0,0.3441540148803111,15.83834944907331,10.62469709323748,0.5404436314177884,16.544139057308637,8.738889696183769,5.112616536755331,14.727166267927808,17.576259430342674,569.854570731386,11.630062586218404,0.05104765608901552,17.625690151814872,28.077166097317658,1.1779246642540293,0.042854004640409935,0.025114677830377272,0.03181895806154769,0.053337833116876635,0.05704323019738836,0.031166655334662882,0.026804656251521043,0.046758863713489494,1.1751978067800182,0.0016551306927645576,0.02334971993976895,0.05650961507688681,55.483001208045074,0.07090091670537951,461.6658559398882,0.0,0.010822672408077745,0.010795929288819688,0.0,0.0,0.0,0.0,0.0,0.0,0.0,0.0,0.0,0.0017008960676641663,0.0014371424240636542,0.0,0.0,0.0,0.0,0.04972833304796855,0.015882824059281424,54.806250084216316,0.037857616006189324,65.02193858397473,0.022667843378550784,0.008997626401251797,0.11983359761223288,0.0,0.0,0.0,0.0,0.0,0.0,0.0,0.0,0.0,0.0,0.0,0.029616784890138297,7.358684075242312,1.1548536899424156,7.9423925101594115,18.07236533068862,17.934751911014814,4.230851765347567,85.48566638945721,169.9352442446025,0.0,1.2149665065921647,0.00034788646520696333,0.020337696840555163,0.006288336309292582,0.00546634521406014,0.008627009307286847,5.920320812391647,0.0,0.9652477106432436,9.85255006453404,7.4557717091472835,0.0029559844148017104,1.6285650920584032,0.272784955631037,0.025790684096747472,474.94761630898716,284.40783415720034,1975.3775187623237,3228.6563874046583,0.06396703745935245,0.1303322830496855,0.21777305610798445,0.33332396915045137,0.19814308050399626,0.01451586509420698,0.06482396272697497,0.057651906657697385,0.025356010136817545,0.027763347917278594,0.03408084445246733,0.027765900292102057,0.04404185050359699,0.02896371087069372,0.11740627371175825,0.0,0.0,0.0,1.0167299438448794,0.07259430713750262,1.215488946963503,2.1738929712787196,0.03213005198776642,2.135929986184833,0.0,2.5377141182160434,6.582775121293975,0.0,0.0,0.0,0.0,0.0,0.0,0.05829387660381833,5.688927949836873,3.4282262578830975,0.17391289815297767,5.8214883711292345,7.612424468348252,1.7056463559950876,5.688285325281113,6.115502056663511,263.9402695088767,3.6968093639966026,0.011414255901503865,5.410568627610371,8.885066175268145,0.3551564100909121,0.012073746763163879,0.010654036595019754,0.014435526974454056,0.024701227061947672,0.013343025219348518,0.01585994082839911,0.01358264954178883,0.022520910532228152,0.38902399310504626,0.0005032367618626381,0.007159471498659089,0.020207747247676027,17.161278607649972,0.021544408570900613,147.97844202876954,0.0,0.0026713161032032814,0.00239122166022531,0.002711816343843408,0.0021093955927317066,0.0,0.0,0.0,0.0,0.0,0.0,0.0,0.000535204283685691,0.0004649374597675044,0.0,0.0,0.0,0.0,0.015642242454154714,0.005024786627236694,17.30580089733727,0.011937528847055566,20.537148627804545,0.006820482920747588,0.002923379377237019,0.03835642356720248,0.0,0.0,0.0,0.0,0.0,0.0,0.0,0.0,0.0,0.0,0.0,0.010719421311619988,2.8315677447857865,0.3658599840794528,2.405771009630381,1.7938849333509619,2.146372289445677,0.5974593796777083,18.658435217139694,47.50983956560414,0.0,4.007829320365882,1.0575095985397551,4.059503389667642,286.85457846967114,325.00335623049165,3.0855387350843415,6.978539181013616,0.0,32.62450469533524,6.38199024537907,23.473212452570092,1.0027810801779387,3.064858545542261,10.688875224939773,6.497148738710274,36.199993807353096,36.59620296019091,126.95413377987997,225.92988401926698,34.28196283556141,34.54834449251877,34.73636020165523,1.6205039766760783,34.29700196948411,38.56779603977704,6.163164135282474,0.18478131282244112,0.6567724999143824,0.1448572049316615,0.15744210987442506,0.1425187386428888,0.17781884317736674,0.08700274416987241,0.23639337360994456,0.0,0.0,0.0,0.9177702279991357,2.2576249843804828,3.0644336585958585,0.9370886979629188,8.188440334279273,4.574347416729582,0.0,1.3558740551956583,13.363015289096497,0.0,0.0,0.0,0.0,0.0,0.0,7.605070658018489,230.64253270973487,3.1740783787845173,5.006992729734727,10.21644599050622,47.38991244159347,22.38401948640531,24.856564605173546,2.62882024724803,15.026324522182602,10.266334148091124,5.104765608901582,2.6575972285781746,35.84525772458207,0.0,281.2419693649781,191.83464291833553,213.2958578218772,217.97436309012934,288.2446657859336,263.5679326197937,253.60704765199608,227.84953664106126,18.137010319751774,1.2340006163918376,0.9757614231294909,6.683076198292728,3.28012562481158,24.588328723781313,5.278011538888915,0.0,324.3736528172713,323.3231726356313,0.0,0.0,0.0,0.0,0.0,0.0,0.0,0.0,0.0,37.92446338474745,330.1393288189013,0.0,0.0,0.0,0.0,5.759710213701935,101.07649089799382,7.129286698006631,4.190240250247564,20.87626695571896,3.959976772886175,0.9446388774552437,1.8807814352278145,0.0,0.0,0.0,0.0,0.0,0.0,0.0,0.0,0.0,0.0,0.0,1.2515866653557286,0.7334349000545484,2.9010122122581743,0.0048484864705391146,0.0015690320676595474,0.0003102291428017928,1.3492386630777276,0.08785197924104375,0.2022309711525872,0.051873213280889556,19.10064600949848,17.643013551660836,0.2762597396086124,85.95806268288051,0.24906481693175478,26.8299068147145,0.06776163270494771,16.846349089514636,12.483222630854153,0.013211720231441003,0.017345787765866108,0.00375722662507087,3.612661236037279,0.012404526231040288,0.008849706541485522,0.0028812750775882995,93.17721890933393,0.2502783318275029],\"xaxis\":\"x\",\"yaxis\":\"y\",\"type\":\"histogram\"}],                        {\"template\":{\"data\":{\"bar\":[{\"error_x\":{\"color\":\"#2a3f5f\"},\"error_y\":{\"color\":\"#2a3f5f\"},\"marker\":{\"line\":{\"color\":\"#E5ECF6\",\"width\":0.5},\"pattern\":{\"fillmode\":\"overlay\",\"size\":10,\"solidity\":0.2}},\"type\":\"bar\"}],\"barpolar\":[{\"marker\":{\"line\":{\"color\":\"#E5ECF6\",\"width\":0.5},\"pattern\":{\"fillmode\":\"overlay\",\"size\":10,\"solidity\":0.2}},\"type\":\"barpolar\"}],\"carpet\":[{\"aaxis\":{\"endlinecolor\":\"#2a3f5f\",\"gridcolor\":\"white\",\"linecolor\":\"white\",\"minorgridcolor\":\"white\",\"startlinecolor\":\"#2a3f5f\"},\"baxis\":{\"endlinecolor\":\"#2a3f5f\",\"gridcolor\":\"white\",\"linecolor\":\"white\",\"minorgridcolor\":\"white\",\"startlinecolor\":\"#2a3f5f\"},\"type\":\"carpet\"}],\"choropleth\":[{\"colorbar\":{\"outlinewidth\":0,\"ticks\":\"\"},\"type\":\"choropleth\"}],\"contour\":[{\"colorbar\":{\"outlinewidth\":0,\"ticks\":\"\"},\"colorscale\":[[0.0,\"#0d0887\"],[0.1111111111111111,\"#46039f\"],[0.2222222222222222,\"#7201a8\"],[0.3333333333333333,\"#9c179e\"],[0.4444444444444444,\"#bd3786\"],[0.5555555555555556,\"#d8576b\"],[0.6666666666666666,\"#ed7953\"],[0.7777777777777778,\"#fb9f3a\"],[0.8888888888888888,\"#fdca26\"],[1.0,\"#f0f921\"]],\"type\":\"contour\"}],\"contourcarpet\":[{\"colorbar\":{\"outlinewidth\":0,\"ticks\":\"\"},\"type\":\"contourcarpet\"}],\"heatmap\":[{\"colorbar\":{\"outlinewidth\":0,\"ticks\":\"\"},\"colorscale\":[[0.0,\"#0d0887\"],[0.1111111111111111,\"#46039f\"],[0.2222222222222222,\"#7201a8\"],[0.3333333333333333,\"#9c179e\"],[0.4444444444444444,\"#bd3786\"],[0.5555555555555556,\"#d8576b\"],[0.6666666666666666,\"#ed7953\"],[0.7777777777777778,\"#fb9f3a\"],[0.8888888888888888,\"#fdca26\"],[1.0,\"#f0f921\"]],\"type\":\"heatmap\"}],\"heatmapgl\":[{\"colorbar\":{\"outlinewidth\":0,\"ticks\":\"\"},\"colorscale\":[[0.0,\"#0d0887\"],[0.1111111111111111,\"#46039f\"],[0.2222222222222222,\"#7201a8\"],[0.3333333333333333,\"#9c179e\"],[0.4444444444444444,\"#bd3786\"],[0.5555555555555556,\"#d8576b\"],[0.6666666666666666,\"#ed7953\"],[0.7777777777777778,\"#fb9f3a\"],[0.8888888888888888,\"#fdca26\"],[1.0,\"#f0f921\"]],\"type\":\"heatmapgl\"}],\"histogram\":[{\"marker\":{\"pattern\":{\"fillmode\":\"overlay\",\"size\":10,\"solidity\":0.2}},\"type\":\"histogram\"}],\"histogram2d\":[{\"colorbar\":{\"outlinewidth\":0,\"ticks\":\"\"},\"colorscale\":[[0.0,\"#0d0887\"],[0.1111111111111111,\"#46039f\"],[0.2222222222222222,\"#7201a8\"],[0.3333333333333333,\"#9c179e\"],[0.4444444444444444,\"#bd3786\"],[0.5555555555555556,\"#d8576b\"],[0.6666666666666666,\"#ed7953\"],[0.7777777777777778,\"#fb9f3a\"],[0.8888888888888888,\"#fdca26\"],[1.0,\"#f0f921\"]],\"type\":\"histogram2d\"}],\"histogram2dcontour\":[{\"colorbar\":{\"outlinewidth\":0,\"ticks\":\"\"},\"colorscale\":[[0.0,\"#0d0887\"],[0.1111111111111111,\"#46039f\"],[0.2222222222222222,\"#7201a8\"],[0.3333333333333333,\"#9c179e\"],[0.4444444444444444,\"#bd3786\"],[0.5555555555555556,\"#d8576b\"],[0.6666666666666666,\"#ed7953\"],[0.7777777777777778,\"#fb9f3a\"],[0.8888888888888888,\"#fdca26\"],[1.0,\"#f0f921\"]],\"type\":\"histogram2dcontour\"}],\"mesh3d\":[{\"colorbar\":{\"outlinewidth\":0,\"ticks\":\"\"},\"type\":\"mesh3d\"}],\"parcoords\":[{\"line\":{\"colorbar\":{\"outlinewidth\":0,\"ticks\":\"\"}},\"type\":\"parcoords\"}],\"pie\":[{\"automargin\":true,\"type\":\"pie\"}],\"scatter\":[{\"marker\":{\"colorbar\":{\"outlinewidth\":0,\"ticks\":\"\"}},\"type\":\"scatter\"}],\"scatter3d\":[{\"line\":{\"colorbar\":{\"outlinewidth\":0,\"ticks\":\"\"}},\"marker\":{\"colorbar\":{\"outlinewidth\":0,\"ticks\":\"\"}},\"type\":\"scatter3d\"}],\"scattercarpet\":[{\"marker\":{\"colorbar\":{\"outlinewidth\":0,\"ticks\":\"\"}},\"type\":\"scattercarpet\"}],\"scattergeo\":[{\"marker\":{\"colorbar\":{\"outlinewidth\":0,\"ticks\":\"\"}},\"type\":\"scattergeo\"}],\"scattergl\":[{\"marker\":{\"colorbar\":{\"outlinewidth\":0,\"ticks\":\"\"}},\"type\":\"scattergl\"}],\"scattermapbox\":[{\"marker\":{\"colorbar\":{\"outlinewidth\":0,\"ticks\":\"\"}},\"type\":\"scattermapbox\"}],\"scatterpolar\":[{\"marker\":{\"colorbar\":{\"outlinewidth\":0,\"ticks\":\"\"}},\"type\":\"scatterpolar\"}],\"scatterpolargl\":[{\"marker\":{\"colorbar\":{\"outlinewidth\":0,\"ticks\":\"\"}},\"type\":\"scatterpolargl\"}],\"scatterternary\":[{\"marker\":{\"colorbar\":{\"outlinewidth\":0,\"ticks\":\"\"}},\"type\":\"scatterternary\"}],\"surface\":[{\"colorbar\":{\"outlinewidth\":0,\"ticks\":\"\"},\"colorscale\":[[0.0,\"#0d0887\"],[0.1111111111111111,\"#46039f\"],[0.2222222222222222,\"#7201a8\"],[0.3333333333333333,\"#9c179e\"],[0.4444444444444444,\"#bd3786\"],[0.5555555555555556,\"#d8576b\"],[0.6666666666666666,\"#ed7953\"],[0.7777777777777778,\"#fb9f3a\"],[0.8888888888888888,\"#fdca26\"],[1.0,\"#f0f921\"]],\"type\":\"surface\"}],\"table\":[{\"cells\":{\"fill\":{\"color\":\"#EBF0F8\"},\"line\":{\"color\":\"white\"}},\"header\":{\"fill\":{\"color\":\"#C8D4E3\"},\"line\":{\"color\":\"white\"}},\"type\":\"table\"}]},\"layout\":{\"annotationdefaults\":{\"arrowcolor\":\"#2a3f5f\",\"arrowhead\":0,\"arrowwidth\":1},\"autotypenumbers\":\"strict\",\"coloraxis\":{\"colorbar\":{\"outlinewidth\":0,\"ticks\":\"\"}},\"colorscale\":{\"diverging\":[[0,\"#8e0152\"],[0.1,\"#c51b7d\"],[0.2,\"#de77ae\"],[0.3,\"#f1b6da\"],[0.4,\"#fde0ef\"],[0.5,\"#f7f7f7\"],[0.6,\"#e6f5d0\"],[0.7,\"#b8e186\"],[0.8,\"#7fbc41\"],[0.9,\"#4d9221\"],[1,\"#276419\"]],\"sequential\":[[0.0,\"#0d0887\"],[0.1111111111111111,\"#46039f\"],[0.2222222222222222,\"#7201a8\"],[0.3333333333333333,\"#9c179e\"],[0.4444444444444444,\"#bd3786\"],[0.5555555555555556,\"#d8576b\"],[0.6666666666666666,\"#ed7953\"],[0.7777777777777778,\"#fb9f3a\"],[0.8888888888888888,\"#fdca26\"],[1.0,\"#f0f921\"]],\"sequentialminus\":[[0.0,\"#0d0887\"],[0.1111111111111111,\"#46039f\"],[0.2222222222222222,\"#7201a8\"],[0.3333333333333333,\"#9c179e\"],[0.4444444444444444,\"#bd3786\"],[0.5555555555555556,\"#d8576b\"],[0.6666666666666666,\"#ed7953\"],[0.7777777777777778,\"#fb9f3a\"],[0.8888888888888888,\"#fdca26\"],[1.0,\"#f0f921\"]]},\"colorway\":[\"#636efa\",\"#EF553B\",\"#00cc96\",\"#ab63fa\",\"#FFA15A\",\"#19d3f3\",\"#FF6692\",\"#B6E880\",\"#FF97FF\",\"#FECB52\"],\"font\":{\"color\":\"#2a3f5f\"},\"geo\":{\"bgcolor\":\"white\",\"lakecolor\":\"white\",\"landcolor\":\"#E5ECF6\",\"showlakes\":true,\"showland\":true,\"subunitcolor\":\"white\"},\"hoverlabel\":{\"align\":\"left\"},\"hovermode\":\"closest\",\"mapbox\":{\"style\":\"light\"},\"paper_bgcolor\":\"white\",\"plot_bgcolor\":\"#E5ECF6\",\"polar\":{\"angularaxis\":{\"gridcolor\":\"white\",\"linecolor\":\"white\",\"ticks\":\"\"},\"bgcolor\":\"#E5ECF6\",\"radialaxis\":{\"gridcolor\":\"white\",\"linecolor\":\"white\",\"ticks\":\"\"}},\"scene\":{\"xaxis\":{\"backgroundcolor\":\"#E5ECF6\",\"gridcolor\":\"white\",\"gridwidth\":2,\"linecolor\":\"white\",\"showbackground\":true,\"ticks\":\"\",\"zerolinecolor\":\"white\"},\"yaxis\":{\"backgroundcolor\":\"#E5ECF6\",\"gridcolor\":\"white\",\"gridwidth\":2,\"linecolor\":\"white\",\"showbackground\":true,\"ticks\":\"\",\"zerolinecolor\":\"white\"},\"zaxis\":{\"backgroundcolor\":\"#E5ECF6\",\"gridcolor\":\"white\",\"gridwidth\":2,\"linecolor\":\"white\",\"showbackground\":true,\"ticks\":\"\",\"zerolinecolor\":\"white\"}},\"shapedefaults\":{\"line\":{\"color\":\"#2a3f5f\"}},\"ternary\":{\"aaxis\":{\"gridcolor\":\"white\",\"linecolor\":\"white\",\"ticks\":\"\"},\"baxis\":{\"gridcolor\":\"white\",\"linecolor\":\"white\",\"ticks\":\"\"},\"bgcolor\":\"#E5ECF6\",\"caxis\":{\"gridcolor\":\"white\",\"linecolor\":\"white\",\"ticks\":\"\"}},\"title\":{\"x\":0.05},\"xaxis\":{\"automargin\":true,\"gridcolor\":\"white\",\"linecolor\":\"white\",\"ticks\":\"\",\"title\":{\"standoff\":15},\"zerolinecolor\":\"white\",\"zerolinewidth\":2},\"yaxis\":{\"automargin\":true,\"gridcolor\":\"white\",\"linecolor\":\"white\",\"ticks\":\"\",\"title\":{\"standoff\":15},\"zerolinecolor\":\"white\",\"zerolinewidth\":2}}},\"xaxis\":{\"anchor\":\"y\",\"domain\":[0.0,1.0],\"title\":{\"text\":\"value\"}},\"yaxis\":{\"anchor\":\"x\",\"domain\":[0.0,1.0],\"title\":{\"text\":\"count\"}},\"legend\":{\"title\":{\"text\":\"variable\"},\"tracegroupgap\":0},\"title\":{\"text\":\"STD Histogram\"},\"barmode\":\"relative\"},                        {\"responsive\": true}                    ).then(function(){\n",
       "                            \n",
       "var gd = document.getElementById('42d6fa1f-7ac9-431f-af97-2651df0f2264');\n",
       "var x = new MutationObserver(function (mutations, observer) {{\n",
       "        var display = window.getComputedStyle(gd).display;\n",
       "        if (!display || display === 'none') {{\n",
       "            console.log([gd, 'removed!']);\n",
       "            Plotly.purge(gd);\n",
       "            observer.disconnect();\n",
       "        }}\n",
       "}});\n",
       "\n",
       "// Listen for the removal of the full notebook cells\n",
       "var notebookContainer = gd.closest('#notebook-container');\n",
       "if (notebookContainer) {{\n",
       "    x.observe(notebookContainer, {childList: true});\n",
       "}}\n",
       "\n",
       "// Listen for the clearing of the current output cell\n",
       "var outputEl = gd.closest('.output');\n",
       "if (outputEl) {{\n",
       "    x.observe(outputEl, {childList: true});\n",
       "}}\n",
       "\n",
       "                        })                };                });            </script>        </div>"
      ]
     },
     "metadata": {},
     "output_type": "display_data"
    }
   ],
   "source": [
    "px.histogram(df.std(),title=\"STD Histogram\",nbins=100)"
   ]
  },
  {
   "cell_type": "code",
   "execution_count": 53,
   "metadata": {},
   "outputs": [
    {
     "data": {
      "text/plain": [
       "(1535, 535)"
      ]
     },
     "execution_count": 53,
     "metadata": {},
     "output_type": "execute_result"
    }
   ],
   "source": [
    "df.shape"
   ]
  },
  {
   "cell_type": "code",
   "execution_count": 54,
   "metadata": {},
   "outputs": [
    {
     "name": "stdout",
     "output_type": "stream",
     "text": [
      "23\n",
      "2912.8629215708384\n",
      "85\n",
      "1508.7704289599208\n",
      "149\n",
      "4242.444861871249\n",
      "150\n",
      "6553.483938881204\n",
      "276\n",
      "1975.3775187623237\n",
      "277\n",
      "3228.6563874046583\n"
     ]
    }
   ],
   "source": [
    "for i in range(len(df.columns.values)):\n",
    "    if df.std()[i] > 1000:\n",
    "        print(i)\n",
    "        print(df.std()[i])\n",
    "        #df.drop(labels=f\"{i}\",axis=1, inplace=True)   "
   ]
  },
  {
   "cell_type": "markdown",
   "metadata": {},
   "source": [
    "Scikit-learn has a utility function for conducting standard scalars `StandardScaler()`\n",
    "\n",
    "We could implement the standard scaler in steps but it is more convenient to do it with a pipeline"
   ]
  },
  {
   "cell_type": "code",
   "execution_count": 51,
   "metadata": {},
   "outputs": [
    {
     "data": {
      "text/plain": [
       "0      -4043.75\n",
       "1      -3498.75\n",
       "2      -4047.00\n",
       "3      -4515.00\n",
       "4      -3987.50\n",
       "         ...   \n",
       "1557   -3484.25\n",
       "1558   -3660.25\n",
       "1559   -3926.50\n",
       "1562   -6228.25\n",
       "1563   -3675.50\n",
       "Name: 23, Length: 1535, dtype: float64"
      ]
     },
     "execution_count": 51,
     "metadata": {},
     "output_type": "execute_result"
    }
   ],
   "source": [
    "df.iloc[:,23]"
   ]
  },
  {
   "cell_type": "markdown",
   "metadata": {
    "tags": []
   },
   "source": [
    "### Scaled Logistic Regression (5 points)\n",
    "\n",
    "1. Use the `Pipeline` utility to create a machine learning model that:\n",
    "    - Computes the standard scalar of the data\n",
    "    - Conducts logistic regression\n",
    "2. Fit the model"
   ]
  },
  {
   "cell_type": "code",
   "execution_count": null,
   "metadata": {
    "tags": []
   },
   "outputs": [],
   "source": [
    "#X_normalized=df.drop('Pass/Fail', axis=1)\n",
    "#y_normalized=df['Pass/Fail']\n",
    "X_normalized = StandardScaler().fit_transform(X_normalized)\n",
    "\n",
    "X_normalized_train, X_normalized_test, y_normalized_train, y_normalized_test=train_test_split(X_normalized, y_normalized, stratify=y_normalized, test_size=0.3, random_state=42)\n",
    "\n",
    "lr_n = LogisticRegression(max_iter=1500)"
   ]
  },
  {
   "cell_type": "code",
   "execution_count": null,
   "metadata": {},
   "outputs": [],
   "source": [
    "from sklearn.pipeline import make_pipeline\n",
    "from sklearn import set_config\n",
    "\n",
    "X_normalized=df.drop('Pass/Fail', axis=1)\n",
    "y_normalized=df['Pass/Fail']\n",
    "\n",
    "set_config(display=\"diagram\")\n",
    "Pipeline(steps=[('StandardScaler', StandardScaler()), ('Logistic Regression', LogisticRegression(max_iter=1500))])"
   ]
  },
  {
   "cell_type": "code",
   "execution_count": null,
   "metadata": {},
   "outputs": [],
   "source": [
    "X_normalized = StandardScaler().fit_transform(X)\n",
    "X_normalized_train, X_normalized_test, y_normalized_train, y_normalized_test=train_test_split(X, y, stratify=y_normalized, test_size=0.3, random_state=42)\n",
    "\n",
    "lr_n.fit(X_normalized_train, y_normalized_train)"
   ]
  },
  {
   "cell_type": "markdown",
   "metadata": {},
   "source": [
    "Visualize the results as you have done before"
   ]
  },
  {
   "cell_type": "code",
   "execution_count": null,
   "metadata": {},
   "outputs": [],
   "source": [
    "y_normalized_pred_train= lr.predict(X_normalized_train)\n",
    "\n",
    "print(\"classification reports:\\n\",classification_report(y_normalized_train, y_normalized_pred_train))\n",
    "cm = confusion_matrix(y_normalized_train,y_normalized_pred_train)\n",
    "    \n",
    "fig, ax = plt.subplots(figsize=(12,8))\n",
    "plt.clf()\n",
    "plt.imshow(cm, interpolation='nearest', cmap=plt.cm.cividis)\n",
    "classNames = ['Negative','Positive']\n",
    "plt.title('Pass/Fail Index')\n",
    "plt.ylabel('True label')\n",
    "plt.xlabel('Predicted label')\n",
    "tick_marks = np.arange(len(classNames))\n",
    "plt.xticks(tick_marks, classNames)\n",
    "plt.yticks(tick_marks, classNames)\n",
    "s = [['TN','FP'], ['FN', 'TP']]\n",
    "for i in range(2):\n",
    "    for j in range(2):\n",
    "        plt.text(j,i, str(s[i][j])+\" = \"+str(cm[i][j]))\n",
    "plt.show()"
   ]
  },
  {
   "cell_type": "code",
   "execution_count": null,
   "metadata": {},
   "outputs": [],
   "source": [
    "y_normalized_pred_test= lr.predict(X_normalized_test)\n",
    "\n",
    "print(\"classification reports:\\n\",classification_report(y_normalized_test, y_normalized_pred_test))\n",
    "cm = confusion_matrix(y_normalized_test,y_normalized_pred_test)\n",
    "    \n",
    "fig, ax = plt.subplots(figsize=(12,8))\n",
    "plt.clf()\n",
    "plt.imshow(cm, interpolation='nearest', cmap=plt.cm.cividis)\n",
    "classNames = ['Negative','Positive']\n",
    "plt.title('Pass/Fail Index')\n",
    "plt.ylabel('True label')\n",
    "plt.xlabel('Predicted label')\n",
    "tick_marks = np.arange(len(classNames))\n",
    "plt.xticks(tick_marks, classNames)\n",
    "plt.yticks(tick_marks, classNames)\n",
    "s = [['TN','FP'], ['FN', 'TP']]\n",
    "for i in range(2):\n",
    "    for j in range(2):\n",
    "        plt.text(j,i, str(s[i][j])+\" = \"+str(cm[i][j]))\n",
    "plt.show()"
   ]
  },
  {
   "cell_type": "code",
   "execution_count": null,
   "metadata": {},
   "outputs": [],
   "source": [
    "y_normalized_pred_test"
   ]
  },
  {
   "cell_type": "markdown",
   "metadata": {},
   "source": [
    "### Standard Scaled Random Forest (5 points)"
   ]
  },
  {
   "cell_type": "markdown",
   "metadata": {},
   "source": [
    "1. Use the `Pipeline` utility to create a machine learning model that:\n",
    "    - Computes the standard scalar of the data\n",
    "    - Conducts Random Forest\n",
    "2. Fit the model"
   ]
  },
  {
   "cell_type": "code",
   "execution_count": null,
   "metadata": {},
   "outputs": [],
   "source": [
    "# Your code goes here"
   ]
  },
  {
   "cell_type": "code",
   "execution_count": null,
   "metadata": {},
   "outputs": [],
   "source": [
    "# Your code goes here"
   ]
  },
  {
   "cell_type": "markdown",
   "metadata": {},
   "source": [
    "<span style=\"color:blue\"> Question: Explain what is going on with the random forest model? Why are the results so bad? (5 points)</span>"
   ]
  },
  {
   "cell_type": "markdown",
   "metadata": {},
   "source": [
    "## Feature Reduction\n",
    "\n",
    "### Logistic Regression (5 Points)\n",
    "\n",
    "We can use PCA to reduce the number of features such that highly covariant features are combined. This helps deal with the curse of dimensionality.\n",
    "\n",
    "Add PCA to the pipeline for the logistic regression, and visualize the results as we have done before"
   ]
  },
  {
   "cell_type": "code",
   "execution_count": null,
   "metadata": {},
   "outputs": [],
   "source": [
    "# Your code goes here to build and fit the model"
   ]
  },
  {
   "cell_type": "code",
   "execution_count": null,
   "metadata": {},
   "outputs": [],
   "source": [
    "# Your code goes here to validate the training performance"
   ]
  },
  {
   "cell_type": "code",
   "execution_count": null,
   "metadata": {},
   "outputs": [],
   "source": [
    "# Your code goes here to validate the test performance"
   ]
  },
  {
   "cell_type": "markdown",
   "metadata": {},
   "source": [
    "### Random Forest (5 points)\n",
    "\n",
    "Add PCA to the pipeline for the logistic regression, and visualize the results as we have done before"
   ]
  },
  {
   "cell_type": "code",
   "execution_count": null,
   "metadata": {},
   "outputs": [],
   "source": [
    "# Your code goes here to build and fit the feature reduced random forest classifier"
   ]
  },
  {
   "cell_type": "code",
   "execution_count": null,
   "metadata": {},
   "outputs": [],
   "source": [
    "# Your code goes here to visualize the training results"
   ]
  },
  {
   "cell_type": "code",
   "execution_count": null,
   "metadata": {},
   "outputs": [],
   "source": [
    "# Your code goes here to visualize the test results"
   ]
  },
  {
   "cell_type": "markdown",
   "metadata": {},
   "source": [
    "<span style=\"color:blue\"> Question: Explain if adding PCA helped, explain why you think PCA helped or did not help. (5 points)</span> "
   ]
  },
  {
   "cell_type": "markdown",
   "metadata": {},
   "source": [
    "## Hyperparameter Tuning \n",
    "\n",
    "To improve a machine learning model you might want to tune the hyperparameters.\n",
    "\n",
    "Scikit-learn has automated tools for cross-validation and hyperparameter search. You can just define a dictionary of values that you want to search and it will try all of the fits returning the best results"
   ]
  },
  {
   "cell_type": "markdown",
   "metadata": {},
   "source": [
    "### Logistic Regression (7.5 points)\n",
    "\n",
    "Conduct build a pipeline and build a parameter grid to search the following hyperparameters:\n",
    "1. C = [ 0.001, .01, .1, 1, 10, 100]\n",
    "2. penalty = ['l1', 'l2']\n",
    "3. class_weight = ['balanced']\n",
    "4. solver = ['saga']\n",
    "5. PCA n_components = [2, 3, 4, 5, 8, 10]\n",
    "\n",
    "To conduct the fitting you should build the classifier with GridSearchCV. This conducts a grid search with cross-folds. See the documentation for more information. \n",
    "\n",
    "For the GridSearchCV set the scoring to 'f1', cv=5. If you want to monitor the status you can set verbose=10. "
   ]
  },
  {
   "cell_type": "code",
   "execution_count": null,
   "metadata": {},
   "outputs": [],
   "source": [
    "# Your code goes here"
   ]
  },
  {
   "cell_type": "markdown",
   "metadata": {},
   "source": [
    "You should look and see what the best estimator was from the search. \n",
    "\n",
    "You can use the `best_estimator_` method"
   ]
  },
  {
   "cell_type": "code",
   "execution_count": null,
   "metadata": {},
   "outputs": [],
   "source": [
    "# your code to evaluate the training process"
   ]
  },
  {
   "cell_type": "code",
   "execution_count": null,
   "metadata": {},
   "outputs": [],
   "source": [
    "# Your code goes here for validating the model"
   ]
  },
  {
   "cell_type": "markdown",
   "metadata": {},
   "source": [
    "### Random Forest Classifier (7.5 points)\n",
    "\n",
    "Conduct build a pipeline and build a parameter grid to search the following hyperparameters:\n",
    "1. Random Forest Criterion = [ \"gini\", \"entropy\", \"log_loss\"]\n",
    "2. max depth = [4, 8, 12]\n",
    "3. max features = ['sqrt', 'log2']\n",
    "4. PCA n_components = [4, 8, 10, 20]\n",
    "\n",
    "To conduct the fitting you should build the classifier with GridSearchCV. This conducts a grid search with cross-folds. See the documentation for more information. \n",
    "\n",
    "For the GridSearchCV set the scoring to 'f1', cv=5. If you want to monitor the status you can set verbose=10. "
   ]
  },
  {
   "cell_type": "code",
   "execution_count": null,
   "metadata": {},
   "outputs": [],
   "source": [
    "# Your code goes here"
   ]
  },
  {
   "cell_type": "code",
   "execution_count": null,
   "metadata": {},
   "outputs": [],
   "source": [
    "# Your code to show the best estimator goes here"
   ]
  },
  {
   "cell_type": "code",
   "execution_count": null,
   "metadata": {},
   "outputs": [],
   "source": [
    "# Your code to evaluate the training process"
   ]
  },
  {
   "cell_type": "code",
   "execution_count": null,
   "metadata": {},
   "outputs": [],
   "source": [
    "# Your code to evaluate the performance of the model"
   ]
  },
  {
   "cell_type": "markdown",
   "metadata": {},
   "source": [
    "## Balancing in the Data (10 points)\n",
    "\n",
    "This is a classification problem, it is useful to see if the classes are balanced as this affects model training. \n",
    "\n",
    "If you have a highly unbalanced dataset you can train a model to predict the most common classes but getting the uncommon classes wrong has little effect on the model performance metrics.\n",
    "\n",
    "View the ratio of the class outcomes. \n",
    "\n",
    "The class outcomes are stored in the ['pass/fail'] column, you can view the values and counts using the `.value_count()` built-in method"
   ]
  },
  {
   "cell_type": "code",
   "execution_count": null,
   "metadata": {},
   "outputs": [],
   "source": [
    "# Your code goes here"
   ]
  },
  {
   "cell_type": "markdown",
   "metadata": {},
   "source": [
    "Use `SMOTE(`)` to balance the dataset"
   ]
  },
  {
   "cell_type": "code",
   "execution_count": null,
   "metadata": {},
   "outputs": [],
   "source": [
    "# Your code goes here"
   ]
  },
  {
   "cell_type": "code",
   "execution_count": null,
   "metadata": {},
   "outputs": [],
   "source": [
    "# Check that this worked as expected"
   ]
  },
  {
   "cell_type": "markdown",
   "metadata": {},
   "source": [
    "Using the balanced dataset repeat the analysis done with the hyperparameter search\n",
    "\n",
    "### Logistic Regression (5 points)"
   ]
  },
  {
   "cell_type": "code",
   "execution_count": null,
   "metadata": {},
   "outputs": [],
   "source": [
    "# Your fitting code here"
   ]
  },
  {
   "cell_type": "code",
   "execution_count": null,
   "metadata": {},
   "outputs": [],
   "source": [
    "# Your code to show the best estimator"
   ]
  },
  {
   "cell_type": "code",
   "execution_count": null,
   "metadata": {},
   "outputs": [],
   "source": [
    "# Your code to check the training process"
   ]
  },
  {
   "cell_type": "code",
   "execution_count": null,
   "metadata": {},
   "outputs": [],
   "source": [
    "# Your code to validate the training process"
   ]
  },
  {
   "cell_type": "markdown",
   "metadata": {},
   "source": [
    "### Random Forest Classifier (5 Points)"
   ]
  },
  {
   "cell_type": "code",
   "execution_count": null,
   "metadata": {},
   "outputs": [],
   "source": [
    "# Your code to conduct the classifier"
   ]
  },
  {
   "cell_type": "code",
   "execution_count": null,
   "metadata": {},
   "outputs": [],
   "source": [
    "# Your code to show the best estimator"
   ]
  },
  {
   "cell_type": "code",
   "execution_count": null,
   "metadata": {},
   "outputs": [],
   "source": [
    "# Your code to validate the training process"
   ]
  },
  {
   "cell_type": "code",
   "execution_count": null,
   "metadata": {},
   "outputs": [],
   "source": [
    "# Your code to validate the model performance"
   ]
  },
  {
   "cell_type": "markdown",
   "metadata": {},
   "source": [
    "<span style=\"color:blue\">Question: Given that you are trying to predict and determine the underlying features responsible for producing products that \"pass\" which model would be better and why? (5 points)</span>"
   ]
  },
  {
   "cell_type": "markdown",
   "metadata": {},
   "source": [
    "## Bonus (10 Points): \n",
    "\n",
    "Use any method available to you to get a better validation F1 score for the Pass Classification"
   ]
  },
  {
   "cell_type": "markdown",
   "metadata": {},
   "source": [
    "A trick to always get better results is to use ensemble methods"
   ]
  }
 ],
 "metadata": {
  "kernelspec": {
   "display_name": "Python 3 (ipykernel)",
   "language": "python",
   "name": "python3"
  },
  "language_info": {
   "codemirror_mode": {
    "name": "ipython",
    "version": 3
   },
   "file_extension": ".py",
   "mimetype": "text/x-python",
   "name": "python",
   "nbconvert_exporter": "python",
   "pygments_lexer": "ipython3",
   "version": "3.9.12"
  },
  "vscode": {
   "interpreter": {
    "hash": "c475b5beda6d617ffb7b2fcf453fbe132321ffc1e1f96c06cf49356e1e7f42cb"
   }
  }
 },
 "nbformat": 4,
 "nbformat_minor": 4
}
