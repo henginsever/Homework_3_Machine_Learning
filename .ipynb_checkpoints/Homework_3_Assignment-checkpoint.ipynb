{
 "cells": [
  {
   "cell_type": "markdown",
   "metadata": {},
   "source": [
    "# Homework 3: Machine Learning Tasks (XX/125 points)\n",
    "## Due Monday 12/7/2022 11:59 pm\n",
    "## About Dataset\n",
    "### Data from a semi-conductor manufacturing process\n",
    "\n",
    "Number of Instances: 1567 <br>\n",
    "Area: Computer<br>\n",
    "Attribute Characteristics: Real<br>\n",
    "Number of Attributes: 591<br>\n",
    "Date Donated: 2008-11-19<br>\n",
    "Associated Tasks: Classification, Causal-Discovery<br>\n",
    "Missing Values? Yes<br>\n",
    "\n",
    "A complex modern semi-conductor manufacturing process is normally under consistent\n",
    "surveillance via the monitoring of signals/variables collected from sensors and or\n",
    "process measurement points. However, not all of these signals are equally valuable\n",
    "in a specific monitoring system. The measured signals contain a combination of\n",
    "useful information, irrelevant information as well as noise. It is often the case\n",
    "that useful information is buried in the latter two. Engineers typically have a\n",
    "much larger number of signals than are actually required. If we consider each type\n",
    "of signal as a feature, then feature selection may be applied to identify the most\n",
    "relevant signals. The Process Engineers may then use these signals to determine key\n",
    "factors contributing to yield excursions downstream in the process. This will\n",
    "enable an increase in process throughput, decreased time to learning and reduce the per unit production costs.\n",
    "\n",
    "To enhance current business improvement techniques the application of feature\n",
    "selection as an intelligent systems technique is being investigated.\n",
    "\n",
    "The dataset presented in this case represents a selection of such features where\n",
    "each example represents a single production entity with associated measured\n",
    "features and the labels represent a simple pass/fail yield for in-house line testing, figure 2, and associated date time stamp. Where -1 corresponds to a pass\n",
    "and 1 corresponds to a fail and the data time stamp is for that specific test\n",
    "point.\n",
    "\n",
    "This homework assignment will walk you through how to tackle this real problem. \n",
    "\n",
    "It is worth noting that this is an actual dataset and thus the problem is not fully tractable. Like many real problems, sometimes you do not have the necessary information to make a perfect solution. We want a useful and informative solution. "
   ]
  },
  {
   "cell_type": "code",
   "execution_count": 1,
   "metadata": {},
   "outputs": [],
   "source": [
    "## Here are some packages and modules that you will use. Make sure they are installed.\n",
    "\n",
    "# for basic operations\n",
    "import numpy as np \n",
    "import pandas as pd \n",
    "\n",
    "# for visualizations\n",
    "import matplotlib.pyplot as plt\n",
    "import seaborn as sns\n",
    "\n",
    "# for modeling \n",
    "from sklearn.metrics import confusion_matrix\n",
    "from sklearn.model_selection import GridSearchCV\n",
    "from sklearn.model_selection import train_test_split\n",
    "from sklearn.preprocessing import StandardScaler\n",
    "from sklearn.ensemble import RandomForestClassifier\n",
    "from sklearn.linear_model import LogisticRegression\n",
    "from sklearn.metrics import classification_report, confusion_matrix\n",
    "from sklearn.pipeline import Pipeline\n",
    "from sklearn.decomposition import PCA\n",
    "\n",
    "import plotly_express as px\n",
    "\n",
    "from imblearn.over_sampling import SMOTE\n",
    "\n",
    "# to avoid warnings\n",
    "import warnings\n",
    "warnings.filterwarnings(\"ignore\", category=DeprecationWarning)\n"
   ]
  },
  {
   "cell_type": "markdown",
   "metadata": {
    "jupyter": {
     "source_hidden": true
    },
    "tags": []
   },
   "source": [
    "## Loading the data (5 points)\n",
    "\n",
    "1. The data file is in a file called `uci-secom.csv` scikit-learn works well with pandas. It is recommended that you read the csv into a pandas array.\n",
    "2. It is useful to print the shape of the output array to know what the data is that you are working with\n"
   ]
  },
  {
   "cell_type": "code",
   "execution_count": 2,
   "metadata": {},
   "outputs": [],
   "source": [
    "df = pd.read_csv(\"uci-secom.csv\")"
   ]
  },
  {
   "cell_type": "markdown",
   "metadata": {
    "jupyter": {
     "source_hidden": true
    },
    "tags": []
   },
   "source": [
    "3. Pandas has a built-in method called head that shows the first few rows, this is useful to see what the data looks like "
   ]
  },
  {
   "cell_type": "code",
   "execution_count": 3,
   "metadata": {},
   "outputs": [
    {
     "data": {
      "text/html": [
       "<div>\n",
       "<style scoped>\n",
       "    .dataframe tbody tr th:only-of-type {\n",
       "        vertical-align: middle;\n",
       "    }\n",
       "\n",
       "    .dataframe tbody tr th {\n",
       "        vertical-align: top;\n",
       "    }\n",
       "\n",
       "    .dataframe thead th {\n",
       "        text-align: right;\n",
       "    }\n",
       "</style>\n",
       "<table border=\"1\" class=\"dataframe\">\n",
       "  <thead>\n",
       "    <tr style=\"text-align: right;\">\n",
       "      <th></th>\n",
       "      <th>Time</th>\n",
       "      <th>0</th>\n",
       "      <th>1</th>\n",
       "      <th>2</th>\n",
       "      <th>3</th>\n",
       "      <th>4</th>\n",
       "      <th>5</th>\n",
       "      <th>6</th>\n",
       "      <th>7</th>\n",
       "      <th>8</th>\n",
       "      <th>...</th>\n",
       "      <th>581</th>\n",
       "      <th>582</th>\n",
       "      <th>583</th>\n",
       "      <th>584</th>\n",
       "      <th>585</th>\n",
       "      <th>586</th>\n",
       "      <th>587</th>\n",
       "      <th>588</th>\n",
       "      <th>589</th>\n",
       "      <th>Pass/Fail</th>\n",
       "    </tr>\n",
       "  </thead>\n",
       "  <tbody>\n",
       "    <tr>\n",
       "      <th>0</th>\n",
       "      <td>2008-07-19 11:55:00</td>\n",
       "      <td>3030.93</td>\n",
       "      <td>2564.00</td>\n",
       "      <td>2187.7333</td>\n",
       "      <td>1411.1265</td>\n",
       "      <td>1.3602</td>\n",
       "      <td>100.0</td>\n",
       "      <td>97.6133</td>\n",
       "      <td>0.1242</td>\n",
       "      <td>1.5005</td>\n",
       "      <td>...</td>\n",
       "      <td>NaN</td>\n",
       "      <td>0.5005</td>\n",
       "      <td>0.0118</td>\n",
       "      <td>0.0035</td>\n",
       "      <td>2.3630</td>\n",
       "      <td>NaN</td>\n",
       "      <td>NaN</td>\n",
       "      <td>NaN</td>\n",
       "      <td>NaN</td>\n",
       "      <td>-1</td>\n",
       "    </tr>\n",
       "    <tr>\n",
       "      <th>1</th>\n",
       "      <td>2008-07-19 12:32:00</td>\n",
       "      <td>3095.78</td>\n",
       "      <td>2465.14</td>\n",
       "      <td>2230.4222</td>\n",
       "      <td>1463.6606</td>\n",
       "      <td>0.8294</td>\n",
       "      <td>100.0</td>\n",
       "      <td>102.3433</td>\n",
       "      <td>0.1247</td>\n",
       "      <td>1.4966</td>\n",
       "      <td>...</td>\n",
       "      <td>208.2045</td>\n",
       "      <td>0.5019</td>\n",
       "      <td>0.0223</td>\n",
       "      <td>0.0055</td>\n",
       "      <td>4.4447</td>\n",
       "      <td>0.0096</td>\n",
       "      <td>0.0201</td>\n",
       "      <td>0.0060</td>\n",
       "      <td>208.2045</td>\n",
       "      <td>-1</td>\n",
       "    </tr>\n",
       "    <tr>\n",
       "      <th>2</th>\n",
       "      <td>2008-07-19 13:17:00</td>\n",
       "      <td>2932.61</td>\n",
       "      <td>2559.94</td>\n",
       "      <td>2186.4111</td>\n",
       "      <td>1698.0172</td>\n",
       "      <td>1.5102</td>\n",
       "      <td>100.0</td>\n",
       "      <td>95.4878</td>\n",
       "      <td>0.1241</td>\n",
       "      <td>1.4436</td>\n",
       "      <td>...</td>\n",
       "      <td>82.8602</td>\n",
       "      <td>0.4958</td>\n",
       "      <td>0.0157</td>\n",
       "      <td>0.0039</td>\n",
       "      <td>3.1745</td>\n",
       "      <td>0.0584</td>\n",
       "      <td>0.0484</td>\n",
       "      <td>0.0148</td>\n",
       "      <td>82.8602</td>\n",
       "      <td>1</td>\n",
       "    </tr>\n",
       "    <tr>\n",
       "      <th>3</th>\n",
       "      <td>2008-07-19 14:43:00</td>\n",
       "      <td>2988.72</td>\n",
       "      <td>2479.90</td>\n",
       "      <td>2199.0333</td>\n",
       "      <td>909.7926</td>\n",
       "      <td>1.3204</td>\n",
       "      <td>100.0</td>\n",
       "      <td>104.2367</td>\n",
       "      <td>0.1217</td>\n",
       "      <td>1.4882</td>\n",
       "      <td>...</td>\n",
       "      <td>73.8432</td>\n",
       "      <td>0.4990</td>\n",
       "      <td>0.0103</td>\n",
       "      <td>0.0025</td>\n",
       "      <td>2.0544</td>\n",
       "      <td>0.0202</td>\n",
       "      <td>0.0149</td>\n",
       "      <td>0.0044</td>\n",
       "      <td>73.8432</td>\n",
       "      <td>-1</td>\n",
       "    </tr>\n",
       "    <tr>\n",
       "      <th>4</th>\n",
       "      <td>2008-07-19 15:22:00</td>\n",
       "      <td>3032.24</td>\n",
       "      <td>2502.87</td>\n",
       "      <td>2233.3667</td>\n",
       "      <td>1326.5200</td>\n",
       "      <td>1.5334</td>\n",
       "      <td>100.0</td>\n",
       "      <td>100.3967</td>\n",
       "      <td>0.1235</td>\n",
       "      <td>1.5031</td>\n",
       "      <td>...</td>\n",
       "      <td>NaN</td>\n",
       "      <td>0.4800</td>\n",
       "      <td>0.4766</td>\n",
       "      <td>0.1045</td>\n",
       "      <td>99.3032</td>\n",
       "      <td>0.0202</td>\n",
       "      <td>0.0149</td>\n",
       "      <td>0.0044</td>\n",
       "      <td>73.8432</td>\n",
       "      <td>-1</td>\n",
       "    </tr>\n",
       "  </tbody>\n",
       "</table>\n",
       "<p>5 rows × 592 columns</p>\n",
       "</div>"
      ],
      "text/plain": [
       "                  Time        0        1          2          3       4      5  \\\n",
       "0  2008-07-19 11:55:00  3030.93  2564.00  2187.7333  1411.1265  1.3602  100.0   \n",
       "1  2008-07-19 12:32:00  3095.78  2465.14  2230.4222  1463.6606  0.8294  100.0   \n",
       "2  2008-07-19 13:17:00  2932.61  2559.94  2186.4111  1698.0172  1.5102  100.0   \n",
       "3  2008-07-19 14:43:00  2988.72  2479.90  2199.0333   909.7926  1.3204  100.0   \n",
       "4  2008-07-19 15:22:00  3032.24  2502.87  2233.3667  1326.5200  1.5334  100.0   \n",
       "\n",
       "          6       7       8  ...       581     582     583     584      585  \\\n",
       "0   97.6133  0.1242  1.5005  ...       NaN  0.5005  0.0118  0.0035   2.3630   \n",
       "1  102.3433  0.1247  1.4966  ...  208.2045  0.5019  0.0223  0.0055   4.4447   \n",
       "2   95.4878  0.1241  1.4436  ...   82.8602  0.4958  0.0157  0.0039   3.1745   \n",
       "3  104.2367  0.1217  1.4882  ...   73.8432  0.4990  0.0103  0.0025   2.0544   \n",
       "4  100.3967  0.1235  1.5031  ...       NaN  0.4800  0.4766  0.1045  99.3032   \n",
       "\n",
       "      586     587     588       589  Pass/Fail  \n",
       "0     NaN     NaN     NaN       NaN         -1  \n",
       "1  0.0096  0.0201  0.0060  208.2045         -1  \n",
       "2  0.0584  0.0484  0.0148   82.8602          1  \n",
       "3  0.0202  0.0149  0.0044   73.8432         -1  \n",
       "4  0.0202  0.0149  0.0044   73.8432         -1  \n",
       "\n",
       "[5 rows x 592 columns]"
      ]
     },
     "execution_count": 3,
     "metadata": {},
     "output_type": "execute_result"
    }
   ],
   "source": [
    "df.head()"
   ]
  },
  {
   "cell_type": "markdown",
   "metadata": {
    "jupyter": {
     "source_hidden": true
    },
    "tags": []
   },
   "source": [
    "## Filtering Data (5 points)\n",
    "\n",
    "Real data is usually a mess. There could be missing points, outliers, and features that could have vastly different values and ranges. \n",
    "* Machine learning models are influenced heavily by these problems \n"
   ]
  },
  {
   "cell_type": "markdown",
   "metadata": {
    "jupyter": {
     "source_hidden": true
    },
    "tags": []
   },
   "source": [
    "### Fixing Missing Values (5 Points)\n",
    "\n",
    "1. It is not uncommon that some of the features have only a few entries. These are not helpful for machine learning. We should just remove these features from the data\n",
    "\n",
    "It is good to visualize how many missing values each feature has."
   ]
  },
  {
   "cell_type": "markdown",
   "metadata": {
    "jupyter": {
     "source_hidden": true
    },
    "tags": []
   },
   "source": [
    "### Plotting the Missing Data Entries (5 points)\n",
    "\n",
    "Hint: you can find the nan values with the `.isna()` method, and the sum using `.sum()`\n",
    "\n",
    "You can plot the data using `px.histogram`"
   ]
  },
  {
   "cell_type": "code",
   "execution_count": 4,
   "metadata": {},
   "outputs": [
    {
     "data": {
      "text/html": [
       "<div>\n",
       "<style scoped>\n",
       "    .dataframe tbody tr th:only-of-type {\n",
       "        vertical-align: middle;\n",
       "    }\n",
       "\n",
       "    .dataframe tbody tr th {\n",
       "        vertical-align: top;\n",
       "    }\n",
       "\n",
       "    .dataframe thead th {\n",
       "        text-align: right;\n",
       "    }\n",
       "</style>\n",
       "<table border=\"1\" class=\"dataframe\">\n",
       "  <thead>\n",
       "    <tr style=\"text-align: right;\">\n",
       "      <th></th>\n",
       "      <th>Time</th>\n",
       "      <th>0</th>\n",
       "      <th>1</th>\n",
       "      <th>2</th>\n",
       "      <th>3</th>\n",
       "      <th>4</th>\n",
       "      <th>5</th>\n",
       "      <th>6</th>\n",
       "      <th>7</th>\n",
       "      <th>8</th>\n",
       "      <th>...</th>\n",
       "      <th>581</th>\n",
       "      <th>582</th>\n",
       "      <th>583</th>\n",
       "      <th>584</th>\n",
       "      <th>585</th>\n",
       "      <th>586</th>\n",
       "      <th>587</th>\n",
       "      <th>588</th>\n",
       "      <th>589</th>\n",
       "      <th>Pass/Fail</th>\n",
       "    </tr>\n",
       "  </thead>\n",
       "  <tbody>\n",
       "    <tr>\n",
       "      <th>0</th>\n",
       "      <td>False</td>\n",
       "      <td>False</td>\n",
       "      <td>False</td>\n",
       "      <td>False</td>\n",
       "      <td>False</td>\n",
       "      <td>False</td>\n",
       "      <td>False</td>\n",
       "      <td>False</td>\n",
       "      <td>False</td>\n",
       "      <td>False</td>\n",
       "      <td>...</td>\n",
       "      <td>True</td>\n",
       "      <td>False</td>\n",
       "      <td>False</td>\n",
       "      <td>False</td>\n",
       "      <td>False</td>\n",
       "      <td>True</td>\n",
       "      <td>True</td>\n",
       "      <td>True</td>\n",
       "      <td>True</td>\n",
       "      <td>False</td>\n",
       "    </tr>\n",
       "    <tr>\n",
       "      <th>1</th>\n",
       "      <td>False</td>\n",
       "      <td>False</td>\n",
       "      <td>False</td>\n",
       "      <td>False</td>\n",
       "      <td>False</td>\n",
       "      <td>False</td>\n",
       "      <td>False</td>\n",
       "      <td>False</td>\n",
       "      <td>False</td>\n",
       "      <td>False</td>\n",
       "      <td>...</td>\n",
       "      <td>False</td>\n",
       "      <td>False</td>\n",
       "      <td>False</td>\n",
       "      <td>False</td>\n",
       "      <td>False</td>\n",
       "      <td>False</td>\n",
       "      <td>False</td>\n",
       "      <td>False</td>\n",
       "      <td>False</td>\n",
       "      <td>False</td>\n",
       "    </tr>\n",
       "    <tr>\n",
       "      <th>2</th>\n",
       "      <td>False</td>\n",
       "      <td>False</td>\n",
       "      <td>False</td>\n",
       "      <td>False</td>\n",
       "      <td>False</td>\n",
       "      <td>False</td>\n",
       "      <td>False</td>\n",
       "      <td>False</td>\n",
       "      <td>False</td>\n",
       "      <td>False</td>\n",
       "      <td>...</td>\n",
       "      <td>False</td>\n",
       "      <td>False</td>\n",
       "      <td>False</td>\n",
       "      <td>False</td>\n",
       "      <td>False</td>\n",
       "      <td>False</td>\n",
       "      <td>False</td>\n",
       "      <td>False</td>\n",
       "      <td>False</td>\n",
       "      <td>False</td>\n",
       "    </tr>\n",
       "    <tr>\n",
       "      <th>3</th>\n",
       "      <td>False</td>\n",
       "      <td>False</td>\n",
       "      <td>False</td>\n",
       "      <td>False</td>\n",
       "      <td>False</td>\n",
       "      <td>False</td>\n",
       "      <td>False</td>\n",
       "      <td>False</td>\n",
       "      <td>False</td>\n",
       "      <td>False</td>\n",
       "      <td>...</td>\n",
       "      <td>False</td>\n",
       "      <td>False</td>\n",
       "      <td>False</td>\n",
       "      <td>False</td>\n",
       "      <td>False</td>\n",
       "      <td>False</td>\n",
       "      <td>False</td>\n",
       "      <td>False</td>\n",
       "      <td>False</td>\n",
       "      <td>False</td>\n",
       "    </tr>\n",
       "    <tr>\n",
       "      <th>4</th>\n",
       "      <td>False</td>\n",
       "      <td>False</td>\n",
       "      <td>False</td>\n",
       "      <td>False</td>\n",
       "      <td>False</td>\n",
       "      <td>False</td>\n",
       "      <td>False</td>\n",
       "      <td>False</td>\n",
       "      <td>False</td>\n",
       "      <td>False</td>\n",
       "      <td>...</td>\n",
       "      <td>True</td>\n",
       "      <td>False</td>\n",
       "      <td>False</td>\n",
       "      <td>False</td>\n",
       "      <td>False</td>\n",
       "      <td>False</td>\n",
       "      <td>False</td>\n",
       "      <td>False</td>\n",
       "      <td>False</td>\n",
       "      <td>False</td>\n",
       "    </tr>\n",
       "    <tr>\n",
       "      <th>...</th>\n",
       "      <td>...</td>\n",
       "      <td>...</td>\n",
       "      <td>...</td>\n",
       "      <td>...</td>\n",
       "      <td>...</td>\n",
       "      <td>...</td>\n",
       "      <td>...</td>\n",
       "      <td>...</td>\n",
       "      <td>...</td>\n",
       "      <td>...</td>\n",
       "      <td>...</td>\n",
       "      <td>...</td>\n",
       "      <td>...</td>\n",
       "      <td>...</td>\n",
       "      <td>...</td>\n",
       "      <td>...</td>\n",
       "      <td>...</td>\n",
       "      <td>...</td>\n",
       "      <td>...</td>\n",
       "      <td>...</td>\n",
       "      <td>...</td>\n",
       "    </tr>\n",
       "    <tr>\n",
       "      <th>1562</th>\n",
       "      <td>False</td>\n",
       "      <td>False</td>\n",
       "      <td>False</td>\n",
       "      <td>False</td>\n",
       "      <td>False</td>\n",
       "      <td>False</td>\n",
       "      <td>False</td>\n",
       "      <td>False</td>\n",
       "      <td>False</td>\n",
       "      <td>False</td>\n",
       "      <td>...</td>\n",
       "      <td>False</td>\n",
       "      <td>False</td>\n",
       "      <td>False</td>\n",
       "      <td>False</td>\n",
       "      <td>False</td>\n",
       "      <td>False</td>\n",
       "      <td>False</td>\n",
       "      <td>False</td>\n",
       "      <td>False</td>\n",
       "      <td>False</td>\n",
       "    </tr>\n",
       "    <tr>\n",
       "      <th>1563</th>\n",
       "      <td>False</td>\n",
       "      <td>False</td>\n",
       "      <td>False</td>\n",
       "      <td>False</td>\n",
       "      <td>False</td>\n",
       "      <td>False</td>\n",
       "      <td>False</td>\n",
       "      <td>False</td>\n",
       "      <td>False</td>\n",
       "      <td>False</td>\n",
       "      <td>...</td>\n",
       "      <td>True</td>\n",
       "      <td>False</td>\n",
       "      <td>False</td>\n",
       "      <td>False</td>\n",
       "      <td>False</td>\n",
       "      <td>False</td>\n",
       "      <td>False</td>\n",
       "      <td>False</td>\n",
       "      <td>False</td>\n",
       "      <td>False</td>\n",
       "    </tr>\n",
       "    <tr>\n",
       "      <th>1564</th>\n",
       "      <td>False</td>\n",
       "      <td>False</td>\n",
       "      <td>False</td>\n",
       "      <td>False</td>\n",
       "      <td>False</td>\n",
       "      <td>False</td>\n",
       "      <td>False</td>\n",
       "      <td>False</td>\n",
       "      <td>False</td>\n",
       "      <td>True</td>\n",
       "      <td>...</td>\n",
       "      <td>False</td>\n",
       "      <td>False</td>\n",
       "      <td>False</td>\n",
       "      <td>False</td>\n",
       "      <td>False</td>\n",
       "      <td>False</td>\n",
       "      <td>False</td>\n",
       "      <td>False</td>\n",
       "      <td>False</td>\n",
       "      <td>False</td>\n",
       "    </tr>\n",
       "    <tr>\n",
       "      <th>1565</th>\n",
       "      <td>False</td>\n",
       "      <td>False</td>\n",
       "      <td>False</td>\n",
       "      <td>False</td>\n",
       "      <td>False</td>\n",
       "      <td>False</td>\n",
       "      <td>False</td>\n",
       "      <td>False</td>\n",
       "      <td>False</td>\n",
       "      <td>False</td>\n",
       "      <td>...</td>\n",
       "      <td>False</td>\n",
       "      <td>False</td>\n",
       "      <td>False</td>\n",
       "      <td>False</td>\n",
       "      <td>False</td>\n",
       "      <td>False</td>\n",
       "      <td>False</td>\n",
       "      <td>False</td>\n",
       "      <td>False</td>\n",
       "      <td>False</td>\n",
       "    </tr>\n",
       "    <tr>\n",
       "      <th>1566</th>\n",
       "      <td>False</td>\n",
       "      <td>False</td>\n",
       "      <td>False</td>\n",
       "      <td>False</td>\n",
       "      <td>False</td>\n",
       "      <td>False</td>\n",
       "      <td>False</td>\n",
       "      <td>False</td>\n",
       "      <td>False</td>\n",
       "      <td>True</td>\n",
       "      <td>...</td>\n",
       "      <td>False</td>\n",
       "      <td>False</td>\n",
       "      <td>False</td>\n",
       "      <td>False</td>\n",
       "      <td>False</td>\n",
       "      <td>False</td>\n",
       "      <td>False</td>\n",
       "      <td>False</td>\n",
       "      <td>False</td>\n",
       "      <td>False</td>\n",
       "    </tr>\n",
       "  </tbody>\n",
       "</table>\n",
       "<p>1567 rows × 592 columns</p>\n",
       "</div>"
      ],
      "text/plain": [
       "       Time      0      1      2      3      4      5      6      7      8  \\\n",
       "0     False  False  False  False  False  False  False  False  False  False   \n",
       "1     False  False  False  False  False  False  False  False  False  False   \n",
       "2     False  False  False  False  False  False  False  False  False  False   \n",
       "3     False  False  False  False  False  False  False  False  False  False   \n",
       "4     False  False  False  False  False  False  False  False  False  False   \n",
       "...     ...    ...    ...    ...    ...    ...    ...    ...    ...    ...   \n",
       "1562  False  False  False  False  False  False  False  False  False  False   \n",
       "1563  False  False  False  False  False  False  False  False  False  False   \n",
       "1564  False  False  False  False  False  False  False  False  False   True   \n",
       "1565  False  False  False  False  False  False  False  False  False  False   \n",
       "1566  False  False  False  False  False  False  False  False  False   True   \n",
       "\n",
       "      ...    581    582    583    584    585    586    587    588    589  \\\n",
       "0     ...   True  False  False  False  False   True   True   True   True   \n",
       "1     ...  False  False  False  False  False  False  False  False  False   \n",
       "2     ...  False  False  False  False  False  False  False  False  False   \n",
       "3     ...  False  False  False  False  False  False  False  False  False   \n",
       "4     ...   True  False  False  False  False  False  False  False  False   \n",
       "...   ...    ...    ...    ...    ...    ...    ...    ...    ...    ...   \n",
       "1562  ...  False  False  False  False  False  False  False  False  False   \n",
       "1563  ...   True  False  False  False  False  False  False  False  False   \n",
       "1564  ...  False  False  False  False  False  False  False  False  False   \n",
       "1565  ...  False  False  False  False  False  False  False  False  False   \n",
       "1566  ...  False  False  False  False  False  False  False  False  False   \n",
       "\n",
       "      Pass/Fail  \n",
       "0         False  \n",
       "1         False  \n",
       "2         False  \n",
       "3         False  \n",
       "4         False  \n",
       "...         ...  \n",
       "1562      False  \n",
       "1563      False  \n",
       "1564      False  \n",
       "1565      False  \n",
       "1566      False  \n",
       "\n",
       "[1567 rows x 592 columns]"
      ]
     },
     "execution_count": 4,
     "metadata": {},
     "output_type": "execute_result"
    }
   ],
   "source": [
    "df.isna()"
   ]
  },
  {
   "cell_type": "code",
   "execution_count": 5,
   "metadata": {},
   "outputs": [
    {
     "data": {
      "text/plain": [
       "Time          0\n",
       "0             6\n",
       "1             7\n",
       "2            14\n",
       "3            14\n",
       "             ..\n",
       "586           1\n",
       "587           1\n",
       "588           1\n",
       "589           1\n",
       "Pass/Fail     0\n",
       "Length: 592, dtype: int64"
      ]
     },
     "execution_count": 5,
     "metadata": {},
     "output_type": "execute_result"
    }
   ],
   "source": [
    "nan_count_column = df.isna().sum()\n",
    "nan_count_column"
   ]
  },
  {
   "cell_type": "code",
   "execution_count": 7,
   "metadata": {},
   "outputs": [
    {
     "data": {
      "application/vnd.plotly.v1+json": {
       "config": {
        "plotlyServerURL": "https://plot.ly"
       },
       "data": [
        {
         "alignmentgroup": "True",
         "bingroup": "x",
         "hovertemplate": "1=%{x}<br>count=%{y}<extra></extra>",
         "legendgroup": "",
         "marker": {
          "color": "#636efa",
          "pattern": {
           "shape": ""
          }
         },
         "name": "",
         "offsetgroup": "",
         "orientation": "v",
         "showlegend": false,
         "type": "histogram",
         "x": [
          2564,
          2465.14,
          2559.94,
          2479.9,
          2502.87,
          2432.84,
          2430.12,
          2690.15,
          2600.47,
          2428.37,
          2548.21,
          2479.4,
          2507.4,
          2529.27,
          2629.48,
          2546.26,
          2560.87,
          2517.79,
          2501.16,
          2519.05,
          2528.81,
          2481.85,
          2497.45,
          2514.54,
          2632.8,
          2446.56,
          2456.33,
          2607.63,
          2431.57,
          2529.11,
          2489.7,
          2492.36,
          2524.18,
          2566.35,
          2457.64,
          2477.35,
          2445.44,
          2302.46,
          2542.24,
          2530.67,
          2545.71,
          2517.18,
          2503.46,
          2748.67,
          2490.71,
          2446.25,
          2475.53,
          2788.4,
          2345.95,
          2533.91,
          2446.74,
          2520.21,
          2466.78,
          2484.31,
          2398.44,
          2809.79,
          2569.81,
          2586.05,
          2388.74,
          2481.28,
          2694.31,
          2541.92,
          2483.66,
          2492.8,
          2628.76,
          2461.38,
          2544.52,
          2508.28,
          2702.64,
          2565.8,
          2315.76,
          2375.49,
          2623.1,
          2424.37,
          2450.25,
          2492.29,
          2500.41,
          2505.73,
          2500.81,
          2531.75,
          2537.35,
          2417.85,
          2502.62,
          2459.87,
          2503.59,
          2565.03,
          2739.19,
          2655.37,
          2531.98,
          2414.83,
          2519.68,
          2547.43,
          2447.89,
          2478.55,
          2545.34,
          2560.99,
          2467.07,
          2453.82,
          2537.9,
          2544.52,
          2526.82,
          2439.13,
          2459.62,
          2436.17,
          2523.08,
          2474.05,
          2433.96,
          2607.75,
          2479.17,
          2395.85,
          2437.69,
          2583.78,
          2485.57,
          2523.21,
          2418.83,
          2502.05,
          2307.24,
          2810.12,
          2496.73,
          2512.49,
          2481.43,
          2495.35,
          2518.21,
          2468.33,
          2534.74,
          2416.73,
          2460.08,
          2690.99,
          2502.96,
          2481.09,
          2634.3,
          2714.3,
          2531.34,
          2432.85,
          2477.86,
          2567.29,
          2490.86,
          2497.58,
          2576.84,
          2473.27,
          2581.07,
          2587.6,
          2364.73,
          2374.5,
          2539.37,
          2394.58,
          2406.22,
          2515.3,
          2581.93,
          2537.4,
          2522.16,
          2494.55,
          2560.67,
          2557.94,
          2359.01,
          2525.33,
          2492.14,
          2491.19,
          2524.44,
          2456.17,
          2468.41,
          2546.75,
          2517.09,
          2474.32,
          2447.29,
          2581.18,
          2469.6,
          2529.16,
          2493.32,
          2508.56,
          2465.07,
          2335.06,
          2576.94,
          2320.05,
          2486.59,
          2521.23,
          2505.4,
          2501.93,
          2514.66,
          2480.64,
          2504.38,
          2543.11,
          2497.03,
          2455.14,
          2485,
          2511.09,
          2509.65,
          2662.19,
          2391.71,
          2480.9,
          2553.6,
          2487.16,
          2436.12,
          2521.24,
          2401.53,
          2559.12,
          2553.04,
          2496.56,
          2538.75,
          2706.54,
          2550.51,
          2511.14,
          2632.88,
          2279.48,
          2384.66,
          2551.84,
          2559.07,
          2539.78,
          2540.95,
          2464.39,
          2506.27,
          2332.39,
          2526.22,
          2631.47,
          2491.55,
          2466.36,
          2441.61,
          2162.87,
          2521.84,
          2480.54,
          2548.95,
          2439.31,
          2463.11,
          2474.95,
          2502.62,
          2287.9,
          2470.14,
          2472.13,
          2489.91,
          2257.81,
          2378.95,
          null,
          2444.55,
          2478.99,
          2604.26,
          2490.25,
          2458.15,
          2494.37,
          2444.09,
          2344.91,
          2483.06,
          2467.49,
          2491.6,
          2593.63,
          2470.81,
          2616.63,
          2509.8,
          2483.74,
          2549.73,
          2402.57,
          2463.51,
          2382.03,
          2513.68,
          2570.13,
          2523.55,
          2549.89,
          2349.48,
          2498.28,
          2308.6,
          2494.25,
          2460.94,
          2483.97,
          2570.42,
          2464.8,
          2377.27,
          2561.1,
          2581.67,
          2610.78,
          2503.32,
          2443.68,
          2291.92,
          2587.27,
          2554.29,
          2575.68,
          2337.96,
          2575.71,
          2734.33,
          2408.46,
          2488.5,
          2513.05,
          2573.74,
          2374.64,
          2522.9,
          2537.88,
          2539.73,
          2629.06,
          2533.49,
          2693.16,
          2535.19,
          2509.19,
          2786.97,
          2672.94,
          2459.56,
          2457.92,
          2509.24,
          2467.11,
          2533.75,
          2505.03,
          2356.94,
          2524.25,
          2611.21,
          2486.48,
          2487.46,
          null,
          2436.77,
          2483.52,
          2417.7,
          2312.14,
          2414.48,
          2477.46,
          2453.54,
          2540.19,
          2515.55,
          2520.85,
          2529.42,
          2461.89,
          2575.71,
          2450.48,
          2512.51,
          2421.45,
          2442.26,
          2526.22,
          2413.92,
          2286.25,
          2584.15,
          2393.78,
          2499.72,
          2559.27,
          2490.06,
          2431.54,
          2526.29,
          2273.46,
          2496.08,
          2405.53,
          2475.67,
          2484.62,
          2551.17,
          2412.41,
          2273.8,
          2453.47,
          2531.63,
          2567.68,
          2512.99,
          2536.56,
          2439.82,
          2453.91,
          2478.62,
          2709.45,
          2379.96,
          2569.58,
          2517.54,
          2517.34,
          2391.47,
          2408.4,
          2479.69,
          2503.69,
          2495.4,
          2226.99,
          2450.05,
          2590.8,
          2421.45,
          2270.68,
          2401.8,
          2547.84,
          2333.96,
          2460.91,
          2546.27,
          2516.11,
          2574.32,
          2456.65,
          2510.08,
          2475.5,
          2605.26,
          2478.88,
          2502.34,
          2479.93,
          2512.14,
          2288.05,
          2462.82,
          2523.6,
          2513.28,
          2560.91,
          2436.01,
          2305.52,
          2375.55,
          2570.93,
          2311.42,
          2555.49,
          2474.41,
          2578.76,
          2434,
          2566.22,
          2488.76,
          2512.97,
          2491.13,
          2371.45,
          2478.97,
          2735.65,
          2310.29,
          2533.52,
          2441.22,
          2318.95,
          2587.3,
          2490.54,
          2490.92,
          2501.63,
          2518.96,
          2502.06,
          2364.31,
          2419.83,
          2514.3,
          2488.49,
          2501.88,
          2536.43,
          2467.94,
          2577.27,
          2532.88,
          2434.32,
          2535.82,
          2539.46,
          2675.58,
          2460.11,
          2436.69,
          2281.3,
          2297.3,
          2405.56,
          2541.21,
          2364.78,
          2457.08,
          2396.4,
          2592.29,
          2439,
          2506.39,
          2605.48,
          2417.04,
          2526.73,
          2489.47,
          2496.54,
          2467.8,
          2370.5,
          2500.27,
          2514.95,
          2644.32,
          2354.51,
          2656.84,
          2601.98,
          2653.23,
          2505.83,
          2523.71,
          2516.11,
          2446.96,
          2406.58,
          2481.04,
          2520.91,
          2474.97,
          2534.62,
          2460.19,
          2490.68,
          2611.98,
          2501.03,
          2705.16,
          2378.77,
          2481.59,
          2362.09,
          2673.41,
          2556.22,
          2473.49,
          2636.69,
          2465.16,
          2531.25,
          2504.5,
          2570.13,
          2412.53,
          2187.67,
          2566.94,
          2500.59,
          2459.21,
          2558.81,
          2493.12,
          2377.89,
          2340.05,
          2425.16,
          2441.12,
          2521.76,
          2459.39,
          2485.5,
          2446.92,
          2406.4,
          2550.52,
          2391.09,
          2487.45,
          2461.28,
          2484.78,
          2441.16,
          2473.34,
          2536.48,
          2480.51,
          2471.01,
          2614.99,
          2619.88,
          2474.37,
          2550.52,
          2445.54,
          2534.91,
          2349.27,
          2600.07,
          2561.99,
          2606,
          2527.25,
          2506.32,
          2693.2,
          2662.7,
          2526.16,
          2598.02,
          2523.36,
          2480.48,
          2492.81,
          2516.33,
          2384.19,
          2473.54,
          2533.76,
          2575.39,
          2502.25,
          2720.38,
          2506.19,
          2505.35,
          2491.9,
          2508.22,
          2547.83,
          2186.06,
          2158.75,
          2511.92,
          2505.17,
          2357.99,
          2475.18,
          2538.05,
          2569.67,
          2626.13,
          2651.37,
          2480.42,
          2487.08,
          2442.47,
          2560.69,
          2503.86,
          2436.39,
          2695.57,
          2506.42,
          2563.58,
          2564.91,
          2568.35,
          2585.06,
          2462.64,
          2456.56,
          2370.72,
          2436.85,
          2413.65,
          2548.34,
          2545.77,
          2449.26,
          2471.62,
          2590.95,
          2436.38,
          2518.44,
          2559.32,
          2321.45,
          2538.43,
          2484.55,
          2403.47,
          2571.21,
          2458.12,
          2496.55,
          2508.1,
          2515.97,
          2576.19,
          2607.33,
          2560.92,
          2425.46,
          2532.81,
          2573.36,
          2493.85,
          2497.09,
          2666.04,
          2497.49,
          2497.56,
          2501.48,
          2440.82,
          2449.17,
          2481.2,
          2527.77,
          2484.78,
          2574.32,
          2568.93,
          2323.34,
          2505.38,
          2355.11,
          2468.91,
          2513.26,
          2547.13,
          2508.86,
          2573.59,
          2508.09,
          2369.95,
          2449.16,
          2574.48,
          2499.72,
          2436.65,
          2542.34,
          2477.72,
          2698.14,
          2509.22,
          null,
          2573.09,
          2480.11,
          2541.13,
          2564.29,
          2435.99,
          2690.55,
          2641.11,
          2498.91,
          2574.53,
          2329.66,
          2573.21,
          2468.65,
          2517.65,
          2487.66,
          2492.4,
          2485.99,
          2473.55,
          2420.25,
          2459.5,
          2584.75,
          2281.35,
          2565.47,
          2685.06,
          2449.25,
          2524.09,
          2221.1,
          2521.85,
          2691.96,
          2615.96,
          2455.32,
          2497.13,
          2541.12,
          2487.83,
          2610.62,
          2467.4,
          2373.03,
          2614.54,
          2363.52,
          2482.88,
          2449.48,
          2478.81,
          2447.28,
          2411.42,
          2504.66,
          2440.21,
          2591.83,
          2512.79,
          2473.39,
          2515.32,
          2513.79,
          2428.95,
          2433.99,
          2604.99,
          2546.78,
          2386.33,
          2428.25,
          2471.74,
          2419.18,
          2481.53,
          2545.48,
          2459.14,
          2505.7,
          2523.93,
          2393.56,
          2366.36,
          2514.76,
          2432.02,
          2669.09,
          2605.97,
          2397.92,
          2556.62,
          2461.41,
          2715.5,
          2442.71,
          2380.33,
          2446.06,
          2451.12,
          2521.41,
          2314.35,
          2379.31,
          2541.55,
          2292.4,
          2540.36,
          2286.45,
          2539.47,
          2440.05,
          2474.3,
          2443.39,
          2526.22,
          2472.68,
          2491.13,
          null,
          2559.7,
          2560.75,
          2482.61,
          2503.09,
          2506.6,
          2479.24,
          2485.81,
          2519.87,
          2476.75,
          2329.44,
          2476.95,
          2464.33,
          2459.22,
          2543.62,
          2445.17,
          2513.22,
          2522.32,
          2498.3,
          2432.18,
          2502.48,
          2516.95,
          2512.65,
          2608.11,
          2583.36,
          2508.03,
          2523.94,
          2510.76,
          2442.45,
          2353.21,
          2484.27,
          2361.5,
          2533.45,
          2636.81,
          2415.87,
          2437.82,
          2441.8,
          2483.44,
          2540.97,
          2539.59,
          2512.38,
          2448.07,
          2469.13,
          2531.05,
          2502.44,
          2540.35,
          2728.28,
          2505.62,
          2557.58,
          2590.45,
          2474.6,
          2423.57,
          2727.56,
          2525.29,
          2504.86,
          2477.47,
          2517.22,
          2542.64,
          2491.23,
          2530.67,
          2487.01,
          2455.05,
          2511.37,
          2504.44,
          2463.06,
          2583.6,
          2560.61,
          2368.34,
          2431.66,
          2529.08,
          2415.75,
          2452.28,
          2377.97,
          2523.65,
          2492.24,
          2525.16,
          2474.94,
          2582.08,
          2625.2,
          2517.25,
          2466.86,
          2570.5,
          2575.33,
          2504.94,
          2579.84,
          2432.09,
          2435.47,
          2470.21,
          2574.45,
          2488.5,
          2566.79,
          2501.91,
          2535.71,
          2448.37,
          2314.52,
          2512.61,
          2510.72,
          2535.07,
          2508.8,
          2308.45,
          2483.93,
          2618.25,
          2518.47,
          2453.53,
          2531.16,
          2519.26,
          2472.23,
          2294.01,
          2595.82,
          2403.21,
          2598.94,
          2846.44,
          2551.08,
          2470.95,
          2461.82,
          2502.89,
          2392,
          2478.51,
          2470.26,
          2565.53,
          2435.9,
          2544.1,
          2563.08,
          2484.44,
          2443.1,
          2504.01,
          2256.12,
          2462.06,
          2476.58,
          2506.43,
          2500.68,
          2419.83,
          2435.34,
          2537.66,
          2504.86,
          2360.04,
          2545.68,
          2619.6,
          2460.05,
          2504.21,
          2445.2,
          2431.35,
          2519.92,
          2544.64,
          2440.93,
          2528.74,
          2514.67,
          2596.63,
          2453.97,
          2468.56,
          2517.5,
          2414.29,
          2577.23,
          2489.15,
          2525,
          2254.99,
          2499.68,
          2420.32,
          2453.78,
          2372.79,
          2474.88,
          2471.97,
          2530.63,
          2528.5,
          2493.03,
          2424.13,
          2522.76,
          2499.75,
          2500.13,
          2522.41,
          2447.06,
          2404.13,
          2488.96,
          2441.68,
          2515.91,
          2453.75,
          2568.32,
          2532.66,
          2440.08,
          2533.04,
          2571.18,
          2515.63,
          2464.4,
          2532.45,
          2510.59,
          2535.14,
          2456.75,
          2664.52,
          2642.15,
          2448.82,
          2598.22,
          2405.62,
          2500.26,
          2518.5,
          2527.2,
          2439.59,
          2480.05,
          2524.6,
          2473.1,
          2545.53,
          2559.8,
          2286.09,
          2456.25,
          2526.19,
          2507.22,
          2417.34,
          2454.8,
          2412.76,
          2483.71,
          2387.23,
          2492.27,
          2437.21,
          2471.5,
          2400.4,
          2479.77,
          2536.68,
          2391.2,
          2593.09,
          2494.75,
          2506.56,
          2572.62,
          2572.78,
          2391.56,
          2526.44,
          2477.01,
          2387.42,
          2541.89,
          2465.11,
          2431.93,
          2461.58,
          2433.67,
          2484.9,
          2368.12,
          2430.6,
          2496.01,
          2531.81,
          2555.69,
          2521.25,
          2440.94,
          2467.5,
          2539.58,
          2470.28,
          2495.7,
          2475.5,
          2508.52,
          2451.82,
          2705,
          2540.07,
          2469.1,
          2442.49,
          2501,
          2516.47,
          2528.73,
          2538.74,
          2461.17,
          2438.56,
          2370.44,
          2620.96,
          2586.86,
          2526.85,
          2512.03,
          2447.43,
          2577.44,
          2456.68,
          2524.91,
          2426.86,
          2462.75,
          2469.59,
          2539.01,
          2403.24,
          2473.67,
          2457.64,
          2467.4,
          2508.88,
          2498.67,
          2481.52,
          2494.58,
          2445.41,
          2377.31,
          2614.51,
          2420.35,
          2415.79,
          2428.2,
          2498.77,
          2510.24,
          2395.39,
          2347.02,
          2522.16,
          2411.35,
          2517.42,
          2520.63,
          2524.57,
          2547.79,
          2528.21,
          2569.45,
          2351.94,
          2453.25,
          2444.87,
          2435.14,
          2533.92,
          2495.16,
          2481.56,
          2483.66,
          2570.44,
          2434.6,
          2476.8,
          2460.59,
          2423.38,
          2500.25,
          2509.62,
          2590.8,
          2497.76,
          2397.99,
          2449.84,
          2463.72,
          2353.23,
          2622.6,
          2494.57,
          2516.35,
          2553.9,
          2548.91,
          2405.53,
          2361.71,
          2557.37,
          2554.21,
          2488.15,
          2561.21,
          2584.79,
          2467.18,
          2430.03,
          2533.95,
          2500.9,
          2497.58,
          2428.85,
          2441.17,
          2448.38,
          2517.09,
          2570.46,
          2440.29,
          2465.42,
          2506,
          2674.54,
          2538.56,
          2551.27,
          2465.62,
          2505.27,
          2488.9,
          2481.64,
          2408.28,
          2422.48,
          2522.35,
          2446.47,
          2577.44,
          2515.83,
          2481.32,
          2409.49,
          2444.92,
          2398.66,
          2519.77,
          2621.33,
          2422,
          2596.71,
          2536.82,
          2558.28,
          2531.78,
          2579.88,
          2496.09,
          2541.27,
          2572.15,
          2569.69,
          2327.29,
          2501.13,
          2504.96,
          2490.26,
          2517.04,
          2493.13,
          2483.29,
          2485.64,
          2473.48,
          2573.39,
          2421.7,
          2538.44,
          null,
          2507.04,
          2481.37,
          2588.52,
          2553.54,
          2463.23,
          2524.62,
          2540.03,
          2316.01,
          2266.53,
          2438.58,
          2448.68,
          2491.31,
          2592.56,
          2458.09,
          2304.83,
          2489.76,
          2450.29,
          2509.54,
          2627.29,
          2443.66,
          2500.01,
          2545.83,
          2493.2,
          2563.53,
          2607.01,
          2571.06,
          2501.26,
          2578.76,
          2424.52,
          2533.39,
          2520.4,
          2475.59,
          2595.74,
          2496.49,
          2376.27,
          2450.49,
          2512.1,
          2577.58,
          2398.4,
          2562.2,
          2517.21,
          2432.83,
          2476.1,
          2630.42,
          2450.31,
          2447.22,
          2567.48,
          2532.4,
          2485.8,
          2427.2,
          2573.37,
          2452.15,
          2552.96,
          2605.97,
          2628.68,
          2555.27,
          2552.65,
          2431.12,
          2456.06,
          2518.89,
          2382.18,
          2495.58,
          2522.77,
          2512.14,
          2499.04,
          2438.11,
          2539.5,
          2528.73,
          2510.26,
          2435.85,
          2563.28,
          2574.38,
          2397.74,
          2449.84,
          2365.17,
          2412.64,
          2401.5,
          2558.88,
          2492.72,
          2462.09,
          2539.61,
          2452.1,
          2523.21,
          2502.42,
          2508.94,
          2595.7,
          2618.12,
          2585.92,
          2391.87,
          2464.45,
          2546.74,
          2418.41,
          2453.34,
          2503.52,
          2496.32,
          2479.17,
          2472.6,
          2631.92,
          2611.65,
          2490.63,
          2500.85,
          2441.12,
          2549.21,
          2603.92,
          2534.16,
          2257.95,
          2266,
          2474.9,
          2514.52,
          2485.73,
          2449.59,
          2567.33,
          2512.44,
          2491.07,
          2530.99,
          2491.01,
          2501.26,
          2462.85,
          2486.94,
          2501.91,
          2454.38,
          2587.37,
          2548.76,
          2572.85,
          2522.03,
          2473.65,
          2524.13,
          2446.38,
          2233.29,
          2629.96,
          2565.73,
          2439.42,
          2545.77,
          null,
          2521.93,
          2574.34,
          2553.64,
          null,
          2572.48,
          2427.36,
          2487.12,
          2555.41,
          2457.42,
          2502.09,
          2493.34,
          2544.85,
          2563.75,
          2489.86,
          2523.78,
          2413.39,
          2522.4,
          2547.2,
          2567.76,
          2571.41,
          2532.3,
          2506.21,
          2530.11,
          2512.77,
          2486.53,
          2446.49,
          2357.09,
          2501.54,
          2519.92,
          2514.38,
          2405.19,
          2537.68,
          2525.84,
          2459.56,
          2525.56,
          2598.77,
          2510.19,
          2487.1,
          2434.42,
          2673.38,
          2424.11,
          2384.04,
          2467.44,
          2541.55,
          2459.87,
          2507.57,
          2485.82,
          2548.79,
          2500.38,
          2412.91,
          2477.25,
          2396.64,
          2423.98,
          2579.49,
          2484.43,
          2523.94,
          2582.12,
          2517.11,
          2524.88,
          2465.32,
          2488.94,
          2464.86,
          2497.33,
          2525.39,
          2538.76,
          2576.98,
          2429.47,
          2486.23,
          2504.01,
          2520.88,
          2485.47,
          2493.56,
          2583.05,
          2551.06,
          2450.89,
          2563.19,
          2414.63,
          2503.18,
          2415.79,
          2537.39,
          2449.21,
          2503.48,
          2563.64,
          2473.14,
          2588.74,
          2440.56,
          2462.34,
          2532.78,
          2414.43,
          2419.55,
          2453.45,
          2568.55,
          2535.93,
          2527.32,
          2839.46,
          2474.55,
          2459.02,
          2545.4,
          2512.63,
          2472.92,
          2438.17,
          2535.43,
          2516.34,
          2577.39,
          2555.88,
          2410.53,
          2587.86,
          2461.08,
          2565.93,
          2369.84,
          2425.3,
          2541.13,
          2506.62,
          2408.85,
          2566.3,
          2744.54,
          2529.79,
          2551.78,
          2496.52,
          2555.01,
          2472.74,
          2532.34,
          2556.35,
          2406.11,
          2467.73,
          2474.97,
          2534.49,
          2442.51,
          2449.85,
          2540.17,
          2446.55,
          2584.52,
          2529.9,
          2584.24,
          2483.2,
          2494.33,
          2386.26,
          2517.44,
          2527.68,
          2451.85,
          2534.68,
          2538.13,
          2580.44,
          2465.51,
          2559.42,
          2470.6,
          2493.72,
          2538.52,
          2499.46,
          2806.91,
          2424.95,
          2508.03,
          2525.74,
          2493.03,
          2457.48,
          2581.64,
          2594.52,
          2494.43,
          2580.25,
          2480.71,
          2494.82,
          2456.82,
          2593.67,
          2583.01,
          2499.15,
          2465.71,
          2514.44,
          2541.6,
          2484.71,
          2538.38,
          2556.95,
          2504.2,
          2442.6,
          2424.39,
          2560.38,
          2477.75,
          2427.14,
          2475.9,
          2550.88,
          2573.94,
          2521.49,
          2515.51,
          2583.56,
          2493.11,
          2430.7,
          2498.09,
          2516.64,
          2454.33,
          2460.97,
          2634.43,
          2489.07,
          2403.89,
          2420.03,
          2516.06,
          2528.67,
          2384.1,
          2441.77,
          2419.25,
          2599.93,
          2574.7,
          2493.21,
          2517.35,
          2564.93,
          2434.79,
          2470.5,
          2387.73,
          2265.6,
          2516.4,
          2448.34,
          2500.05,
          2458.9,
          2380.39,
          2259.49,
          2481.72,
          2585.72,
          2815.31,
          2524.95,
          2557.2,
          2507.02,
          2477.13,
          2458.88,
          2479.73,
          2489.53,
          2521.87,
          2428.64,
          2534.66,
          2373.31,
          2496.67,
          2553.24,
          2597,
          2445.56,
          2574.43,
          2510.09,
          2423.75,
          2504.48,
          2393.97,
          2507.66,
          2497.62,
          2531.02,
          2504.81,
          2536.87,
          2527.7,
          2451.5,
          2509.14,
          2507.74,
          2590.62,
          2449.49,
          2530.97,
          2444.69,
          2451.53,
          2547.65,
          2493.72,
          2383.76,
          2424.39,
          2349.85,
          2538.41,
          2472.41,
          2477.37,
          2417.92,
          2515.15,
          2426.76,
          2482.88,
          2590.88,
          2542.56,
          2548.46,
          2507.01,
          2556.64,
          2432.38,
          2512.75,
          2494.39,
          2480.56,
          2538.37,
          2444.67,
          2499.35,
          2549.85,
          2498.02,
          2459.97,
          2528.59,
          2543.1,
          2505.29,
          2451.31,
          2404.67,
          2546.24,
          2506,
          2483.77,
          2493.47,
          2529.82,
          2515.46,
          2512.02,
          2354.5,
          2485.99,
          2588.36,
          2501.05,
          2580.67,
          2608.21,
          2447.26,
          2416.09,
          2430.37,
          2575.41,
          2276.93,
          2585.48,
          2465.43,
          2481.99,
          2531.5,
          2538.33,
          2389.91,
          2611.5,
          2530.96,
          2401.59,
          2499.72,
          2452.52,
          2354.24,
          2437.76,
          2563.95,
          2417.43,
          2558.56,
          2532.71,
          2465.54,
          2525.2,
          2367.16,
          2560.99,
          2555.92,
          2499.79,
          2487.91,
          2447.97,
          2537.73,
          2490.6,
          2488.18,
          2542.36,
          2464.98,
          2498,
          2406.47,
          2489.06,
          2521.98,
          2500.19,
          2528.55,
          2515.03,
          2503.3,
          2534.87,
          2466.84,
          2456.13,
          2549.42,
          2326.59,
          2464.36,
          2522.55,
          2379.78,
          2532.01,
          2450.76
         ],
         "xaxis": "x",
         "yaxis": "y"
        }
       ],
       "layout": {
        "autosize": true,
        "barmode": "relative",
        "legend": {
         "tracegroupgap": 0
        },
        "margin": {
         "t": 60
        },
        "template": {
         "data": {
          "bar": [
           {
            "error_x": {
             "color": "#2a3f5f"
            },
            "error_y": {
             "color": "#2a3f5f"
            },
            "marker": {
             "line": {
              "color": "#E5ECF6",
              "width": 0.5
             },
             "pattern": {
              "fillmode": "overlay",
              "size": 10,
              "solidity": 0.2
             }
            },
            "type": "bar"
           }
          ],
          "barpolar": [
           {
            "marker": {
             "line": {
              "color": "#E5ECF6",
              "width": 0.5
             },
             "pattern": {
              "fillmode": "overlay",
              "size": 10,
              "solidity": 0.2
             }
            },
            "type": "barpolar"
           }
          ],
          "carpet": [
           {
            "aaxis": {
             "endlinecolor": "#2a3f5f",
             "gridcolor": "white",
             "linecolor": "white",
             "minorgridcolor": "white",
             "startlinecolor": "#2a3f5f"
            },
            "baxis": {
             "endlinecolor": "#2a3f5f",
             "gridcolor": "white",
             "linecolor": "white",
             "minorgridcolor": "white",
             "startlinecolor": "#2a3f5f"
            },
            "type": "carpet"
           }
          ],
          "choropleth": [
           {
            "colorbar": {
             "outlinewidth": 0,
             "ticks": ""
            },
            "type": "choropleth"
           }
          ],
          "contour": [
           {
            "colorbar": {
             "outlinewidth": 0,
             "ticks": ""
            },
            "colorscale": [
             [
              0,
              "#0d0887"
             ],
             [
              0.1111111111111111,
              "#46039f"
             ],
             [
              0.2222222222222222,
              "#7201a8"
             ],
             [
              0.3333333333333333,
              "#9c179e"
             ],
             [
              0.4444444444444444,
              "#bd3786"
             ],
             [
              0.5555555555555556,
              "#d8576b"
             ],
             [
              0.6666666666666666,
              "#ed7953"
             ],
             [
              0.7777777777777778,
              "#fb9f3a"
             ],
             [
              0.8888888888888888,
              "#fdca26"
             ],
             [
              1,
              "#f0f921"
             ]
            ],
            "type": "contour"
           }
          ],
          "contourcarpet": [
           {
            "colorbar": {
             "outlinewidth": 0,
             "ticks": ""
            },
            "type": "contourcarpet"
           }
          ],
          "heatmap": [
           {
            "colorbar": {
             "outlinewidth": 0,
             "ticks": ""
            },
            "colorscale": [
             [
              0,
              "#0d0887"
             ],
             [
              0.1111111111111111,
              "#46039f"
             ],
             [
              0.2222222222222222,
              "#7201a8"
             ],
             [
              0.3333333333333333,
              "#9c179e"
             ],
             [
              0.4444444444444444,
              "#bd3786"
             ],
             [
              0.5555555555555556,
              "#d8576b"
             ],
             [
              0.6666666666666666,
              "#ed7953"
             ],
             [
              0.7777777777777778,
              "#fb9f3a"
             ],
             [
              0.8888888888888888,
              "#fdca26"
             ],
             [
              1,
              "#f0f921"
             ]
            ],
            "type": "heatmap"
           }
          ],
          "heatmapgl": [
           {
            "colorbar": {
             "outlinewidth": 0,
             "ticks": ""
            },
            "colorscale": [
             [
              0,
              "#0d0887"
             ],
             [
              0.1111111111111111,
              "#46039f"
             ],
             [
              0.2222222222222222,
              "#7201a8"
             ],
             [
              0.3333333333333333,
              "#9c179e"
             ],
             [
              0.4444444444444444,
              "#bd3786"
             ],
             [
              0.5555555555555556,
              "#d8576b"
             ],
             [
              0.6666666666666666,
              "#ed7953"
             ],
             [
              0.7777777777777778,
              "#fb9f3a"
             ],
             [
              0.8888888888888888,
              "#fdca26"
             ],
             [
              1,
              "#f0f921"
             ]
            ],
            "type": "heatmapgl"
           }
          ],
          "histogram": [
           {
            "marker": {
             "pattern": {
              "fillmode": "overlay",
              "size": 10,
              "solidity": 0.2
             }
            },
            "type": "histogram"
           }
          ],
          "histogram2d": [
           {
            "colorbar": {
             "outlinewidth": 0,
             "ticks": ""
            },
            "colorscale": [
             [
              0,
              "#0d0887"
             ],
             [
              0.1111111111111111,
              "#46039f"
             ],
             [
              0.2222222222222222,
              "#7201a8"
             ],
             [
              0.3333333333333333,
              "#9c179e"
             ],
             [
              0.4444444444444444,
              "#bd3786"
             ],
             [
              0.5555555555555556,
              "#d8576b"
             ],
             [
              0.6666666666666666,
              "#ed7953"
             ],
             [
              0.7777777777777778,
              "#fb9f3a"
             ],
             [
              0.8888888888888888,
              "#fdca26"
             ],
             [
              1,
              "#f0f921"
             ]
            ],
            "type": "histogram2d"
           }
          ],
          "histogram2dcontour": [
           {
            "colorbar": {
             "outlinewidth": 0,
             "ticks": ""
            },
            "colorscale": [
             [
              0,
              "#0d0887"
             ],
             [
              0.1111111111111111,
              "#46039f"
             ],
             [
              0.2222222222222222,
              "#7201a8"
             ],
             [
              0.3333333333333333,
              "#9c179e"
             ],
             [
              0.4444444444444444,
              "#bd3786"
             ],
             [
              0.5555555555555556,
              "#d8576b"
             ],
             [
              0.6666666666666666,
              "#ed7953"
             ],
             [
              0.7777777777777778,
              "#fb9f3a"
             ],
             [
              0.8888888888888888,
              "#fdca26"
             ],
             [
              1,
              "#f0f921"
             ]
            ],
            "type": "histogram2dcontour"
           }
          ],
          "mesh3d": [
           {
            "colorbar": {
             "outlinewidth": 0,
             "ticks": ""
            },
            "type": "mesh3d"
           }
          ],
          "parcoords": [
           {
            "line": {
             "colorbar": {
              "outlinewidth": 0,
              "ticks": ""
             }
            },
            "type": "parcoords"
           }
          ],
          "pie": [
           {
            "automargin": true,
            "type": "pie"
           }
          ],
          "scatter": [
           {
            "marker": {
             "colorbar": {
              "outlinewidth": 0,
              "ticks": ""
             }
            },
            "type": "scatter"
           }
          ],
          "scatter3d": [
           {
            "line": {
             "colorbar": {
              "outlinewidth": 0,
              "ticks": ""
             }
            },
            "marker": {
             "colorbar": {
              "outlinewidth": 0,
              "ticks": ""
             }
            },
            "type": "scatter3d"
           }
          ],
          "scattercarpet": [
           {
            "marker": {
             "colorbar": {
              "outlinewidth": 0,
              "ticks": ""
             }
            },
            "type": "scattercarpet"
           }
          ],
          "scattergeo": [
           {
            "marker": {
             "colorbar": {
              "outlinewidth": 0,
              "ticks": ""
             }
            },
            "type": "scattergeo"
           }
          ],
          "scattergl": [
           {
            "marker": {
             "colorbar": {
              "outlinewidth": 0,
              "ticks": ""
             }
            },
            "type": "scattergl"
           }
          ],
          "scattermapbox": [
           {
            "marker": {
             "colorbar": {
              "outlinewidth": 0,
              "ticks": ""
             }
            },
            "type": "scattermapbox"
           }
          ],
          "scatterpolar": [
           {
            "marker": {
             "colorbar": {
              "outlinewidth": 0,
              "ticks": ""
             }
            },
            "type": "scatterpolar"
           }
          ],
          "scatterpolargl": [
           {
            "marker": {
             "colorbar": {
              "outlinewidth": 0,
              "ticks": ""
             }
            },
            "type": "scatterpolargl"
           }
          ],
          "scatterternary": [
           {
            "marker": {
             "colorbar": {
              "outlinewidth": 0,
              "ticks": ""
             }
            },
            "type": "scatterternary"
           }
          ],
          "surface": [
           {
            "colorbar": {
             "outlinewidth": 0,
             "ticks": ""
            },
            "colorscale": [
             [
              0,
              "#0d0887"
             ],
             [
              0.1111111111111111,
              "#46039f"
             ],
             [
              0.2222222222222222,
              "#7201a8"
             ],
             [
              0.3333333333333333,
              "#9c179e"
             ],
             [
              0.4444444444444444,
              "#bd3786"
             ],
             [
              0.5555555555555556,
              "#d8576b"
             ],
             [
              0.6666666666666666,
              "#ed7953"
             ],
             [
              0.7777777777777778,
              "#fb9f3a"
             ],
             [
              0.8888888888888888,
              "#fdca26"
             ],
             [
              1,
              "#f0f921"
             ]
            ],
            "type": "surface"
           }
          ],
          "table": [
           {
            "cells": {
             "fill": {
              "color": "#EBF0F8"
             },
             "line": {
              "color": "white"
             }
            },
            "header": {
             "fill": {
              "color": "#C8D4E3"
             },
             "line": {
              "color": "white"
             }
            },
            "type": "table"
           }
          ]
         },
         "layout": {
          "annotationdefaults": {
           "arrowcolor": "#2a3f5f",
           "arrowhead": 0,
           "arrowwidth": 1
          },
          "autotypenumbers": "strict",
          "coloraxis": {
           "colorbar": {
            "outlinewidth": 0,
            "ticks": ""
           }
          },
          "colorscale": {
           "diverging": [
            [
             0,
             "#8e0152"
            ],
            [
             0.1,
             "#c51b7d"
            ],
            [
             0.2,
             "#de77ae"
            ],
            [
             0.3,
             "#f1b6da"
            ],
            [
             0.4,
             "#fde0ef"
            ],
            [
             0.5,
             "#f7f7f7"
            ],
            [
             0.6,
             "#e6f5d0"
            ],
            [
             0.7,
             "#b8e186"
            ],
            [
             0.8,
             "#7fbc41"
            ],
            [
             0.9,
             "#4d9221"
            ],
            [
             1,
             "#276419"
            ]
           ],
           "sequential": [
            [
             0,
             "#0d0887"
            ],
            [
             0.1111111111111111,
             "#46039f"
            ],
            [
             0.2222222222222222,
             "#7201a8"
            ],
            [
             0.3333333333333333,
             "#9c179e"
            ],
            [
             0.4444444444444444,
             "#bd3786"
            ],
            [
             0.5555555555555556,
             "#d8576b"
            ],
            [
             0.6666666666666666,
             "#ed7953"
            ],
            [
             0.7777777777777778,
             "#fb9f3a"
            ],
            [
             0.8888888888888888,
             "#fdca26"
            ],
            [
             1,
             "#f0f921"
            ]
           ],
           "sequentialminus": [
            [
             0,
             "#0d0887"
            ],
            [
             0.1111111111111111,
             "#46039f"
            ],
            [
             0.2222222222222222,
             "#7201a8"
            ],
            [
             0.3333333333333333,
             "#9c179e"
            ],
            [
             0.4444444444444444,
             "#bd3786"
            ],
            [
             0.5555555555555556,
             "#d8576b"
            ],
            [
             0.6666666666666666,
             "#ed7953"
            ],
            [
             0.7777777777777778,
             "#fb9f3a"
            ],
            [
             0.8888888888888888,
             "#fdca26"
            ],
            [
             1,
             "#f0f921"
            ]
           ]
          },
          "colorway": [
           "#636efa",
           "#EF553B",
           "#00cc96",
           "#ab63fa",
           "#FFA15A",
           "#19d3f3",
           "#FF6692",
           "#B6E880",
           "#FF97FF",
           "#FECB52"
          ],
          "font": {
           "color": "#2a3f5f"
          },
          "geo": {
           "bgcolor": "white",
           "lakecolor": "white",
           "landcolor": "#E5ECF6",
           "showlakes": true,
           "showland": true,
           "subunitcolor": "white"
          },
          "hoverlabel": {
           "align": "left"
          },
          "hovermode": "closest",
          "mapbox": {
           "style": "light"
          },
          "paper_bgcolor": "white",
          "plot_bgcolor": "#E5ECF6",
          "polar": {
           "angularaxis": {
            "gridcolor": "white",
            "linecolor": "white",
            "ticks": ""
           },
           "bgcolor": "#E5ECF6",
           "radialaxis": {
            "gridcolor": "white",
            "linecolor": "white",
            "ticks": ""
           }
          },
          "scene": {
           "xaxis": {
            "backgroundcolor": "#E5ECF6",
            "gridcolor": "white",
            "gridwidth": 2,
            "linecolor": "white",
            "showbackground": true,
            "ticks": "",
            "zerolinecolor": "white"
           },
           "yaxis": {
            "backgroundcolor": "#E5ECF6",
            "gridcolor": "white",
            "gridwidth": 2,
            "linecolor": "white",
            "showbackground": true,
            "ticks": "",
            "zerolinecolor": "white"
           },
           "zaxis": {
            "backgroundcolor": "#E5ECF6",
            "gridcolor": "white",
            "gridwidth": 2,
            "linecolor": "white",
            "showbackground": true,
            "ticks": "",
            "zerolinecolor": "white"
           }
          },
          "shapedefaults": {
           "line": {
            "color": "#2a3f5f"
           }
          },
          "ternary": {
           "aaxis": {
            "gridcolor": "white",
            "linecolor": "white",
            "ticks": ""
           },
           "baxis": {
            "gridcolor": "white",
            "linecolor": "white",
            "ticks": ""
           },
           "bgcolor": "#E5ECF6",
           "caxis": {
            "gridcolor": "white",
            "linecolor": "white",
            "ticks": ""
           }
          },
          "title": {
           "x": 0.05
          },
          "xaxis": {
           "automargin": true,
           "gridcolor": "white",
           "linecolor": "white",
           "ticks": "",
           "title": {
            "standoff": 15
           },
           "zerolinecolor": "white",
           "zerolinewidth": 2
          },
          "yaxis": {
           "automargin": true,
           "gridcolor": "white",
           "linecolor": "white",
           "ticks": "",
           "title": {
            "standoff": 15
           },
           "zerolinecolor": "white",
           "zerolinewidth": 2
          }
         }
        },
        "xaxis": {
         "anchor": "y",
         "autorange": true,
         "domain": [
          0,
          1
         ],
         "range": [
          2150,
          2850
         ],
         "title": {
          "text": "1"
         },
         "type": "linear"
        },
        "yaxis": {
         "anchor": "x",
         "autorange": true,
         "domain": [
          0,
          1
         ],
         "range": [
          0,
          122.10526315789474
         ],
         "title": {
          "text": "count"
         }
        }
       }
      },
      "image/png": "[encoded data removed]",
      "text/html": [
       "<div>                            <div id=\"e28f5376-7da3-4b9c-9e99-944380e8a9bb\" class=\"plotly-graph-div\" style=\"height:525px; width:100%;\"></div>            <script type=\"text/javascript\">                require([\"plotly\"], function(Plotly) {                    window.PLOTLYENV=window.PLOTLYENV || {};                                    if (document.getElementById(\"e28f5376-7da3-4b9c-9e99-944380e8a9bb\")) {                    Plotly.newPlot(                        \"e28f5376-7da3-4b9c-9e99-944380e8a9bb\",                        [{\"alignmentgroup\":\"True\",\"bingroup\":\"x\",\"hovertemplate\":\"1=%{x}<br>count=%{y}<extra></extra>\",\"legendgroup\":\"\",\"marker\":{\"color\":\"#636efa\",\"pattern\":{\"shape\":\"\"}},\"name\":\"\",\"offsetgroup\":\"\",\"orientation\":\"v\",\"showlegend\":false,\"x\":[2564.0,2465.14,2559.94,2479.9,2502.87,2432.84,2430.12,2690.15,2600.47,2428.37,2548.21,2479.4,2507.4,2529.27,2629.48,2546.26,2560.87,2517.79,2501.16,2519.05,2528.81,2481.85,2497.45,2514.54,2632.8,2446.56,2456.33,2607.63,2431.57,2529.11,2489.7,2492.36,2524.18,2566.35,2457.64,2477.35,2445.44,2302.46,2542.24,2530.67,2545.71,2517.18,2503.46,2748.67,2490.71,2446.25,2475.53,2788.4,2345.95,2533.91,2446.74,2520.21,2466.78,2484.31,2398.44,2809.79,2569.81,2586.05,2388.74,2481.28,2694.31,2541.92,2483.66,2492.8,2628.76,2461.38,2544.52,2508.28,2702.64,2565.8,2315.76,2375.49,2623.1,2424.37,2450.25,2492.29,2500.41,2505.73,2500.81,2531.75,2537.35,2417.85,2502.62,2459.87,2503.59,2565.03,2739.19,2655.37,2531.98,2414.83,2519.68,2547.43,2447.89,2478.55,2545.34,2560.99,2467.07,2453.82,2537.9,2544.52,2526.82,2439.13,2459.62,2436.17,2523.08,2474.05,2433.96,2607.75,2479.17,2395.85,2437.69,2583.78,2485.57,2523.21,2418.83,2502.05,2307.24,2810.12,2496.73,2512.49,2481.43,2495.35,2518.21,2468.33,2534.74,2416.73,2460.08,2690.99,2502.96,2481.09,2634.3,2714.3,2531.34,2432.85,2477.86,2567.29,2490.86,2497.58,2576.84,2473.27,2581.07,2587.6,2364.73,2374.5,2539.37,2394.58,2406.22,2515.3,2581.93,2537.4,2522.16,2494.55,2560.67,2557.94,2359.01,2525.33,2492.14,2491.19,2524.44,2456.17,2468.41,2546.75,2517.09,2474.32,2447.29,2581.18,2469.6,2529.16,2493.32,2508.56,2465.07,2335.06,2576.94,2320.05,2486.59,2521.23,2505.4,2501.93,2514.66,2480.64,2504.38,2543.11,2497.03,2455.14,2485.0,2511.09,2509.65,2662.19,2391.71,2480.9,2553.6,2487.16,2436.12,2521.24,2401.53,2559.12,2553.04,2496.56,2538.75,2706.54,2550.51,2511.14,2632.88,2279.48,2384.66,2551.84,2559.07,2539.78,2540.95,2464.39,2506.27,2332.39,2526.22,2631.47,2491.55,2466.36,2441.61,2162.87,2521.84,2480.54,2548.95,2439.31,2463.11,2474.95,2502.62,2287.9,2470.14,2472.13,2489.91,2257.81,2378.95,null,2444.55,2478.99,2604.26,2490.25,2458.15,2494.37,2444.09,2344.91,2483.06,2467.49,2491.6,2593.63,2470.81,2616.63,2509.8,2483.74,2549.73,2402.57,2463.51,2382.03,2513.68,2570.13,2523.55,2549.89,2349.48,2498.28,2308.6,2494.25,2460.94,2483.97,2570.42,2464.8,2377.27,2561.1,2581.67,2610.78,2503.32,2443.68,2291.92,2587.27,2554.29,2575.68,2337.96,2575.71,2734.33,2408.46,2488.5,2513.05,2573.74,2374.64,2522.9,2537.88,2539.73,2629.06,2533.49,2693.16,2535.19,2509.19,2786.97,2672.94,2459.56,2457.92,2509.24,2467.11,2533.75,2505.03,2356.94,2524.25,2611.21,2486.48,2487.46,null,2436.77,2483.52,2417.7,2312.14,2414.48,2477.46,2453.54,2540.19,2515.55,2520.85,2529.42,2461.89,2575.71,2450.48,2512.51,2421.45,2442.26,2526.22,2413.92,2286.25,2584.15,2393.78,2499.72,2559.27,2490.06,2431.54,2526.29,2273.46,2496.08,2405.53,2475.67,2484.62,2551.17,2412.41,2273.8,2453.47,2531.63,2567.68,2512.99,2536.56,2439.82,2453.91,2478.62,2709.45,2379.96,2569.58,2517.54,2517.34,2391.47,2408.4,2479.69,2503.69,2495.4,2226.99,2450.05,2590.8,2421.45,2270.68,2401.8,2547.84,2333.96,2460.91,2546.27,2516.11,2574.32,2456.65,2510.08,2475.5,2605.26,2478.88,2502.34,2479.93,2512.14,2288.05,2462.82,2523.6,2513.28,2560.91,2436.01,2305.52,2375.55,2570.93,2311.42,2555.49,2474.41,2578.76,2434.0,2566.22,2488.76,2512.97,2491.13,2371.45,2478.97,2735.65,2310.29,2533.52,2441.22,2318.95,2587.3,2490.54,2490.92,2501.63,2518.96,2502.06,2364.31,2419.83,2514.3,2488.49,2501.88,2536.43,2467.94,2577.27,2532.88,2434.32,2535.82,2539.46,2675.58,2460.11,2436.69,2281.3,2297.3,2405.56,2541.21,2364.78,2457.08,2396.4,2592.29,2439.0,2506.39,2605.48,2417.04,2526.73,2489.47,2496.54,2467.8,2370.5,2500.27,2514.95,2644.32,2354.51,2656.84,2601.98,2653.23,2505.83,2523.71,2516.11,2446.96,2406.58,2481.04,2520.91,2474.97,2534.62,2460.19,2490.68,2611.98,2501.03,2705.16,2378.77,2481.59,2362.09,2673.41,2556.22,2473.49,2636.69,2465.16,2531.25,2504.5,2570.13,2412.53,2187.67,2566.94,2500.59,2459.21,2558.81,2493.12,2377.89,2340.05,2425.16,2441.12,2521.76,2459.39,2485.5,2446.92,2406.4,2550.52,2391.09,2487.45,2461.28,2484.78,2441.16,2473.34,2536.48,2480.51,2471.01,2614.99,2619.88,2474.37,2550.52,2445.54,2534.91,2349.27,2600.07,2561.99,2606.0,2527.25,2506.32,2693.2,2662.7,2526.16,2598.02,2523.36,2480.48,2492.81,2516.33,2384.19,2473.54,2533.76,2575.39,2502.25,2720.38,2506.19,2505.35,2491.9,2508.22,2547.83,2186.06,2158.75,2511.92,2505.17,2357.99,2475.18,2538.05,2569.67,2626.13,2651.37,2480.42,2487.08,2442.47,2560.69,2503.86,2436.39,2695.57,2506.42,2563.58,2564.91,2568.35,2585.06,2462.64,2456.56,2370.72,2436.85,2413.65,2548.34,2545.77,2449.26,2471.62,2590.95,2436.38,2518.44,2559.32,2321.45,2538.43,2484.55,2403.47,2571.21,2458.12,2496.55,2508.1,2515.97,2576.19,2607.33,2560.92,2425.46,2532.81,2573.36,2493.85,2497.09,2666.04,2497.49,2497.56,2501.48,2440.82,2449.17,2481.2,2527.77,2484.78,2574.32,2568.93,2323.34,2505.38,2355.11,2468.91,2513.26,2547.13,2508.86,2573.59,2508.09,2369.95,2449.16,2574.48,2499.72,2436.65,2542.34,2477.72,2698.14,2509.22,null,2573.09,2480.11,2541.13,2564.29,2435.99,2690.55,2641.11,2498.91,2574.53,2329.66,2573.21,2468.65,2517.65,2487.66,2492.4,2485.99,2473.55,2420.25,2459.5,2584.75,2281.35,2565.47,2685.06,2449.25,2524.09,2221.1,2521.85,2691.96,2615.96,2455.32,2497.13,2541.12,2487.83,2610.62,2467.4,2373.03,2614.54,2363.52,2482.88,2449.48,2478.81,2447.28,2411.42,2504.66,2440.21,2591.83,2512.79,2473.39,2515.32,2513.79,2428.95,2433.99,2604.99,2546.78,2386.33,2428.25,2471.74,2419.18,2481.53,2545.48,2459.14,2505.7,2523.93,2393.56,2366.36,2514.76,2432.02,2669.09,2605.97,2397.92,2556.62,2461.41,2715.5,2442.71,2380.33,2446.06,2451.12,2521.41,2314.35,2379.31,2541.55,2292.4,2540.36,2286.45,2539.47,2440.05,2474.3,2443.39,2526.22,2472.68,2491.13,null,2559.7,2560.75,2482.61,2503.09,2506.6,2479.24,2485.81,2519.87,2476.75,2329.44,2476.95,2464.33,2459.22,2543.62,2445.17,2513.22,2522.32,2498.3,2432.18,2502.48,2516.95,2512.65,2608.11,2583.36,2508.03,2523.94,2510.76,2442.45,2353.21,2484.27,2361.5,2533.45,2636.81,2415.87,2437.82,2441.8,2483.44,2540.97,2539.59,2512.38,2448.07,2469.13,2531.05,2502.44,2540.35,2728.28,2505.62,2557.58,2590.45,2474.6,2423.57,2727.56,2525.29,2504.86,2477.47,2517.22,2542.64,2491.23,2530.67,2487.01,2455.05,2511.37,2504.44,2463.06,2583.6,2560.61,2368.34,2431.66,2529.08,2415.75,2452.28,2377.97,2523.65,2492.24,2525.16,2474.94,2582.08,2625.2,2517.25,2466.86,2570.5,2575.33,2504.94,2579.84,2432.09,2435.47,2470.21,2574.45,2488.5,2566.79,2501.91,2535.71,2448.37,2314.52,2512.61,2510.72,2535.07,2508.8,2308.45,2483.93,2618.25,2518.47,2453.53,2531.16,2519.26,2472.23,2294.01,2595.82,2403.21,2598.94,2846.44,2551.08,2470.95,2461.82,2502.89,2392.0,2478.51,2470.26,2565.53,2435.9,2544.1,2563.08,2484.44,2443.1,2504.01,2256.12,2462.06,2476.58,2506.43,2500.68,2419.83,2435.34,2537.66,2504.86,2360.04,2545.68,2619.6,2460.05,2504.21,2445.2,2431.35,2519.92,2544.64,2440.93,2528.74,2514.67,2596.63,2453.97,2468.56,2517.5,2414.29,2577.23,2489.15,2525.0,2254.99,2499.68,2420.32,2453.78,2372.79,2474.88,2471.97,2530.63,2528.5,2493.03,2424.13,2522.76,2499.75,2500.13,2522.41,2447.06,2404.13,2488.96,2441.68,2515.91,2453.75,2568.32,2532.66,2440.08,2533.04,2571.18,2515.63,2464.4,2532.45,2510.59,2535.14,2456.75,2664.52,2642.15,2448.82,2598.22,2405.62,2500.26,2518.5,2527.2,2439.59,2480.05,2524.6,2473.1,2545.53,2559.8,2286.09,2456.25,2526.19,2507.22,2417.34,2454.8,2412.76,2483.71,2387.23,2492.27,2437.21,2471.5,2400.4,2479.77,2536.68,2391.2,2593.09,2494.75,2506.56,2572.62,2572.78,2391.56,2526.44,2477.01,2387.42,2541.89,2465.11,2431.93,2461.58,2433.67,2484.9,2368.12,2430.6,2496.01,2531.81,2555.69,2521.25,2440.94,2467.5,2539.58,2470.28,2495.7,2475.5,2508.52,2451.82,2705.0,2540.07,2469.1,2442.49,2501.0,2516.47,2528.73,2538.74,2461.17,2438.56,2370.44,2620.96,2586.86,2526.85,2512.03,2447.43,2577.44,2456.68,2524.91,2426.86,2462.75,2469.59,2539.01,2403.24,2473.67,2457.64,2467.4,2508.88,2498.67,2481.52,2494.58,2445.41,2377.31,2614.51,2420.35,2415.79,2428.2,2498.77,2510.24,2395.39,2347.02,2522.16,2411.35,2517.42,2520.63,2524.57,2547.79,2528.21,2569.45,2351.94,2453.25,2444.87,2435.14,2533.92,2495.16,2481.56,2483.66,2570.44,2434.6,2476.8,2460.59,2423.38,2500.25,2509.62,2590.8,2497.76,2397.99,2449.84,2463.72,2353.23,2622.6,2494.57,2516.35,2553.9,2548.91,2405.53,2361.71,2557.37,2554.21,2488.15,2561.21,2584.79,2467.18,2430.03,2533.95,2500.9,2497.58,2428.85,2441.17,2448.38,2517.09,2570.46,2440.29,2465.42,2506.0,2674.54,2538.56,2551.27,2465.62,2505.27,2488.9,2481.64,2408.28,2422.48,2522.35,2446.47,2577.44,2515.83,2481.32,2409.49,2444.92,2398.66,2519.77,2621.33,2422.0,2596.71,2536.82,2558.28,2531.78,2579.88,2496.09,2541.27,2572.15,2569.69,2327.29,2501.13,2504.96,2490.26,2517.04,2493.13,2483.29,2485.64,2473.48,2573.39,2421.7,2538.44,null,2507.04,2481.37,2588.52,2553.54,2463.23,2524.62,2540.03,2316.01,2266.53,2438.58,2448.68,2491.31,2592.56,2458.09,2304.83,2489.76,2450.29,2509.54,2627.29,2443.66,2500.01,2545.83,2493.2,2563.53,2607.01,2571.06,2501.26,2578.76,2424.52,2533.39,2520.4,2475.59,2595.74,2496.49,2376.27,2450.49,2512.1,2577.58,2398.4,2562.2,2517.21,2432.83,2476.1,2630.42,2450.31,2447.22,2567.48,2532.4,2485.8,2427.2,2573.37,2452.15,2552.96,2605.97,2628.68,2555.27,2552.65,2431.12,2456.06,2518.89,2382.18,2495.58,2522.77,2512.14,2499.04,2438.11,2539.5,2528.73,2510.26,2435.85,2563.28,2574.38,2397.74,2449.84,2365.17,2412.64,2401.5,2558.88,2492.72,2462.09,2539.61,2452.1,2523.21,2502.42,2508.94,2595.7,2618.12,2585.92,2391.87,2464.45,2546.74,2418.41,2453.34,2503.52,2496.32,2479.17,2472.6,2631.92,2611.65,2490.63,2500.85,2441.12,2549.21,2603.92,2534.16,2257.95,2266.0,2474.9,2514.52,2485.73,2449.59,2567.33,2512.44,2491.07,2530.99,2491.01,2501.26,2462.85,2486.94,2501.91,2454.38,2587.37,2548.76,2572.85,2522.03,2473.65,2524.13,2446.38,2233.29,2629.96,2565.73,2439.42,2545.77,null,2521.93,2574.34,2553.64,null,2572.48,2427.36,2487.12,2555.41,2457.42,2502.09,2493.34,2544.85,2563.75,2489.86,2523.78,2413.39,2522.4,2547.2,2567.76,2571.41,2532.3,2506.21,2530.11,2512.77,2486.53,2446.49,2357.09,2501.54,2519.92,2514.38,2405.19,2537.68,2525.84,2459.56,2525.56,2598.77,2510.19,2487.1,2434.42,2673.38,2424.11,2384.04,2467.44,2541.55,2459.87,2507.57,2485.82,2548.79,2500.38,2412.91,2477.25,2396.64,2423.98,2579.49,2484.43,2523.94,2582.12,2517.11,2524.88,2465.32,2488.94,2464.86,2497.33,2525.39,2538.76,2576.98,2429.47,2486.23,2504.01,2520.88,2485.47,2493.56,2583.05,2551.06,2450.89,2563.19,2414.63,2503.18,2415.79,2537.39,2449.21,2503.48,2563.64,2473.14,2588.74,2440.56,2462.34,2532.78,2414.43,2419.55,2453.45,2568.55,2535.93,2527.32,2839.46,2474.55,2459.02,2545.4,2512.63,2472.92,2438.17,2535.43,2516.34,2577.39,2555.88,2410.53,2587.86,2461.08,2565.93,2369.84,2425.3,2541.13,2506.62,2408.85,2566.3,2744.54,2529.79,2551.78,2496.52,2555.01,2472.74,2532.34,2556.35,2406.11,2467.73,2474.97,2534.49,2442.51,2449.85,2540.17,2446.55,2584.52,2529.9,2584.24,2483.2,2494.33,2386.26,2517.44,2527.68,2451.85,2534.68,2538.13,2580.44,2465.51,2559.42,2470.6,2493.72,2538.52,2499.46,2806.91,2424.95,2508.03,2525.74,2493.03,2457.48,2581.64,2594.52,2494.43,2580.25,2480.71,2494.82,2456.82,2593.67,2583.01,2499.15,2465.71,2514.44,2541.6,2484.71,2538.38,2556.95,2504.2,2442.6,2424.39,2560.38,2477.75,2427.14,2475.9,2550.88,2573.94,2521.49,2515.51,2583.56,2493.11,2430.7,2498.09,2516.64,2454.33,2460.97,2634.43,2489.07,2403.89,2420.03,2516.06,2528.67,2384.1,2441.77,2419.25,2599.93,2574.7,2493.21,2517.35,2564.93,2434.79,2470.5,2387.73,2265.6,2516.4,2448.34,2500.05,2458.9,2380.39,2259.49,2481.72,2585.72,2815.31,2524.95,2557.2,2507.02,2477.13,2458.88,2479.73,2489.53,2521.87,2428.64,2534.66,2373.31,2496.67,2553.24,2597.0,2445.56,2574.43,2510.09,2423.75,2504.48,2393.97,2507.66,2497.62,2531.02,2504.81,2536.87,2527.7,2451.5,2509.14,2507.74,2590.62,2449.49,2530.97,2444.69,2451.53,2547.65,2493.72,2383.76,2424.39,2349.85,2538.41,2472.41,2477.37,2417.92,2515.15,2426.76,2482.88,2590.88,2542.56,2548.46,2507.01,2556.64,2432.38,2512.75,2494.39,2480.56,2538.37,2444.67,2499.35,2549.85,2498.02,2459.97,2528.59,2543.1,2505.29,2451.31,2404.67,2546.24,2506.0,2483.77,2493.47,2529.82,2515.46,2512.02,2354.5,2485.99,2588.36,2501.05,2580.67,2608.21,2447.26,2416.09,2430.37,2575.41,2276.93,2585.48,2465.43,2481.99,2531.5,2538.33,2389.91,2611.5,2530.96,2401.59,2499.72,2452.52,2354.24,2437.76,2563.95,2417.43,2558.56,2532.71,2465.54,2525.2,2367.16,2560.99,2555.92,2499.79,2487.91,2447.97,2537.73,2490.6,2488.18,2542.36,2464.98,2498.0,2406.47,2489.06,2521.98,2500.19,2528.55,2515.03,2503.3,2534.87,2466.84,2456.13,2549.42,2326.59,2464.36,2522.55,2379.78,2532.01,2450.76],\"xaxis\":\"x\",\"yaxis\":\"y\",\"type\":\"histogram\"}],                        {\"template\":{\"data\":{\"bar\":[{\"error_x\":{\"color\":\"#2a3f5f\"},\"error_y\":{\"color\":\"#2a3f5f\"},\"marker\":{\"line\":{\"color\":\"#E5ECF6\",\"width\":0.5},\"pattern\":{\"fillmode\":\"overlay\",\"size\":10,\"solidity\":0.2}},\"type\":\"bar\"}],\"barpolar\":[{\"marker\":{\"line\":{\"color\":\"#E5ECF6\",\"width\":0.5},\"pattern\":{\"fillmode\":\"overlay\",\"size\":10,\"solidity\":0.2}},\"type\":\"barpolar\"}],\"carpet\":[{\"aaxis\":{\"endlinecolor\":\"#2a3f5f\",\"gridcolor\":\"white\",\"linecolor\":\"white\",\"minorgridcolor\":\"white\",\"startlinecolor\":\"#2a3f5f\"},\"baxis\":{\"endlinecolor\":\"#2a3f5f\",\"gridcolor\":\"white\",\"linecolor\":\"white\",\"minorgridcolor\":\"white\",\"startlinecolor\":\"#2a3f5f\"},\"type\":\"carpet\"}],\"choropleth\":[{\"colorbar\":{\"outlinewidth\":0,\"ticks\":\"\"},\"type\":\"choropleth\"}],\"contour\":[{\"colorbar\":{\"outlinewidth\":0,\"ticks\":\"\"},\"colorscale\":[[0.0,\"#0d0887\"],[0.1111111111111111,\"#46039f\"],[0.2222222222222222,\"#7201a8\"],[0.3333333333333333,\"#9c179e\"],[0.4444444444444444,\"#bd3786\"],[0.5555555555555556,\"#d8576b\"],[0.6666666666666666,\"#ed7953\"],[0.7777777777777778,\"#fb9f3a\"],[0.8888888888888888,\"#fdca26\"],[1.0,\"#f0f921\"]],\"type\":\"contour\"}],\"contourcarpet\":[{\"colorbar\":{\"outlinewidth\":0,\"ticks\":\"\"},\"type\":\"contourcarpet\"}],\"heatmap\":[{\"colorbar\":{\"outlinewidth\":0,\"ticks\":\"\"},\"colorscale\":[[0.0,\"#0d0887\"],[0.1111111111111111,\"#46039f\"],[0.2222222222222222,\"#7201a8\"],[0.3333333333333333,\"#9c179e\"],[0.4444444444444444,\"#bd3786\"],[0.5555555555555556,\"#d8576b\"],[0.6666666666666666,\"#ed7953\"],[0.7777777777777778,\"#fb9f3a\"],[0.8888888888888888,\"#fdca26\"],[1.0,\"#f0f921\"]],\"type\":\"heatmap\"}],\"heatmapgl\":[{\"colorbar\":{\"outlinewidth\":0,\"ticks\":\"\"},\"colorscale\":[[0.0,\"#0d0887\"],[0.1111111111111111,\"#46039f\"],[0.2222222222222222,\"#7201a8\"],[0.3333333333333333,\"#9c179e\"],[0.4444444444444444,\"#bd3786\"],[0.5555555555555556,\"#d8576b\"],[0.6666666666666666,\"#ed7953\"],[0.7777777777777778,\"#fb9f3a\"],[0.8888888888888888,\"#fdca26\"],[1.0,\"#f0f921\"]],\"type\":\"heatmapgl\"}],\"histogram\":[{\"marker\":{\"pattern\":{\"fillmode\":\"overlay\",\"size\":10,\"solidity\":0.2}},\"type\":\"histogram\"}],\"histogram2d\":[{\"colorbar\":{\"outlinewidth\":0,\"ticks\":\"\"},\"colorscale\":[[0.0,\"#0d0887\"],[0.1111111111111111,\"#46039f\"],[0.2222222222222222,\"#7201a8\"],[0.3333333333333333,\"#9c179e\"],[0.4444444444444444,\"#bd3786\"],[0.5555555555555556,\"#d8576b\"],[0.6666666666666666,\"#ed7953\"],[0.7777777777777778,\"#fb9f3a\"],[0.8888888888888888,\"#fdca26\"],[1.0,\"#f0f921\"]],\"type\":\"histogram2d\"}],\"histogram2dcontour\":[{\"colorbar\":{\"outlinewidth\":0,\"ticks\":\"\"},\"colorscale\":[[0.0,\"#0d0887\"],[0.1111111111111111,\"#46039f\"],[0.2222222222222222,\"#7201a8\"],[0.3333333333333333,\"#9c179e\"],[0.4444444444444444,\"#bd3786\"],[0.5555555555555556,\"#d8576b\"],[0.6666666666666666,\"#ed7953\"],[0.7777777777777778,\"#fb9f3a\"],[0.8888888888888888,\"#fdca26\"],[1.0,\"#f0f921\"]],\"type\":\"histogram2dcontour\"}],\"mesh3d\":[{\"colorbar\":{\"outlinewidth\":0,\"ticks\":\"\"},\"type\":\"mesh3d\"}],\"parcoords\":[{\"line\":{\"colorbar\":{\"outlinewidth\":0,\"ticks\":\"\"}},\"type\":\"parcoords\"}],\"pie\":[{\"automargin\":true,\"type\":\"pie\"}],\"scatter\":[{\"marker\":{\"colorbar\":{\"outlinewidth\":0,\"ticks\":\"\"}},\"type\":\"scatter\"}],\"scatter3d\":[{\"line\":{\"colorbar\":{\"outlinewidth\":0,\"ticks\":\"\"}},\"marker\":{\"colorbar\":{\"outlinewidth\":0,\"ticks\":\"\"}},\"type\":\"scatter3d\"}],\"scattercarpet\":[{\"marker\":{\"colorbar\":{\"outlinewidth\":0,\"ticks\":\"\"}},\"type\":\"scattercarpet\"}],\"scattergeo\":[{\"marker\":{\"colorbar\":{\"outlinewidth\":0,\"ticks\":\"\"}},\"type\":\"scattergeo\"}],\"scattergl\":[{\"marker\":{\"colorbar\":{\"outlinewidth\":0,\"ticks\":\"\"}},\"type\":\"scattergl\"}],\"scattermapbox\":[{\"marker\":{\"colorbar\":{\"outlinewidth\":0,\"ticks\":\"\"}},\"type\":\"scattermapbox\"}],\"scatterpolar\":[{\"marker\":{\"colorbar\":{\"outlinewidth\":0,\"ticks\":\"\"}},\"type\":\"scatterpolar\"}],\"scatterpolargl\":[{\"marker\":{\"colorbar\":{\"outlinewidth\":0,\"ticks\":\"\"}},\"type\":\"scatterpolargl\"}],\"scatterternary\":[{\"marker\":{\"colorbar\":{\"outlinewidth\":0,\"ticks\":\"\"}},\"type\":\"scatterternary\"}],\"surface\":[{\"colorbar\":{\"outlinewidth\":0,\"ticks\":\"\"},\"colorscale\":[[0.0,\"#0d0887\"],[0.1111111111111111,\"#46039f\"],[0.2222222222222222,\"#7201a8\"],[0.3333333333333333,\"#9c179e\"],[0.4444444444444444,\"#bd3786\"],[0.5555555555555556,\"#d8576b\"],[0.6666666666666666,\"#ed7953\"],[0.7777777777777778,\"#fb9f3a\"],[0.8888888888888888,\"#fdca26\"],[1.0,\"#f0f921\"]],\"type\":\"surface\"}],\"table\":[{\"cells\":{\"fill\":{\"color\":\"#EBF0F8\"},\"line\":{\"color\":\"white\"}},\"header\":{\"fill\":{\"color\":\"#C8D4E3\"},\"line\":{\"color\":\"white\"}},\"type\":\"table\"}]},\"layout\":{\"annotationdefaults\":{\"arrowcolor\":\"#2a3f5f\",\"arrowhead\":0,\"arrowwidth\":1},\"autotypenumbers\":\"strict\",\"coloraxis\":{\"colorbar\":{\"outlinewidth\":0,\"ticks\":\"\"}},\"colorscale\":{\"diverging\":[[0,\"#8e0152\"],[0.1,\"#c51b7d\"],[0.2,\"#de77ae\"],[0.3,\"#f1b6da\"],[0.4,\"#fde0ef\"],[0.5,\"#f7f7f7\"],[0.6,\"#e6f5d0\"],[0.7,\"#b8e186\"],[0.8,\"#7fbc41\"],[0.9,\"#4d9221\"],[1,\"#276419\"]],\"sequential\":[[0.0,\"#0d0887\"],[0.1111111111111111,\"#46039f\"],[0.2222222222222222,\"#7201a8\"],[0.3333333333333333,\"#9c179e\"],[0.4444444444444444,\"#bd3786\"],[0.5555555555555556,\"#d8576b\"],[0.6666666666666666,\"#ed7953\"],[0.7777777777777778,\"#fb9f3a\"],[0.8888888888888888,\"#fdca26\"],[1.0,\"#f0f921\"]],\"sequentialminus\":[[0.0,\"#0d0887\"],[0.1111111111111111,\"#46039f\"],[0.2222222222222222,\"#7201a8\"],[0.3333333333333333,\"#9c179e\"],[0.4444444444444444,\"#bd3786\"],[0.5555555555555556,\"#d8576b\"],[0.6666666666666666,\"#ed7953\"],[0.7777777777777778,\"#fb9f3a\"],[0.8888888888888888,\"#fdca26\"],[1.0,\"#f0f921\"]]},\"colorway\":[\"#636efa\",\"#EF553B\",\"#00cc96\",\"#ab63fa\",\"#FFA15A\",\"#19d3f3\",\"#FF6692\",\"#B6E880\",\"#FF97FF\",\"#FECB52\"],\"font\":{\"color\":\"#2a3f5f\"},\"geo\":{\"bgcolor\":\"white\",\"lakecolor\":\"white\",\"landcolor\":\"#E5ECF6\",\"showlakes\":true,\"showland\":true,\"subunitcolor\":\"white\"},\"hoverlabel\":{\"align\":\"left\"},\"hovermode\":\"closest\",\"mapbox\":{\"style\":\"light\"},\"paper_bgcolor\":\"white\",\"plot_bgcolor\":\"#E5ECF6\",\"polar\":{\"angularaxis\":{\"gridcolor\":\"white\",\"linecolor\":\"white\",\"ticks\":\"\"},\"bgcolor\":\"#E5ECF6\",\"radialaxis\":{\"gridcolor\":\"white\",\"linecolor\":\"white\",\"ticks\":\"\"}},\"scene\":{\"xaxis\":{\"backgroundcolor\":\"#E5ECF6\",\"gridcolor\":\"white\",\"gridwidth\":2,\"linecolor\":\"white\",\"showbackground\":true,\"ticks\":\"\",\"zerolinecolor\":\"white\"},\"yaxis\":{\"backgroundcolor\":\"#E5ECF6\",\"gridcolor\":\"white\",\"gridwidth\":2,\"linecolor\":\"white\",\"showbackground\":true,\"ticks\":\"\",\"zerolinecolor\":\"white\"},\"zaxis\":{\"backgroundcolor\":\"#E5ECF6\",\"gridcolor\":\"white\",\"gridwidth\":2,\"linecolor\":\"white\",\"showbackground\":true,\"ticks\":\"\",\"zerolinecolor\":\"white\"}},\"shapedefaults\":{\"line\":{\"color\":\"#2a3f5f\"}},\"ternary\":{\"aaxis\":{\"gridcolor\":\"white\",\"linecolor\":\"white\",\"ticks\":\"\"},\"baxis\":{\"gridcolor\":\"white\",\"linecolor\":\"white\",\"ticks\":\"\"},\"bgcolor\":\"#E5ECF6\",\"caxis\":{\"gridcolor\":\"white\",\"linecolor\":\"white\",\"ticks\":\"\"}},\"title\":{\"x\":0.05},\"xaxis\":{\"automargin\":true,\"gridcolor\":\"white\",\"linecolor\":\"white\",\"ticks\":\"\",\"title\":{\"standoff\":15},\"zerolinecolor\":\"white\",\"zerolinewidth\":2},\"yaxis\":{\"automargin\":true,\"gridcolor\":\"white\",\"linecolor\":\"white\",\"ticks\":\"\",\"title\":{\"standoff\":15},\"zerolinecolor\":\"white\",\"zerolinewidth\":2}}},\"xaxis\":{\"anchor\":\"y\",\"domain\":[0.0,1.0],\"title\":{\"text\":\"1\"}},\"yaxis\":{\"anchor\":\"x\",\"domain\":[0.0,1.0],\"title\":{\"text\":\"count\"}},\"legend\":{\"tracegroupgap\":0},\"margin\":{\"t\":60},\"barmode\":\"relative\"},                        {\"responsive\": true}                    ).then(function(){\n",
       "                            \n",
       "var gd = document.getElementById('e28f5376-7da3-4b9c-9e99-944380e8a9bb');\n",
       "var x = new MutationObserver(function (mutations, observer) {{\n",
       "        var display = window.getComputedStyle(gd).display;\n",
       "        if (!display || display === 'none') {{\n",
       "            console.log([gd, 'removed!']);\n",
       "            Plotly.purge(gd);\n",
       "            observer.disconnect();\n",
       "        }}\n",
       "}});\n",
       "\n",
       "// Listen for the removal of the full notebook cells\n",
       "var notebookContainer = gd.closest('#notebook-container');\n",
       "if (notebookContainer) {{\n",
       "    x.observe(notebookContainer, {childList: true});\n",
       "}}\n",
       "\n",
       "// Listen for the clearing of the current output cell\n",
       "var outputEl = gd.closest('.output');\n",
       "if (outputEl) {{\n",
       "    x.observe(outputEl, {childList: true});\n",
       "}}\n",
       "\n",
       "                        })                };                });            </script>        </div>"
      ]
     },
     "metadata": {},
     "output_type": "display_data"
    }
   ],
   "source": [
    "px.histogram(df,x=\"1\")"
   ]
  },
  {
   "cell_type": "markdown",
   "metadata": {
    "jupyter": {
     "source_hidden": true
    },
    "tags": []
   },
   "source": [
    "### Removing Sparse Features (10 points)\n",
    "\n",
    "We can remove the features that have more than 100 missing entries. \n",
    "\n",
    "You can find the location where a condition is met in a Pandas array using `data.loc[:,:]` with traditional numpy-like indexing"
   ]
  },
  {
   "cell_type": "code",
   "execution_count": 8,
   "metadata": {
    "tags": []
   },
   "outputs": [
    {
     "data": {
      "text/plain": [
       "0       3030.93\n",
       "1       3095.78\n",
       "2       2932.61\n",
       "3       2988.72\n",
       "4       3032.24\n",
       "         ...   \n",
       "1562    2899.41\n",
       "1563    3052.31\n",
       "1564    2978.81\n",
       "1565    2894.92\n",
       "1566    2944.92\n",
       "Name: 0, Length: 1567, dtype: float64"
      ]
     },
     "execution_count": 8,
     "metadata": {},
     "output_type": "execute_result"
    }
   ],
   "source": [
    "df.iloc[:,1]"
   ]
  },
  {
   "cell_type": "markdown",
   "metadata": {
    "tags": []
   },
   "source": [
    "Remove these columns in the dataframe using the `.drop()` method, make sure inplace is set to True"
   ]
  },
  {
   "cell_type": "code",
   "execution_count": 9,
   "metadata": {},
   "outputs": [
    {
     "name": "stdout",
     "output_type": "stream",
     "text": [
      "52\n"
     ]
    }
   ],
   "source": [
    "i=0\n",
    "count=0\n",
    "for i in range(len(nan_count_column)):\n",
    "    if nan_count_column[i]>100:\n",
    "        count+=1\n",
    "        df.drop(labels=f\"{i}\",axis=1, inplace=True)       \n",
    "print(count)"
   ]
  },
  {
   "cell_type": "markdown",
   "metadata": {
    "jupyter": {
     "source_hidden": true
    },
    "tags": []
   },
   "source": [
    "It is useful to check the shape to make sure that the operation worked"
   ]
  },
  {
   "cell_type": "code",
   "execution_count": 10,
   "metadata": {},
   "outputs": [
    {
     "data": {
      "text/plain": [
       "(1567, 540)"
      ]
     },
     "execution_count": 10,
     "metadata": {},
     "output_type": "execute_result"
    }
   ],
   "source": [
    "column_names = df.columns.values\n",
    "df.shape"
   ]
  },
  {
   "cell_type": "markdown",
   "metadata": {
    "tags": []
   },
   "source": [
    "It is useful to see how many data points have missing information\n",
    "\n",
    "Hint: you can change the axis of the `isna()`\n",
    "\n",
    "You can use the built-in method `value_counts()` to view the number of samples with bad rows."
   ]
  },
  {
   "cell_type": "code",
   "execution_count": 100,
   "metadata": {},
   "outputs": [
    {
     "name": "stdout",
     "output_type": "stream",
     "text": [
      "42\n"
     ]
    }
   ],
   "source": [
    "df_nan = df.isna()\n",
    "i=0\n",
    "count=0\n",
    "for i in range(len(df.index.values)):\n",
    "    if df_nan.iloc[i].value_counts()[0].item() < 500:\n",
    "        df.drop(labels=f\"{i}\",axis=1, inplace=True)\n",
    "        count+=1\n",
    "print(count)"
   ]
  },
  {
   "cell_type": "code",
   "execution_count": 94,
   "metadata": {},
   "outputs": [
    {
     "data": {
      "text/plain": [
       "Time         False\n",
       "0            False\n",
       "1            False\n",
       "2            False\n",
       "3            False\n",
       "             ...  \n",
       "586          False\n",
       "587          False\n",
       "588          False\n",
       "589          False\n",
       "Pass/Fail    False\n",
       "Name: 1455, Length: 540, dtype: bool"
      ]
     },
     "execution_count": 94,
     "metadata": {},
     "output_type": "execute_result"
    }
   ],
   "source": [
    "df_nan.iloc[1455]"
   ]
  },
  {
   "cell_type": "markdown",
   "metadata": {},
   "source": [
    "Since it is not that many we can remove these rows.\n",
    "* you can just index the data that you want using the built-in method `.loc()`"
   ]
  },
  {
   "cell_type": "code",
   "execution_count": null,
   "metadata": {},
   "outputs": [],
   "source": [
    "# Your code goes here"
   ]
  },
  {
   "cell_type": "markdown",
   "metadata": {},
   "source": [
    "You should grab the features and labels you can do this by:\n",
    "1. Using the Pandas `drop` built-in method, you can also drop the time\n",
    "2. You should set the the prediction to be if the dataset passed or failed\n",
    "3. It is a good idea to replace the -1 values with 0 using the pandas built-in method `.replace`"
   ]
  },
  {
   "cell_type": "code",
   "execution_count": null,
   "metadata": {},
   "outputs": [],
   "source": [
    "# Your code goes here"
   ]
  },
  {
   "cell_type": "markdown",
   "metadata": {},
   "source": [
    "## Test-train split (5 points)\n",
    "\n",
    "Use the `train_test_split` method to split the data.\n",
    "\n",
    "For consistency make the `test_size = .3`, and the `random_state = 42`."
   ]
  },
  {
   "cell_type": "code",
   "execution_count": null,
   "metadata": {},
   "outputs": [],
   "source": [
    "# Your code goes here"
   ]
  },
  {
   "cell_type": "markdown",
   "metadata": {},
   "source": [
    "## Machine Learning (5 points)\n",
    "\n",
    "It is always good to try a quick machine learning model. If your data is simple it might just work.\n",
    "\n",
    "* Implement a `LogisticRegression` from scikit-learn\n",
    "* Fit the model"
   ]
  },
  {
   "cell_type": "code",
   "execution_count": null,
   "metadata": {},
   "outputs": [],
   "source": [
    "# Your code goes here"
   ]
  },
  {
   "cell_type": "markdown",
   "metadata": {},
   "source": [
    "It is always a good idea to see if the model fit the data well.\n",
    "* uses the `.predict()` method to predict on the training data\n",
    "* use the sklearn function `classification_report` to evaluate the model\n",
    "* use the sklearn function `confusion_matrix`, you can plot this in plotly using `px.imshow()`\n",
    "\n",
    "You will reuse these lines of code to visualize your results"
   ]
  },
  {
   "cell_type": "code",
   "execution_count": null,
   "metadata": {},
   "outputs": [],
   "source": [
    "# Your code goes here"
   ]
  },
  {
   "cell_type": "markdown",
   "metadata": {},
   "source": [
    "Now use the same approach to visualize the test results"
   ]
  },
  {
   "cell_type": "code",
   "execution_count": null,
   "metadata": {},
   "outputs": [],
   "source": [
    "# Your code goes here"
   ]
  },
  {
   "cell_type": "markdown",
   "metadata": {},
   "source": [
    "<span style=\"color:blue\">Question: Describe what might be wrong with this model, does it provide any practical value? (5 points)</span>"
   ]
  },
  {
   "cell_type": "markdown",
   "metadata": {},
   "source": [
    "### Try Another Model (5 points)\n",
    "\n",
    "It could be that we just selected a bad model for the problem, try with a random forest classifier as implemented in scikit-learn\n",
    "* Instantiate the model\n",
    "* Fit the data"
   ]
  },
  {
   "cell_type": "code",
   "execution_count": null,
   "metadata": {},
   "outputs": [],
   "source": [
    "# Your code goes here"
   ]
  },
  {
   "cell_type": "markdown",
   "metadata": {},
   "source": [
    "Validate the model on the training and testing dataset"
   ]
  },
  {
   "cell_type": "code",
   "execution_count": null,
   "metadata": {},
   "outputs": [],
   "source": [
    "# Your code goes here"
   ]
  },
  {
   "cell_type": "code",
   "execution_count": null,
   "metadata": {},
   "outputs": [],
   "source": [
    "# Your code goes here"
   ]
  },
  {
   "cell_type": "markdown",
   "metadata": {},
   "source": [
    "That still does not do anything meaningful"
   ]
  },
  {
   "cell_type": "markdown",
   "metadata": {},
   "source": [
    "## Normalizing the Data (10 points)\n",
    "\n",
    "Machine learning models prefer features with a mean of 0 and a standard deviation of 1. This makes the optimization easier.\n",
    "\n",
    "1. Make a histogram of the mean and standard deviation you can use the built-in method `.mean()` and `.std()`\n",
    "2. You can plot this using `px.histogram`"
   ]
  },
  {
   "cell_type": "code",
   "execution_count": null,
   "metadata": {},
   "outputs": [],
   "source": [
    "# Your code goes here"
   ]
  },
  {
   "cell_type": "code",
   "execution_count": null,
   "metadata": {},
   "outputs": [],
   "source": [
    "# Your code goes here"
   ]
  },
  {
   "cell_type": "markdown",
   "metadata": {},
   "source": [
    "Scikit-learn has a utility function for conducting standard scalars `StandardScaler()`\n",
    "\n",
    "We could implement the standard scaler in steps but it is more convenient to do it with a pipeline"
   ]
  },
  {
   "cell_type": "markdown",
   "metadata": {},
   "source": [
    "### Scaled Logistic Regression (5 points)\n",
    "\n",
    "1. Use the `Pipeline` utility to create a machine learning model that:\n",
    "    - Computes the standard scalar of the data\n",
    "    - Conducts logistic regression\n",
    "2. Fit the model"
   ]
  },
  {
   "cell_type": "code",
   "execution_count": null,
   "metadata": {},
   "outputs": [],
   "source": [
    "# Your code goes here"
   ]
  },
  {
   "cell_type": "markdown",
   "metadata": {},
   "source": [
    "Visualize the results as you have done before"
   ]
  },
  {
   "cell_type": "code",
   "execution_count": null,
   "metadata": {},
   "outputs": [],
   "source": [
    "# Your code goes here"
   ]
  },
  {
   "cell_type": "code",
   "execution_count": null,
   "metadata": {},
   "outputs": [],
   "source": [
    "# Your code goes here"
   ]
  },
  {
   "cell_type": "markdown",
   "metadata": {},
   "source": [
    "### Standard Scaled Random Forest (5 points)"
   ]
  },
  {
   "cell_type": "markdown",
   "metadata": {},
   "source": [
    "1. Use the `Pipeline` utility to create a machine learning model that:\n",
    "    - Computes the standard scalar of the data\n",
    "    - Conducts Random Forest\n",
    "2. Fit the model"
   ]
  },
  {
   "cell_type": "code",
   "execution_count": null,
   "metadata": {},
   "outputs": [],
   "source": [
    "# Your code goes here"
   ]
  },
  {
   "cell_type": "code",
   "execution_count": null,
   "metadata": {},
   "outputs": [],
   "source": [
    "# Your code goes here"
   ]
  },
  {
   "cell_type": "markdown",
   "metadata": {},
   "source": [
    "<span style=\"color:blue\"> Question: Explain what is going on with the random forest model? Why are the results so bad? (5 points)</span>"
   ]
  },
  {
   "cell_type": "markdown",
   "metadata": {},
   "source": [
    "## Feature Reduction\n",
    "\n",
    "### Logistic Regression (5 Points)\n",
    "\n",
    "We can use PCA to reduce the number of features such that highly covariant features are combined. This helps deal with the curse of dimensionality.\n",
    "\n",
    "Add PCA to the pipeline for the logistic regression, and visualize the results as we have done before"
   ]
  },
  {
   "cell_type": "code",
   "execution_count": null,
   "metadata": {},
   "outputs": [],
   "source": [
    "# Your code goes here to build and fit the model"
   ]
  },
  {
   "cell_type": "code",
   "execution_count": null,
   "metadata": {},
   "outputs": [],
   "source": [
    "# Your code goes here to validate the training performance"
   ]
  },
  {
   "cell_type": "code",
   "execution_count": null,
   "metadata": {},
   "outputs": [],
   "source": [
    "# Your code goes here to validate the test performance"
   ]
  },
  {
   "cell_type": "markdown",
   "metadata": {},
   "source": [
    "### Random Forest (5 points)\n",
    "\n",
    "Add PCA to the pipeline for the logistic regression, and visualize the results as we have done before"
   ]
  },
  {
   "cell_type": "code",
   "execution_count": null,
   "metadata": {},
   "outputs": [],
   "source": [
    "# Your code goes here to build and fit the feature reduced random forest classifier"
   ]
  },
  {
   "cell_type": "code",
   "execution_count": null,
   "metadata": {},
   "outputs": [],
   "source": [
    "# Your code goes here to visualize the training results"
   ]
  },
  {
   "cell_type": "code",
   "execution_count": null,
   "metadata": {},
   "outputs": [],
   "source": [
    "# Your code goes here to visualize the test results"
   ]
  },
  {
   "cell_type": "markdown",
   "metadata": {},
   "source": [
    "<span style=\"color:blue\"> Question: Explain if adding PCA helped, explain why you think PCA helped or did not help. (5 points)</span> "
   ]
  },
  {
   "cell_type": "markdown",
   "metadata": {},
   "source": [
    "## Hyperparameter Tuning \n",
    "\n",
    "To improve a machine learning model you might want to tune the hyperparameters.\n",
    "\n",
    "Scikit-learn has automated tools for cross-validation and hyperparameter search. You can just define a dictionary of values that you want to search and it will try all of the fits returning the best results"
   ]
  },
  {
   "cell_type": "markdown",
   "metadata": {},
   "source": [
    "### Logistic Regression (7.5 points)\n",
    "\n",
    "Conduct build a pipeline and build a parameter grid to search the following hyperparameters:\n",
    "1. C = [ 0.001, .01, .1, 1, 10, 100]\n",
    "2. penalty = ['l1', 'l2']\n",
    "3. class_weight = ['balanced']\n",
    "4. solver = ['saga']\n",
    "5. PCA n_components = [2, 3, 4, 5, 8, 10]\n",
    "\n",
    "To conduct the fitting you should build the classifier with GridSearchCV. This conducts a grid search with cross-folds. See the documentation for more information. \n",
    "\n",
    "For the GridSearchCV set the scoring to 'f1', cv=5. If you want to monitor the status you can set verbose=10. "
   ]
  },
  {
   "cell_type": "code",
   "execution_count": null,
   "metadata": {},
   "outputs": [],
   "source": [
    "# Your code goes here"
   ]
  },
  {
   "cell_type": "markdown",
   "metadata": {},
   "source": [
    "You should look and see what the best estimator was from the search. \n",
    "\n",
    "You can use the `best_estimator_` method"
   ]
  },
  {
   "cell_type": "code",
   "execution_count": null,
   "metadata": {},
   "outputs": [],
   "source": [
    "# your code to evaluate the training process"
   ]
  },
  {
   "cell_type": "code",
   "execution_count": null,
   "metadata": {},
   "outputs": [],
   "source": [
    "# Your code goes here for validating the model"
   ]
  },
  {
   "cell_type": "markdown",
   "metadata": {},
   "source": [
    "### Random Forest Classifier (7.5 points)\n",
    "\n",
    "Conduct build a pipeline and build a parameter grid to search the following hyperparameters:\n",
    "1. Random Forest Criterion = [ \"gini\", \"entropy\", \"log_loss\"]\n",
    "2. max depth = [4, 8, 12]\n",
    "3. max features = ['sqrt', 'log2']\n",
    "4. PCA n_components = [4, 8, 10, 20]\n",
    "\n",
    "To conduct the fitting you should build the classifier with GridSearchCV. This conducts a grid search with cross-folds. See the documentation for more information. \n",
    "\n",
    "For the GridSearchCV set the scoring to 'f1', cv=5. If you want to monitor the status you can set verbose=10. "
   ]
  },
  {
   "cell_type": "code",
   "execution_count": null,
   "metadata": {},
   "outputs": [],
   "source": [
    "# Your code goes here"
   ]
  },
  {
   "cell_type": "code",
   "execution_count": null,
   "metadata": {},
   "outputs": [],
   "source": [
    "# Your code to show the best estimator goes here"
   ]
  },
  {
   "cell_type": "code",
   "execution_count": null,
   "metadata": {},
   "outputs": [],
   "source": [
    "# Your code to evaluate the training process"
   ]
  },
  {
   "cell_type": "code",
   "execution_count": null,
   "metadata": {},
   "outputs": [],
   "source": [
    "# Your code to evaluate the performance of the model"
   ]
  },
  {
   "cell_type": "markdown",
   "metadata": {},
   "source": [
    "## Balancing in the Data (10 points)\n",
    "\n",
    "This is a classification problem, it is useful to see if the classes are balanced as this affects model training. \n",
    "\n",
    "If you have a highly unbalanced dataset you can train a model to predict the most common classes but getting the uncommon classes wrong has little effect on the model performance metrics.\n",
    "\n",
    "View the ratio of the class outcomes. \n",
    "\n",
    "The class outcomes are stored in the ['pass/fail'] column, you can view the values and counts using the `.value_count()` built-in method"
   ]
  },
  {
   "cell_type": "code",
   "execution_count": null,
   "metadata": {},
   "outputs": [],
   "source": [
    "# Your code goes here"
   ]
  },
  {
   "cell_type": "markdown",
   "metadata": {},
   "source": [
    "Use `SMOTE(`)` to balance the dataset"
   ]
  },
  {
   "cell_type": "code",
   "execution_count": null,
   "metadata": {},
   "outputs": [],
   "source": [
    "# Your code goes here"
   ]
  },
  {
   "cell_type": "code",
   "execution_count": null,
   "metadata": {},
   "outputs": [],
   "source": [
    "# Check that this worked as expected"
   ]
  },
  {
   "cell_type": "markdown",
   "metadata": {},
   "source": [
    "Using the balanced dataset repeat the analysis done with the hyperparameter search\n",
    "\n",
    "### Logistic Regression (5 points)"
   ]
  },
  {
   "cell_type": "code",
   "execution_count": null,
   "metadata": {},
   "outputs": [],
   "source": [
    "# Your fitting code here"
   ]
  },
  {
   "cell_type": "code",
   "execution_count": null,
   "metadata": {},
   "outputs": [],
   "source": [
    "# Your code to show the best estimator"
   ]
  },
  {
   "cell_type": "code",
   "execution_count": null,
   "metadata": {},
   "outputs": [],
   "source": [
    "# Your code to check the training process"
   ]
  },
  {
   "cell_type": "code",
   "execution_count": null,
   "metadata": {},
   "outputs": [],
   "source": [
    "# Your code to validate the training process"
   ]
  },
  {
   "cell_type": "markdown",
   "metadata": {},
   "source": [
    "### Random Forest Classifier (5 Points)"
   ]
  },
  {
   "cell_type": "code",
   "execution_count": null,
   "metadata": {},
   "outputs": [],
   "source": [
    "# Your code to conduct the classifier"
   ]
  },
  {
   "cell_type": "code",
   "execution_count": null,
   "metadata": {},
   "outputs": [],
   "source": [
    "# Your code to show the best estimator"
   ]
  },
  {
   "cell_type": "code",
   "execution_count": null,
   "metadata": {},
   "outputs": [],
   "source": [
    "# Your code to validate the training process"
   ]
  },
  {
   "cell_type": "code",
   "execution_count": null,
   "metadata": {},
   "outputs": [],
   "source": [
    "# Your code to validate the model performance"
   ]
  },
  {
   "cell_type": "markdown",
   "metadata": {},
   "source": [
    "<span style=\"color:blue\">Question: Given that you are trying to predict and determine the underlying features responsible for producing products that \"pass\" which model would be better and why? (5 points)</span>"
   ]
  },
  {
   "cell_type": "markdown",
   "metadata": {},
   "source": [
    "## Bonus (10 Points): \n",
    "\n",
    "Use any method available to you to get a better validation F1 score for the Pass Classification"
   ]
  },
  {
   "cell_type": "markdown",
   "metadata": {},
   "source": [
    "A trick to always get better results is to use ensemble methods"
   ]
  }
 ],
 "metadata": {
  "kernelspec": {
   "display_name": "Python 3 (ipykernel)",
   "language": "python",
   "name": "python3"
  },
  "language_info": {
   "codemirror_mode": {
    "name": "ipython",
    "version": 3
   },
   "file_extension": ".py",
   "mimetype": "text/x-python",
   "name": "python",
   "nbconvert_exporter": "python",
   "pygments_lexer": "ipython3",
   "version": "3.9.12"
  },
  "vscode": {
   "interpreter": {
    "hash": "c475b5beda6d617ffb7b2fcf453fbe132321ffc1e1f96c06cf49356e1e7f42cb"
   }
  }
 },
 "nbformat": 4,
 "nbformat_minor": 4
}
